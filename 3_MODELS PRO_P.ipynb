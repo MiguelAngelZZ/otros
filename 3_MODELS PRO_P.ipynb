{
 "cells": [
  {
   "cell_type": "markdown",
   "metadata": {},
   "source": [
    "# modelos"
   ]
  },
  {
   "cell_type": "code",
   "execution_count": 1,
   "metadata": {},
   "outputs": [
    {
     "name": "stderr",
     "output_type": "stream",
     "text": [
      "C:\\Users\\miavila\\AppData\\Roaming\\Python\\Python39\\site-packages\\statsmodels\\compat\\pandas.py:61: FutureWarning: pandas.Int64Index is deprecated and will be removed from pandas in a future version. Use pandas.Index with the appropriate dtype instead.\n",
      "  from pandas import Int64Index as NumericIndex\n"
     ]
    }
   ],
   "source": [
    "import pandas as pd\n",
    "import numpy as np\n",
    "\n",
    "from turtle import color\n",
    "import plotly.graph_objects as go\n",
    "import plotly.express as px\n",
    "\n",
    "import matplotlib.pyplot as plt\n",
    "import matplotlib_inline\n",
    "import statsmodels as sm\n",
    "from statsmodels.tsa.stattools import adfuller\n",
    "\n",
    "from sklearn.model_selection import train_test_split as skl\n",
    "\n",
    "from sklearn.preprocessing import PolynomialFeatures, StandardScaler ### preprocesar los datos\n",
    "from sklearn.model_selection import cross_val_score #### NO SE USA\n",
    "from sklearn.model_selection import GridSearchCV #### Validación cruzada\n",
    "#pip install pmdarima --quiet\n",
    "import pmdarima as pm\n",
    "\n",
    "from statsmodels.tsa.statespace.sarimax import SARIMAX"
   ]
  },
  {
   "cell_type": "code",
   "execution_count": 3,
   "metadata": {},
   "outputs": [],
   "source": [
    "kernel='C:/Users/miavila/Documents/U/PROYECTO P/basef/'\n",
    "df=pd.read_excel(kernel + '4.total agru_hour.xlsx')"
   ]
  },
  {
   "cell_type": "code",
   "execution_count": 4,
   "metadata": {},
   "outputs": [],
   "source": [
    "df=pd.DataFrame(df,columns=['FechaT', 'Fecha', 'Operación_N', 'sumRecibidas', 'festivo','festividades',\n",
    "       'MesN', 'Dia_MesN', 'Dia_SemN', 'Hora24'])"
   ]
  },
  {
   "cell_type": "code",
   "execution_count": 5,
   "metadata": {},
   "outputs": [],
   "source": [
    "UPN=df[df['Operación_N']=='U_Persona_Natural']\n",
    "UPN=UPN.sort_values(by='FechaT') #ascending=False \n",
    "UPN.index = range(UPN.shape[0])"
   ]
  },
  {
   "cell_type": "code",
   "execution_count": 6,
   "metadata": {},
   "outputs": [],
   "source": [
    "P=df[df['Operación_N']=='Pensilvania']\n",
    "#\n",
    "#\n",
    "BIO=df[df['Operación_N']=='Biometria']\n",
    "CON=df[df['Operación_N']=='Conservacion']\n",
    "EP=df[df['Operación_N']=='Ejecutivo Premium']\n",
    "EB=df[df['Operación_N']=='Especializados Bloqueos']\n",
    "EBF=df[df['Operación_N']=='Especializados Bloqueos F']\n",
    "ME=df[df['Operación_N']=='Moneda Extranjera - Home']\n",
    "OR=df[df['Operación_N']=='Orquestador']\n",
    "PJH=df[df['Operación_N']=='Persona Juridica - Home']\n",
    "#\n",
    "#\n",
    "CAV=df[df['Operación_N']=='CAV']\n",
    "VIP=df[df['Operación_N']=='VIP PJ']"
   ]
  },
  {
   "cell_type": "markdown",
   "metadata": {},
   "source": [
    "# Ajuste el tipo de dato ind64 a ind32."
   ]
  },
  {
   "cell_type": "code",
   "execution_count": null,
   "metadata": {},
   "outputs": [],
   "source": [
    "UPN['sumRecibidas'] = UPN['sumRecibidas'].astype(np.int32)\n",
    "UPN['festivo'] = UPN['festivo'].astype(np.int32)\n",
    "UPN['MesN'] = UPN['MesN'].astype(np.int32)\n",
    "UPN['Dia_MesN'] = UPN['Dia_MesN'].astype(np.int32)\n",
    "UPN['Dia_SemN'] = UPN['Dia_SemN'].astype(np.int32)\n",
    "UPN['Hora24']=UPN['Hora24'].astype(np.int32)\n",
    "UPN['Jornada5']=UPN['Jornada5'].astype(np.int32)\n",
    "UPN['Jornada6']=UPN['Jornada6'].astype(np.int32)"
   ]
  },
  {
   "cell_type": "code",
   "execution_count": null,
   "metadata": {},
   "outputs": [
    {
     "data": {
      "text/html": [
       "<div>\n",
       "<style scoped>\n",
       "    .dataframe tbody tr th:only-of-type {\n",
       "        vertical-align: middle;\n",
       "    }\n",
       "\n",
       "    .dataframe tbody tr th {\n",
       "        vertical-align: top;\n",
       "    }\n",
       "\n",
       "    .dataframe thead th {\n",
       "        text-align: right;\n",
       "    }\n",
       "</style>\n",
       "<table border=\"1\" class=\"dataframe\">\n",
       "  <thead>\n",
       "    <tr style=\"text-align: right;\">\n",
       "      <th></th>\n",
       "      <th>FechaT</th>\n",
       "      <th>Hora24</th>\n",
       "      <th>Operación_N</th>\n",
       "      <th>sumRecibidas</th>\n",
       "      <th>festivo</th>\n",
       "      <th>MesN</th>\n",
       "      <th>Dia_MesN</th>\n",
       "      <th>Dia_SemN</th>\n",
       "      <th>Jornada5</th>\n",
       "      <th>Jornada6</th>\n",
       "    </tr>\n",
       "  </thead>\n",
       "  <tbody>\n",
       "    <tr>\n",
       "      <th>0</th>\n",
       "      <td>2022-01-01 00:00:00</td>\n",
       "      <td>0</td>\n",
       "      <td>U_Persona_Natural</td>\n",
       "      <td>0</td>\n",
       "      <td>1</td>\n",
       "      <td>1</td>\n",
       "      <td>1</td>\n",
       "      <td>6</td>\n",
       "      <td>1</td>\n",
       "      <td>1</td>\n",
       "    </tr>\n",
       "    <tr>\n",
       "      <th>1</th>\n",
       "      <td>2022-01-01 01:00:00</td>\n",
       "      <td>1</td>\n",
       "      <td>U_Persona_Natural</td>\n",
       "      <td>0</td>\n",
       "      <td>1</td>\n",
       "      <td>1</td>\n",
       "      <td>1</td>\n",
       "      <td>6</td>\n",
       "      <td>1</td>\n",
       "      <td>1</td>\n",
       "    </tr>\n",
       "    <tr>\n",
       "      <th>2</th>\n",
       "      <td>2022-01-01 02:00:00</td>\n",
       "      <td>2</td>\n",
       "      <td>U_Persona_Natural</td>\n",
       "      <td>0</td>\n",
       "      <td>1</td>\n",
       "      <td>1</td>\n",
       "      <td>1</td>\n",
       "      <td>6</td>\n",
       "      <td>1</td>\n",
       "      <td>1</td>\n",
       "    </tr>\n",
       "    <tr>\n",
       "      <th>3</th>\n",
       "      <td>2022-01-01 03:00:00</td>\n",
       "      <td>3</td>\n",
       "      <td>U_Persona_Natural</td>\n",
       "      <td>0</td>\n",
       "      <td>1</td>\n",
       "      <td>1</td>\n",
       "      <td>1</td>\n",
       "      <td>6</td>\n",
       "      <td>1</td>\n",
       "      <td>1</td>\n",
       "    </tr>\n",
       "    <tr>\n",
       "      <th>4</th>\n",
       "      <td>2022-01-01 04:00:00</td>\n",
       "      <td>4</td>\n",
       "      <td>U_Persona_Natural</td>\n",
       "      <td>0</td>\n",
       "      <td>1</td>\n",
       "      <td>1</td>\n",
       "      <td>1</td>\n",
       "      <td>6</td>\n",
       "      <td>1</td>\n",
       "      <td>1</td>\n",
       "    </tr>\n",
       "    <tr>\n",
       "      <th>...</th>\n",
       "      <td>...</td>\n",
       "      <td>...</td>\n",
       "      <td>...</td>\n",
       "      <td>...</td>\n",
       "      <td>...</td>\n",
       "      <td>...</td>\n",
       "      <td>...</td>\n",
       "      <td>...</td>\n",
       "      <td>...</td>\n",
       "      <td>...</td>\n",
       "    </tr>\n",
       "    <tr>\n",
       "      <th>5827</th>\n",
       "      <td>2022-08-31 19:00:00</td>\n",
       "      <td>19</td>\n",
       "      <td>U_Persona_Natural</td>\n",
       "      <td>698</td>\n",
       "      <td>0</td>\n",
       "      <td>8</td>\n",
       "      <td>31</td>\n",
       "      <td>3</td>\n",
       "      <td>5</td>\n",
       "      <td>5</td>\n",
       "    </tr>\n",
       "    <tr>\n",
       "      <th>5828</th>\n",
       "      <td>2022-08-31 20:00:00</td>\n",
       "      <td>20</td>\n",
       "      <td>U_Persona_Natural</td>\n",
       "      <td>463</td>\n",
       "      <td>0</td>\n",
       "      <td>8</td>\n",
       "      <td>31</td>\n",
       "      <td>3</td>\n",
       "      <td>5</td>\n",
       "      <td>5</td>\n",
       "    </tr>\n",
       "    <tr>\n",
       "      <th>5829</th>\n",
       "      <td>2022-08-31 21:00:00</td>\n",
       "      <td>21</td>\n",
       "      <td>U_Persona_Natural</td>\n",
       "      <td>346</td>\n",
       "      <td>0</td>\n",
       "      <td>8</td>\n",
       "      <td>31</td>\n",
       "      <td>3</td>\n",
       "      <td>5</td>\n",
       "      <td>5</td>\n",
       "    </tr>\n",
       "    <tr>\n",
       "      <th>5830</th>\n",
       "      <td>2022-08-31 22:00:00</td>\n",
       "      <td>22</td>\n",
       "      <td>U_Persona_Natural</td>\n",
       "      <td>216</td>\n",
       "      <td>0</td>\n",
       "      <td>8</td>\n",
       "      <td>31</td>\n",
       "      <td>3</td>\n",
       "      <td>5</td>\n",
       "      <td>5</td>\n",
       "    </tr>\n",
       "    <tr>\n",
       "      <th>5831</th>\n",
       "      <td>2022-08-31 23:00:00</td>\n",
       "      <td>23</td>\n",
       "      <td>U_Persona_Natural</td>\n",
       "      <td>81</td>\n",
       "      <td>0</td>\n",
       "      <td>8</td>\n",
       "      <td>31</td>\n",
       "      <td>3</td>\n",
       "      <td>5</td>\n",
       "      <td>1</td>\n",
       "    </tr>\n",
       "  </tbody>\n",
       "</table>\n",
       "<p>5832 rows × 10 columns</p>\n",
       "</div>"
      ],
      "text/plain": [
       "                  FechaT Hora24        Operación_N  sumRecibidas festivo MesN  \\\n",
       "0    2022-01-01 00:00:00      0  U_Persona_Natural             0       1    1   \n",
       "1    2022-01-01 01:00:00      1  U_Persona_Natural             0       1    1   \n",
       "2    2022-01-01 02:00:00      2  U_Persona_Natural             0       1    1   \n",
       "3    2022-01-01 03:00:00      3  U_Persona_Natural             0       1    1   \n",
       "4    2022-01-01 04:00:00      4  U_Persona_Natural             0       1    1   \n",
       "...                  ...    ...                ...           ...     ...  ...   \n",
       "5827 2022-08-31 19:00:00     19  U_Persona_Natural           698       0    8   \n",
       "5828 2022-08-31 20:00:00     20  U_Persona_Natural           463       0    8   \n",
       "5829 2022-08-31 21:00:00     21  U_Persona_Natural           346       0    8   \n",
       "5830 2022-08-31 22:00:00     22  U_Persona_Natural           216       0    8   \n",
       "5831 2022-08-31 23:00:00     23  U_Persona_Natural            81       0    8   \n",
       "\n",
       "     Dia_MesN Dia_SemN Jornada5 Jornada6  \n",
       "0           1        6        1        1  \n",
       "1           1        6        1        1  \n",
       "2           1        6        1        1  \n",
       "3           1        6        1        1  \n",
       "4           1        6        1        1  \n",
       "...       ...      ...      ...      ...  \n",
       "5827       31        3        5        5  \n",
       "5828       31        3        5        5  \n",
       "5829       31        3        5        5  \n",
       "5830       31        3        5        5  \n",
       "5831       31        3        5        1  \n",
       "\n",
       "[5832 rows x 10 columns]"
      ]
     },
     "execution_count": 39,
     "metadata": {},
     "output_type": "execute_result"
    }
   ],
   "source": [
    "UPN"
   ]
  },
  {
   "cell_type": "code",
   "execution_count": 10,
   "metadata": {},
   "outputs": [],
   "source": [
    "UPN['sumRecibidas'] = UPN['sumRecibidas'].astype(np.int32)\n",
    "UPN['festivo'] = UPN['festivo'].astype('category')\n",
    "UPN['MesN'] = UPN['MesN'].astype('category')\n",
    "UPN['Dia_MesN'] = UPN['Dia_MesN'].astype('category')\n",
    "UPN['Dia_SemN'] = UPN['Dia_SemN'].astype('category')\n",
    "UPN['Hora24']=UPN['Hora24'].astype('category')\n",
    "UPN['festividades']=UPN['festividades'].astype('category')\n"
   ]
  },
  {
   "cell_type": "code",
   "execution_count": 11,
   "metadata": {},
   "outputs": [
    {
     "data": {
      "text/plain": [
       "FechaT          datetime64[ns]\n",
       "Fecha           datetime64[ns]\n",
       "Operación_N             object\n",
       "sumRecibidas             int32\n",
       "festivo               category\n",
       "festividades          category\n",
       "MesN                  category\n",
       "Dia_MesN              category\n",
       "Dia_SemN              category\n",
       "Hora24                category\n",
       "dtype: object"
      ]
     },
     "execution_count": 11,
     "metadata": {},
     "output_type": "execute_result"
    }
   ],
   "source": [
    "UPN.dtypes"
   ]
  },
  {
   "cell_type": "markdown",
   "metadata": {},
   "source": [
    "### UNP2=FECHAT COMO INDEX"
   ]
  },
  {
   "cell_type": "code",
   "execution_count": 12,
   "metadata": {},
   "outputs": [],
   "source": [
    "UPN2 = UPN.set_index('FechaT')"
   ]
  },
  {
   "cell_type": "code",
   "execution_count": 13,
   "metadata": {},
   "outputs": [],
   "source": [
    "fff=UPN2['sumRecibidas'].pct_change(1)[24:48] \n",
    "#Cambio porcentual entre el elemento actual y el anterior."
   ]
  },
  {
   "cell_type": "code",
   "execution_count": null,
   "metadata": {},
   "outputs": [],
   "source": [
    "# calculando rendimiento acumulado diario\n",
    "#rendimiento_diario = (1 + UPN2['sumRecibidas'].pct_change()).cumprod()\n",
    "#dd = rendimiento_diario\n"
   ]
  },
  {
   "cell_type": "markdown",
   "metadata": {},
   "source": [
    "# preparación de datos "
   ]
  },
  {
   "cell_type": "code",
   "execution_count": null,
   "metadata": {},
   "outputs": [],
   "source": [
    "from sklearn.preprocessing import PolynomialFeatures, StandardScaler ### preprocesar los datos\n",
    "from sklearn.model_selection import cross_val_score #### NO SE USA\n",
    "from sklearn.model_selection import GridSearchCV #### Validación cruzada\n"
   ]
  },
  {
   "cell_type": "code",
   "execution_count": null,
   "metadata": {},
   "outputs": [
    {
     "name": "stdout",
     "output_type": "stream",
     "text": [
      "Fechas train      : 2022-01-01 00:00:00 --- 2022-07-31 23:00:00  (n=5088)\n",
      "Fechas test  : 2022-08-01 00:00:00 --- 2022-08-31 23:00:00  (n=744)\n"
     ]
    }
   ],
   "source": [
    "# Separación datos train-val-test\n",
    "\n",
    "fin_train = '2022-07-31 23:00:00'\n",
    "fin_validacion = '2022-08-31 23:00:00'\n",
    "datos_train = UPN2.loc[: fin_train, :]\n",
    "datos_test   = UPN2.loc[fin_train:fin_validacion, :]\n",
    "\n",
    "\n",
    "print(f\"Fechas train      : {datos_train.index.min()} --- {datos_train.index.max()}  (n={len(datos_train)})\")\n",
    "datos_test=datos_test.drop(['2022-07-31 23:00:00'])\n",
    "print(f\"Fechas test  : {datos_test.index.min()} --- {datos_test.index.max()}  (n={len(datos_test)})\")\n"
   ]
  },
  {
   "cell_type": "code",
   "execution_count": null,
   "metadata": {},
   "outputs": [
    {
     "data": {
      "text/plain": [
       "744"
      ]
     },
     "execution_count": 11,
     "metadata": {},
     "output_type": "execute_result"
    }
   ],
   "source": [
    "len(datos_test)"
   ]
  },
  {
   "cell_type": "code",
   "execution_count": null,
   "metadata": {},
   "outputs": [
    {
     "data": {
      "text/html": [
       "<div>\n",
       "<style scoped>\n",
       "    .dataframe tbody tr th:only-of-type {\n",
       "        vertical-align: middle;\n",
       "    }\n",
       "\n",
       "    .dataframe tbody tr th {\n",
       "        vertical-align: top;\n",
       "    }\n",
       "\n",
       "    .dataframe thead th {\n",
       "        text-align: right;\n",
       "    }\n",
       "</style>\n",
       "<table border=\"1\" class=\"dataframe\">\n",
       "  <thead>\n",
       "    <tr style=\"text-align: right;\">\n",
       "      <th></th>\n",
       "      <th>Hora24</th>\n",
       "      <th>Operación_N</th>\n",
       "      <th>sumRecibidas</th>\n",
       "      <th>festivo</th>\n",
       "      <th>MesN</th>\n",
       "      <th>Dia_MesN</th>\n",
       "      <th>Dia_SemN</th>\n",
       "      <th>Jornada5</th>\n",
       "      <th>Jornada6</th>\n",
       "    </tr>\n",
       "    <tr>\n",
       "      <th>FechaT</th>\n",
       "      <th></th>\n",
       "      <th></th>\n",
       "      <th></th>\n",
       "      <th></th>\n",
       "      <th></th>\n",
       "      <th></th>\n",
       "      <th></th>\n",
       "      <th></th>\n",
       "      <th></th>\n",
       "    </tr>\n",
       "  </thead>\n",
       "  <tbody>\n",
       "    <tr>\n",
       "      <th>2022-07-31 23:00:00</th>\n",
       "      <td>23</td>\n",
       "      <td>U_Persona_Natural</td>\n",
       "      <td>39</td>\n",
       "      <td>0</td>\n",
       "      <td>7</td>\n",
       "      <td>31</td>\n",
       "      <td>7</td>\n",
       "      <td>5</td>\n",
       "      <td>1</td>\n",
       "    </tr>\n",
       "    <tr>\n",
       "      <th>2022-08-01 00:00:00</th>\n",
       "      <td>0</td>\n",
       "      <td>U_Persona_Natural</td>\n",
       "      <td>17</td>\n",
       "      <td>0</td>\n",
       "      <td>8</td>\n",
       "      <td>1</td>\n",
       "      <td>1</td>\n",
       "      <td>1</td>\n",
       "      <td>1</td>\n",
       "    </tr>\n",
       "    <tr>\n",
       "      <th>2022-08-01 01:00:00</th>\n",
       "      <td>1</td>\n",
       "      <td>U_Persona_Natural</td>\n",
       "      <td>9</td>\n",
       "      <td>0</td>\n",
       "      <td>8</td>\n",
       "      <td>1</td>\n",
       "      <td>1</td>\n",
       "      <td>1</td>\n",
       "      <td>1</td>\n",
       "    </tr>\n",
       "    <tr>\n",
       "      <th>2022-08-01 02:00:00</th>\n",
       "      <td>2</td>\n",
       "      <td>U_Persona_Natural</td>\n",
       "      <td>2</td>\n",
       "      <td>0</td>\n",
       "      <td>8</td>\n",
       "      <td>1</td>\n",
       "      <td>1</td>\n",
       "      <td>1</td>\n",
       "      <td>1</td>\n",
       "    </tr>\n",
       "    <tr>\n",
       "      <th>2022-08-01 03:00:00</th>\n",
       "      <td>3</td>\n",
       "      <td>U_Persona_Natural</td>\n",
       "      <td>2</td>\n",
       "      <td>0</td>\n",
       "      <td>8</td>\n",
       "      <td>1</td>\n",
       "      <td>1</td>\n",
       "      <td>1</td>\n",
       "      <td>1</td>\n",
       "    </tr>\n",
       "    <tr>\n",
       "      <th>...</th>\n",
       "      <td>...</td>\n",
       "      <td>...</td>\n",
       "      <td>...</td>\n",
       "      <td>...</td>\n",
       "      <td>...</td>\n",
       "      <td>...</td>\n",
       "      <td>...</td>\n",
       "      <td>...</td>\n",
       "      <td>...</td>\n",
       "    </tr>\n",
       "    <tr>\n",
       "      <th>2022-08-31 19:00:00</th>\n",
       "      <td>19</td>\n",
       "      <td>U_Persona_Natural</td>\n",
       "      <td>698</td>\n",
       "      <td>0</td>\n",
       "      <td>8</td>\n",
       "      <td>31</td>\n",
       "      <td>3</td>\n",
       "      <td>5</td>\n",
       "      <td>5</td>\n",
       "    </tr>\n",
       "    <tr>\n",
       "      <th>2022-08-31 20:00:00</th>\n",
       "      <td>20</td>\n",
       "      <td>U_Persona_Natural</td>\n",
       "      <td>463</td>\n",
       "      <td>0</td>\n",
       "      <td>8</td>\n",
       "      <td>31</td>\n",
       "      <td>3</td>\n",
       "      <td>5</td>\n",
       "      <td>5</td>\n",
       "    </tr>\n",
       "    <tr>\n",
       "      <th>2022-08-31 21:00:00</th>\n",
       "      <td>21</td>\n",
       "      <td>U_Persona_Natural</td>\n",
       "      <td>346</td>\n",
       "      <td>0</td>\n",
       "      <td>8</td>\n",
       "      <td>31</td>\n",
       "      <td>3</td>\n",
       "      <td>5</td>\n",
       "      <td>5</td>\n",
       "    </tr>\n",
       "    <tr>\n",
       "      <th>2022-08-31 22:00:00</th>\n",
       "      <td>22</td>\n",
       "      <td>U_Persona_Natural</td>\n",
       "      <td>216</td>\n",
       "      <td>0</td>\n",
       "      <td>8</td>\n",
       "      <td>31</td>\n",
       "      <td>3</td>\n",
       "      <td>5</td>\n",
       "      <td>5</td>\n",
       "    </tr>\n",
       "    <tr>\n",
       "      <th>2022-08-31 23:00:00</th>\n",
       "      <td>23</td>\n",
       "      <td>U_Persona_Natural</td>\n",
       "      <td>81</td>\n",
       "      <td>0</td>\n",
       "      <td>8</td>\n",
       "      <td>31</td>\n",
       "      <td>3</td>\n",
       "      <td>5</td>\n",
       "      <td>1</td>\n",
       "    </tr>\n",
       "  </tbody>\n",
       "</table>\n",
       "<p>745 rows × 9 columns</p>\n",
       "</div>"
      ],
      "text/plain": [
       "                    Hora24        Operación_N  sumRecibidas festivo MesN  \\\n",
       "FechaT                                                                     \n",
       "2022-07-31 23:00:00     23  U_Persona_Natural            39       0    7   \n",
       "2022-08-01 00:00:00      0  U_Persona_Natural            17       0    8   \n",
       "2022-08-01 01:00:00      1  U_Persona_Natural             9       0    8   \n",
       "2022-08-01 02:00:00      2  U_Persona_Natural             2       0    8   \n",
       "2022-08-01 03:00:00      3  U_Persona_Natural             2       0    8   \n",
       "...                    ...                ...           ...     ...  ...   \n",
       "2022-08-31 19:00:00     19  U_Persona_Natural           698       0    8   \n",
       "2022-08-31 20:00:00     20  U_Persona_Natural           463       0    8   \n",
       "2022-08-31 21:00:00     21  U_Persona_Natural           346       0    8   \n",
       "2022-08-31 22:00:00     22  U_Persona_Natural           216       0    8   \n",
       "2022-08-31 23:00:00     23  U_Persona_Natural            81       0    8   \n",
       "\n",
       "                    Dia_MesN Dia_SemN Jornada5 Jornada6  \n",
       "FechaT                                                   \n",
       "2022-07-31 23:00:00       31        7        5        1  \n",
       "2022-08-01 00:00:00        1        1        1        1  \n",
       "2022-08-01 01:00:00        1        1        1        1  \n",
       "2022-08-01 02:00:00        1        1        1        1  \n",
       "2022-08-01 03:00:00        1        1        1        1  \n",
       "...                      ...      ...      ...      ...  \n",
       "2022-08-31 19:00:00       31        3        5        5  \n",
       "2022-08-31 20:00:00       31        3        5        5  \n",
       "2022-08-31 21:00:00       31        3        5        5  \n",
       "2022-08-31 22:00:00       31        3        5        5  \n",
       "2022-08-31 23:00:00       31        3        5        1  \n",
       "\n",
       "[745 rows x 9 columns]"
      ]
     },
     "execution_count": 12,
     "metadata": {},
     "output_type": "execute_result"
    }
   ],
   "source": [
    "UPN2['2022-07-31 23:00:00' : '2022-08-31 23:00:00']"
   ]
  },
  {
   "cell_type": "markdown",
   "metadata": {},
   "source": [
    "#with index\n"
   ]
  },
  {
   "cell_type": "code",
   "execution_count": null,
   "metadata": {},
   "outputs": [],
   "source": [
    "X_train, X_test, y_train, y_test = datos_train.drop(columns = ['sumRecibidas','Operación_N','Jornada5','Jornada6','MesN']),datos_test.drop(columns=['sumRecibidas','Operación_N','Jornada5','Jornada6','MesN']) ,datos_train.sumRecibidas    ,datos_test.sumRecibidas"
   ]
  },
  {
   "cell_type": "markdown",
   "metadata": {},
   "source": []
  },
  {
   "cell_type": "code",
   "execution_count": null,
   "metadata": {},
   "outputs": [
    {
     "data": {
      "text/plain": [
       "(12.77, 5832)"
      ]
     },
     "execution_count": 14,
     "metadata": {},
     "output_type": "execute_result"
    }
   ],
   "source": [
    "round(745*100/len(UPN2),2),len(UPN2)"
   ]
  },
  {
   "cell_type": "code",
   "execution_count": null,
   "metadata": {},
   "outputs": [],
   "source": [
    "from sklearn.ensemble import BaggingClassifier, BaggingRegressor\n",
    "from sklearn import tree\n",
    "from sklearn.tree import DecisionTreeClassifier\n",
    "from sklearn.metrics import log_loss, roc_auc_score\n",
    "from sklearn.model_selection import GridSearchCV\n",
    "\n",
    "from sklearn import model_selection\n",
    "from sklearn.preprocessing import PolynomialFeatures, StandardScaler\n",
    "from sklearn.model_selection import GridSearchCV\n",
    "from sklearn.metrics import roc_auc_score, log_loss, accuracy_score, make_scorer\n",
    "from sklearn.metrics import make_scorer, mean_squared_error\n",
    "#from sklearn.tree import DecisionTreeRegressor"
   ]
  },
  {
   "cell_type": "code",
   "execution_count": null,
   "metadata": {},
   "outputs": [
    {
     "data": {
      "text/plain": [
       "Index(['Hora24', 'Operación_N', 'sumRecibidas', 'festivo', 'MesN', 'Dia_MesN',\n",
       "       'Dia_SemN', 'Jornada5', 'Jornada6'],\n",
       "      dtype='object')"
      ]
     },
     "execution_count": 28,
     "metadata": {},
     "output_type": "execute_result"
    }
   ],
   "source": [
    "UPN2.columns"
   ]
  },
  {
   "cell_type": "markdown",
   "metadata": {},
   "source": [
    "# SARIMAX Model"
   ]
  },
  {
   "cell_type": "markdown",
   "metadata": {},
   "source": [
    "### autoarima"
   ]
  },
  {
   "cell_type": "code",
   "execution_count": null,
   "metadata": {},
   "outputs": [],
   "source": [
    "#adding exogenous variable\n",
    "\n",
    "#UPN['HORA_index'] = UPN.FechaT.index\n",
    "#  p= periodos autoregresivos\n",
    "#  d=diferencias\n",
    "\n",
    "\n",
    "exogenous=UPN[['Hora24', 'festivo', 'Dia_MesN',\n",
    "       'Dia_SemN', 'Jornada5']]\n",
    "SARIMAX_model = pm.auto_arima(UPN2[['sumRecibidas']], exogenous=UPN2[['Hora24', 'festivo', 'Dia_MesN',\n",
    "       'Dia_SemN', 'Jornada5']],#, 'Jornada6'\n",
    "                           start_p=0, start_q=0,\n",
    "                           #test='adf',\n",
    "                           max_p=100, max_q=100,max_d=100,\n",
    "                           \n",
    "                            m=24,# d=pend, D=pend                    # d= diferencias        D= diferencia estacional\n",
    "                           start_P=0,start_Q=0, \n",
    "                           \n",
    "                           seasonal=True       #si es cada hora cual estacionalidad podria ser\n",
    "                           ,stationary=True,\n",
    "                           #d=None\n",
    "                           D=0, \n",
    "\n",
    "                           n_jobs=-1,\n",
    "                           #trace=True,\n",
    "                           n_fits=100,\n",
    "                           error_action='raise',  \n",
    "                           suppress_warnings=True, \n",
    "                           stepwise=False,\n",
    "                           information_criterion='aic', alpha=0.05,\n",
    "                           seasonal_test_args=None,\n",
    "\n",
    "                           return_valid_fits=False,\n",
    "                           \n",
    "                            out_of_sample_size=100,\n",
    "                            scoring='mse', scoring_args=None,\n",
    "                            with_intercept='auto',\n",
    "                            )\n",
    "\n",
    "                           "
   ]
  },
  {
   "cell_type": "markdown",
   "metadata": {},
   "source": [
    "(Especificación AR estacional, Orden de integración estacional, MA estacional, Periodicidad estacional)"
   ]
  },
  {
   "cell_type": "markdown",
   "metadata": {},
   "source": [
    "#https://medium.com/datos-y-ciencia/modelos-de-series-de-tiempo-en-python-f861a25b9677\n",
    "#https://towardsdatascience.com/time-series-forecasting-with-arima-sarima-and-sarimax-ee61099e78f6\n",
    "SARIMA (Seasonal AutoRegressive Integrated Moving Average). Estos modelos consideran además la estacionalidad, lo que permite incorporar el patrón repetitivo de cada día"
   ]
  },
  {
   "cell_type": "code",
   "execution_count": null,
   "metadata": {},
   "outputs": [],
   "source": [
    "from statsmodels.tsa.statespace.sarimax import SARIMAX"
   ]
  },
  {
   "cell_type": "code",
   "execution_count": null,
   "metadata": {},
   "outputs": [],
   "source": [
    "model = SARIMAX(UPN2.sumRecibidas,order=(1, 0, 7),\n",
    "              seasonal_order=(2, 1,0, 24),\n",
    "              enforce_stationarity=False,\n",
    "              enforce_invertibility=False)\n",
    "results = model.fit()\n",
    "results.aic()"
   ]
  },
  {
   "cell_type": "code",
   "execution_count": null,
   "metadata": {},
   "outputs": [],
   "source": [
    "model = SARIMAX(endog=y_train,order=(1, 0, 7), # p,q,d  \n",
    "                                               # p= AR \n",
    "                                               # q= MA\n",
    "                                               # d= orden de integración del proceso. \n",
    "                                               \n",
    "\n",
    "              seasonal_order=(4, 0,1, 24), # P,D,Q,s\n",
    "                                            # P = AR\n",
    "                                            # D = orden de integración del proceso. \n",
    "                                            # Q = MA\n",
    "                                            # s = número de períodos en la temporada\n",
    "                exog=X_train[['Hora24', 'festivo', 'Dia_MesN','Dia_SemN', 'Jornada6']],\n",
    "              freq='H',\n",
    "              )\n",
    "results = model.fit()"
   ]
  },
  {
   "cell_type": "code",
   "execution_count": null,
   "metadata": {},
   "outputs": [
    {
     "data": {
      "text/plain": [
       "(62562.67459975579,\n",
       " {'trend': 0,\n",
       "  'exog': 5,\n",
       "  'ar': 7,\n",
       "  'ma': 7,\n",
       "  'seasonal_ar': 168,\n",
       "  'seasonal_ma': 24,\n",
       "  'reduced_ar': 175,\n",
       "  'reduced_ma': 31,\n",
       "  'exog_variance': 0,\n",
       "  'measurement_variance': 0,\n",
       "  'variance': 1})"
      ]
     },
     "execution_count": 16,
     "metadata": {},
     "output_type": "execute_result"
    }
   ],
   "source": [
    "results.aic,model.model_orders"
   ]
  },
  {
   "cell_type": "code",
   "execution_count": null,
   "metadata": {},
   "outputs": [],
   "source": [
    "forecast = results.predict(start = '2022-08-01 00:00:00',\n",
    "                           end='2022-08-31 23:00:00',exog=X_test,\n",
    "                           typ='levels').rename('SARIMAX order=(7, 0, 7), seasonal_order=7, 1, 1, 24 forecast')"
   ]
  },
  {
   "cell_type": "code",
   "execution_count": null,
   "metadata": {},
   "outputs": [
    {
     "data": {
      "text/plain": [
       "2022-08-01 00:00:00    334.020732\n",
       "2022-08-01 01:00:00    292.070809\n",
       "2022-08-01 02:00:00    278.250629\n",
       "2022-08-01 03:00:00    263.559253\n",
       "2022-08-01 04:00:00    259.203895\n",
       "                          ...    \n",
       "2022-08-31 19:00:00    470.401293\n",
       "2022-08-31 20:00:00    390.880942\n",
       "2022-08-31 21:00:00    292.406043\n",
       "2022-08-31 22:00:00    214.154796\n",
       "2022-08-31 23:00:00    137.407144\n",
       "Freq: H, Name: SARIMAX order=(7, 0, 7), seasonal_order=7, 1, 1, 24 forecast, Length: 744, dtype: float64"
      ]
     },
     "execution_count": 19,
     "metadata": {},
     "output_type": "execute_result"
    }
   ],
   "source": [
    "forecast"
   ]
  },
  {
   "cell_type": "code",
   "execution_count": null,
   "metadata": {},
   "outputs": [],
   "source": [
    "from typing_extensions import dataclass_transform\n",
    "\n",
    "\n",
    "y_test.plot(figsize=(12,8),legend=True)\n",
    "forecast.plot(legend=True)"
   ]
  },
  {
   "cell_type": "code",
   "execution_count": null,
   "metadata": {},
   "outputs": [],
   "source": [
    "from sklearn import metrics\n",
    "print('Mean Absolute Error:', round(metrics.mean_absolute_error(y_test,forecast),2))\n",
    "print('Mean Squared Error:', round(metrics.mean_squared_error(y_test, forecast),2))\n",
    "print('Root Mean Squared Error:',round((np.sqrt(metrics.mean_squared_error(y_test,forecast)) ),2))"
   ]
  },
  {
   "cell_type": "markdown",
   "metadata": {},
   "source": [
    "Mean Absolute Error: 185.98\n",
    "Mean Squared Error: 63298.27\n",
    "Root Mean Squared Error: 251.59"
   ]
  },
  {
   "cell_type": "code",
   "execution_count": null,
   "metadata": {},
   "outputs": [],
   "source": [
    "from pydoc import describe\n",
    "\n",
    "results.plot_diagnostics(figsize=(13,13))"
   ]
  },
  {
   "cell_type": "markdown",
   "metadata": {},
   "source": [
    "## sin neg"
   ]
  },
  {
   "cell_type": "code",
   "execution_count": null,
   "metadata": {},
   "outputs": [],
   "source": [
    "y_pron= forecast.apply(lambda x: max(0, x))"
   ]
  },
  {
   "cell_type": "code",
   "execution_count": null,
   "metadata": {},
   "outputs": [],
   "source": [
    "y_pron=y_pron.apply(lambda x: '%.0f' % x)"
   ]
  },
  {
   "cell_type": "code",
   "execution_count": null,
   "metadata": {},
   "outputs": [],
   "source": [
    "y_pron=y_pron.convert_dtypes(int)"
   ]
  },
  {
   "cell_type": "code",
   "execution_count": null,
   "metadata": {},
   "outputs": [],
   "source": [
    "from typing_extensions import dataclass_transform\n",
    "\n",
    "\n",
    "y_test.plot(figsize=(12,8),legend=True)\n",
    "y_pron.plot(legend=True)\n"
   ]
  },
  {
   "cell_type": "code",
   "execution_count": null,
   "metadata": {},
   "outputs": [],
   "source": [
    "\n",
    "from cmath import sqrt\n",
    "\n",
    "import sklearn\n",
    "import itertools\n",
    "from sklearn.metrics import  mean_absolute_percentage_error, mean_squared_error,mean_absolute_error\n",
    "from sklearn import metrics\n"
   ]
  },
  {
   "cell_type": "code",
   "execution_count": null,
   "metadata": {},
   "outputs": [],
   "source": [
    "\n",
    "rmse = sqrt(mean_squared_error(y_test, forecast))\n",
    "print('Root Mean Squared Error',np.round(rmse,2))\n",
    "print('Mean Absolute Error:', metrics.mean_absolute_error(y_test, forecast))\n",
    "print('Mean Squared Error:', metrics.mean_squared_error(y_test, forecast))\n",
    "\n",
    "print('/////////////////////////////////////////')\n",
    "\n",
    "rmse_p = sqrt(mean_squared_error(y_test, y_pron))\n",
    "print('predición sin negativos'   ,np.round(rmse_p,2))\n",
    "print('Mean Absolute Error:', metrics.mean_absolute_error(y_test,y_pron))\n",
    "print('Mean Squared Error:', metrics.mean_squared_error(y_test,y_pron))\n"
   ]
  },
  {
   "cell_type": "markdown",
   "metadata": {},
   "source": [
    "### test indenpendencia pendiente"
   ]
  },
  {
   "cell_type": "code",
   "execution_count": null,
   "metadata": {},
   "outputs": [
    {
     "data": {
      "text/plain": [
       "(array([13274.19927075,   991.30178701,  8053.57119067,  1635.51704512,\n",
       "         3400.28932036]),\n",
       " array([0.00000000e+000, 1.00000000e+000, 0.00000000e+000, 8.66870756e-003,\n",
       "        2.19555525e-148]))"
      ]
     },
     "execution_count": 27,
     "metadata": {},
     "output_type": "execute_result"
    }
   ],
   "source": [
    "import sklearn \n",
    "from sklearn.feature_selection import chi2\n",
    "sklearn.feature_selection.chi2(X_train,y_train)"
   ]
  },
  {
   "cell_type": "markdown",
   "metadata": {},
   "source": [
    "según el test de chi2 implementado, el segundo array indica los p valores de cada prueba por lo tanto los p-valores menores a 0.05 serian dependientes las variables respecto a la variable de interes (sumRecibidas)\n",
    "por lo que se rechaza ho(independencia) para Nmes"
   ]
  },
  {
   "cell_type": "code",
   "execution_count": null,
   "metadata": {},
   "outputs": [],
   "source": [
    "X_train, X_test, y_train, y_test = datos_train.drop(columns = ['sumRecibidas','Operación_N','Jornada5','MesN']),datos_test.drop(columns=['sumRecibidas','Operación_N','Jornada5','MesN']) ,datos_train.sumRecibidas    ,datos_test.sumRecibidas"
   ]
  },
  {
   "cell_type": "markdown",
   "metadata": {},
   "source": [
    "# StandardScaler"
   ]
  },
  {
   "cell_type": "code",
   "execution_count": null,
   "metadata": {},
   "outputs": [],
   "source": [
    "# Feature Scaling\n",
    "from sklearn.preprocessing import StandardScaler\n",
    "\n",
    "sc = StandardScaler()\n",
    "X_train = sc.fit_transform(X_train)\n",
    "X_test = sc.transform(X_test)"
   ]
  },
  {
   "cell_type": "markdown",
   "metadata": {},
   "source": [
    "# Ramdom Forest"
   ]
  },
  {
   "cell_type": "code",
   "execution_count": 2,
   "metadata": {},
   "outputs": [],
   "source": [
    "from sklearn.ensemble import BaggingRegressor\n",
    "#### Bagging con KNN como estimador base\n",
    "from sklearn import neighbors\n",
    "from sklearn.ensemble import RandomForestRegressor\n",
    "import sklearn\n",
    "# CONTEXTO EN CLASIFICACIÓN\n",
    "sklearn.ensemble.RandomForestRegressor\n",
    "sklearn.ensemble.RandomForestClassifier\n",
    "# importar librerías\n",
    "from sklearn import tree\n",
    "from sklearn.metrics import log_loss, roc_auc_score\n",
    "from sklearn.model_selection import GridSearchCV\n",
    "from sklearn.metrics import make_scorer, mean_squared_error"
   ]
  },
  {
   "cell_type": "code",
   "execution_count": null,
   "metadata": {},
   "outputs": [
    {
     "data": {
      "text/plain": [
       "RandomForestRegressor(random_state=12345)"
      ]
     },
     "execution_count": 18,
     "metadata": {},
     "output_type": "execute_result"
    }
   ],
   "source": [
    "\n",
    "# inicializar el algortimo\n",
    "#clf_tree\n",
    "RFmodel =sklearn.ensemble.RandomForestRegressor( random_state = 12345)\n",
    "RFmodel\n"
   ]
  },
  {
   "cell_type": "code",
   "execution_count": null,
   "metadata": {},
   "outputs": [
    {
     "data": {
      "text/plain": [
       "DecisionTreeRegressor()"
      ]
     },
     "execution_count": 18,
     "metadata": {},
     "output_type": "execute_result"
    }
   ],
   "source": [
    "RFmodel.base_estimator"
   ]
  },
  {
   "cell_type": "code",
   "execution_count": null,
   "metadata": {},
   "outputs": [
    {
     "data": {
      "text/plain": [
       "dict_keys(['bootstrap', 'ccp_alpha', 'criterion', 'max_depth', 'max_features', 'max_leaf_nodes', 'max_samples', 'min_impurity_decrease', 'min_samples_leaf', 'min_samples_split', 'min_weight_fraction_leaf', 'n_estimators', 'n_jobs', 'oob_score', 'random_state', 'verbose', 'warm_start'])"
      ]
     },
     "execution_count": 54,
     "metadata": {},
     "output_type": "execute_result"
    }
   ],
   "source": [
    "RFmodel.get_params().keys()"
   ]
  },
  {
   "cell_type": "code",
   "execution_count": null,
   "metadata": {},
   "outputs": [],
   "source": [
    "\n",
    "# Definir Grilla de validación\n",
    "parameters = [ {\n",
    "    #'ccp_alpha': np.linspace(0.0,1, 10),\n",
    "            'max_depth':np.arange(1, 100),\"max_features\":np.arange(1,10),\n",
    "             'min_samples_split': np.linspace(0.05, 0.2, 5),\n",
    "             'n_estimators': [100],\n",
    "             \n",
    "            }]\n",
    "\n",
    "# Definir medida de desempeño\n",
    "acc_scorer = make_scorer(mean_squared_error, greater_is_better=False)\n",
    "\n",
    "# Grilla                                    Vuelva a ajustar un estimador     /  verbose / predispach\n",
    "#                                        utilizando los mejores parámetros / numero de mensajes / job paralelo                              \n",
    "grid_obj = GridSearchCV(estimator = RFmodel, param_grid = parameters,\n",
    " scoring=acc_scorer, cv = 10, n_jobs=-1,refit=True,verbose=3,\n",
    " pre_dispatch=5, return_train_score = True)\n"
   ]
  },
  {
   "cell_type": "code",
   "execution_count": null,
   "metadata": {},
   "outputs": [],
   "source": [
    "grid_obj = grid_obj.fit(X_train, y_train)"
   ]
  },
  {
   "cell_type": "code",
   "execution_count": null,
   "metadata": {},
   "outputs": [],
   "source": [
    "grid_obj.get_params(deep=True)"
   ]
  },
  {
   "cell_type": "code",
   "execution_count": null,
   "metadata": {},
   "outputs": [],
   "source": [
    "\n",
    "from joblib import dump"
   ]
  },
  {
   "cell_type": "code",
   "execution_count": null,
   "metadata": {},
   "outputs": [],
   "source": [
    "# Set the clf to the best combination of parameters\n",
    "tree_clf_best = grid_obj.best_estimator_\n",
    "tree_pred = tree_clf_best.predict(X_train)"
   ]
  },
  {
   "cell_type": "code",
   "execution_count": null,
   "metadata": {},
   "outputs": [
    {
     "data": {
      "text/plain": [
       "RandomForestClassifier(max_depth=1, max_features=1, n_estimators=1,\n",
       "                       random_state=123456)"
      ]
     },
     "execution_count": 142,
     "metadata": {},
     "output_type": "execute_result"
    }
   ],
   "source": [
    "tree_clf_best"
   ]
  },
  {
   "cell_type": "code",
   "execution_count": null,
   "metadata": {},
   "outputs": [],
   "source": [
    "round(745*100/len(UPN2),2),len(UPN2)"
   ]
  },
  {
   "cell_type": "code",
   "execution_count": null,
   "metadata": {},
   "outputs": [],
   "source": [
    "resulta = pd.DataFrame(grid_obj.cv_results_)"
   ]
  },
  {
   "cell_type": "code",
   "execution_count": null,
   "metadata": {},
   "outputs": [
    {
     "data": {
      "text/html": [
       "<div>\n",
       "<style scoped>\n",
       "    .dataframe tbody tr th:only-of-type {\n",
       "        vertical-align: middle;\n",
       "    }\n",
       "\n",
       "    .dataframe tbody tr th {\n",
       "        vertical-align: top;\n",
       "    }\n",
       "\n",
       "    .dataframe thead th {\n",
       "        text-align: right;\n",
       "    }\n",
       "</style>\n",
       "<table border=\"1\" class=\"dataframe\">\n",
       "  <thead>\n",
       "    <tr style=\"text-align: right;\">\n",
       "      <th></th>\n",
       "      <th>mean_fit_time</th>\n",
       "      <th>std_fit_time</th>\n",
       "      <th>mean_score_time</th>\n",
       "      <th>std_score_time</th>\n",
       "      <th>param_max_depth</th>\n",
       "      <th>param_max_features</th>\n",
       "      <th>param_n_estimators</th>\n",
       "      <th>params</th>\n",
       "      <th>split0_test_score</th>\n",
       "      <th>split1_test_score</th>\n",
       "      <th>...</th>\n",
       "      <th>split7_train_score</th>\n",
       "      <th>split8_train_score</th>\n",
       "      <th>split9_train_score</th>\n",
       "      <th>split10_train_score</th>\n",
       "      <th>split11_train_score</th>\n",
       "      <th>split12_train_score</th>\n",
       "      <th>split13_train_score</th>\n",
       "      <th>split14_train_score</th>\n",
       "      <th>mean_train_score</th>\n",
       "      <th>std_train_score</th>\n",
       "    </tr>\n",
       "  </thead>\n",
       "  <tbody>\n",
       "    <tr>\n",
       "      <th>0</th>\n",
       "      <td>0.010461</td>\n",
       "      <td>0.003077</td>\n",
       "      <td>0.021653</td>\n",
       "      <td>0.013940</td>\n",
       "      <td>1</td>\n",
       "      <td>1</td>\n",
       "      <td>1</td>\n",
       "      <td>{'max_depth': 1, 'max_features': 1, 'n_estimat...</td>\n",
       "      <td>NaN</td>\n",
       "      <td>NaN</td>\n",
       "      <td>...</td>\n",
       "      <td>NaN</td>\n",
       "      <td>NaN</td>\n",
       "      <td>NaN</td>\n",
       "      <td>NaN</td>\n",
       "      <td>NaN</td>\n",
       "      <td>NaN</td>\n",
       "      <td>NaN</td>\n",
       "      <td>NaN</td>\n",
       "      <td>NaN</td>\n",
       "      <td>NaN</td>\n",
       "    </tr>\n",
       "    <tr>\n",
       "      <th>1</th>\n",
       "      <td>0.148150</td>\n",
       "      <td>0.055848</td>\n",
       "      <td>0.378838</td>\n",
       "      <td>0.126065</td>\n",
       "      <td>1</td>\n",
       "      <td>1</td>\n",
       "      <td>30</td>\n",
       "      <td>{'max_depth': 1, 'max_features': 1, 'n_estimat...</td>\n",
       "      <td>NaN</td>\n",
       "      <td>NaN</td>\n",
       "      <td>...</td>\n",
       "      <td>NaN</td>\n",
       "      <td>NaN</td>\n",
       "      <td>NaN</td>\n",
       "      <td>NaN</td>\n",
       "      <td>NaN</td>\n",
       "      <td>NaN</td>\n",
       "      <td>NaN</td>\n",
       "      <td>NaN</td>\n",
       "      <td>NaN</td>\n",
       "      <td>NaN</td>\n",
       "    </tr>\n",
       "    <tr>\n",
       "      <th>2</th>\n",
       "      <td>0.015986</td>\n",
       "      <td>0.010677</td>\n",
       "      <td>0.040092</td>\n",
       "      <td>0.015937</td>\n",
       "      <td>1</td>\n",
       "      <td>2</td>\n",
       "      <td>1</td>\n",
       "      <td>{'max_depth': 1, 'max_features': 2, 'n_estimat...</td>\n",
       "      <td>NaN</td>\n",
       "      <td>NaN</td>\n",
       "      <td>...</td>\n",
       "      <td>NaN</td>\n",
       "      <td>NaN</td>\n",
       "      <td>NaN</td>\n",
       "      <td>NaN</td>\n",
       "      <td>NaN</td>\n",
       "      <td>NaN</td>\n",
       "      <td>NaN</td>\n",
       "      <td>NaN</td>\n",
       "      <td>NaN</td>\n",
       "      <td>NaN</td>\n",
       "    </tr>\n",
       "    <tr>\n",
       "      <th>3</th>\n",
       "      <td>0.178478</td>\n",
       "      <td>0.064573</td>\n",
       "      <td>0.398193</td>\n",
       "      <td>0.145148</td>\n",
       "      <td>1</td>\n",
       "      <td>2</td>\n",
       "      <td>30</td>\n",
       "      <td>{'max_depth': 1, 'max_features': 2, 'n_estimat...</td>\n",
       "      <td>NaN</td>\n",
       "      <td>NaN</td>\n",
       "      <td>...</td>\n",
       "      <td>NaN</td>\n",
       "      <td>NaN</td>\n",
       "      <td>NaN</td>\n",
       "      <td>NaN</td>\n",
       "      <td>NaN</td>\n",
       "      <td>NaN</td>\n",
       "      <td>NaN</td>\n",
       "      <td>NaN</td>\n",
       "      <td>NaN</td>\n",
       "      <td>NaN</td>\n",
       "    </tr>\n",
       "    <tr>\n",
       "      <th>4</th>\n",
       "      <td>0.013382</td>\n",
       "      <td>0.004531</td>\n",
       "      <td>0.028401</td>\n",
       "      <td>0.006268</td>\n",
       "      <td>1</td>\n",
       "      <td>3</td>\n",
       "      <td>1</td>\n",
       "      <td>{'max_depth': 1, 'max_features': 3, 'n_estimat...</td>\n",
       "      <td>NaN</td>\n",
       "      <td>NaN</td>\n",
       "      <td>...</td>\n",
       "      <td>NaN</td>\n",
       "      <td>NaN</td>\n",
       "      <td>NaN</td>\n",
       "      <td>NaN</td>\n",
       "      <td>NaN</td>\n",
       "      <td>NaN</td>\n",
       "      <td>NaN</td>\n",
       "      <td>NaN</td>\n",
       "      <td>NaN</td>\n",
       "      <td>NaN</td>\n",
       "    </tr>\n",
       "    <tr>\n",
       "      <th>...</th>\n",
       "      <td>...</td>\n",
       "      <td>...</td>\n",
       "      <td>...</td>\n",
       "      <td>...</td>\n",
       "      <td>...</td>\n",
       "      <td>...</td>\n",
       "      <td>...</td>\n",
       "      <td>...</td>\n",
       "      <td>...</td>\n",
       "      <td>...</td>\n",
       "      <td>...</td>\n",
       "      <td>...</td>\n",
       "      <td>...</td>\n",
       "      <td>...</td>\n",
       "      <td>...</td>\n",
       "      <td>...</td>\n",
       "      <td>...</td>\n",
       "      <td>...</td>\n",
       "      <td>...</td>\n",
       "      <td>...</td>\n",
       "      <td>...</td>\n",
       "    </tr>\n",
       "    <tr>\n",
       "      <th>385</th>\n",
       "      <td>7.377103</td>\n",
       "      <td>0.703268</td>\n",
       "      <td>0.365435</td>\n",
       "      <td>0.096552</td>\n",
       "      <td>39</td>\n",
       "      <td>3</td>\n",
       "      <td>30</td>\n",
       "      <td>{'max_depth': 39, 'max_features': 3, 'n_estima...</td>\n",
       "      <td>NaN</td>\n",
       "      <td>NaN</td>\n",
       "      <td>...</td>\n",
       "      <td>NaN</td>\n",
       "      <td>NaN</td>\n",
       "      <td>NaN</td>\n",
       "      <td>NaN</td>\n",
       "      <td>NaN</td>\n",
       "      <td>NaN</td>\n",
       "      <td>NaN</td>\n",
       "      <td>NaN</td>\n",
       "      <td>NaN</td>\n",
       "      <td>NaN</td>\n",
       "    </tr>\n",
       "    <tr>\n",
       "      <th>386</th>\n",
       "      <td>0.283687</td>\n",
       "      <td>0.047049</td>\n",
       "      <td>0.023452</td>\n",
       "      <td>0.005402</td>\n",
       "      <td>39</td>\n",
       "      <td>4</td>\n",
       "      <td>1</td>\n",
       "      <td>{'max_depth': 39, 'max_features': 4, 'n_estima...</td>\n",
       "      <td>NaN</td>\n",
       "      <td>NaN</td>\n",
       "      <td>...</td>\n",
       "      <td>NaN</td>\n",
       "      <td>NaN</td>\n",
       "      <td>NaN</td>\n",
       "      <td>NaN</td>\n",
       "      <td>NaN</td>\n",
       "      <td>NaN</td>\n",
       "      <td>NaN</td>\n",
       "      <td>NaN</td>\n",
       "      <td>NaN</td>\n",
       "      <td>NaN</td>\n",
       "    </tr>\n",
       "    <tr>\n",
       "      <th>387</th>\n",
       "      <td>7.540235</td>\n",
       "      <td>0.616605</td>\n",
       "      <td>0.411067</td>\n",
       "      <td>0.128985</td>\n",
       "      <td>39</td>\n",
       "      <td>4</td>\n",
       "      <td>30</td>\n",
       "      <td>{'max_depth': 39, 'max_features': 4, 'n_estima...</td>\n",
       "      <td>NaN</td>\n",
       "      <td>NaN</td>\n",
       "      <td>...</td>\n",
       "      <td>NaN</td>\n",
       "      <td>NaN</td>\n",
       "      <td>NaN</td>\n",
       "      <td>NaN</td>\n",
       "      <td>NaN</td>\n",
       "      <td>NaN</td>\n",
       "      <td>NaN</td>\n",
       "      <td>NaN</td>\n",
       "      <td>NaN</td>\n",
       "      <td>NaN</td>\n",
       "    </tr>\n",
       "    <tr>\n",
       "      <th>388</th>\n",
       "      <td>0.284728</td>\n",
       "      <td>0.043603</td>\n",
       "      <td>0.026001</td>\n",
       "      <td>0.008481</td>\n",
       "      <td>39</td>\n",
       "      <td>5</td>\n",
       "      <td>1</td>\n",
       "      <td>{'max_depth': 39, 'max_features': 5, 'n_estima...</td>\n",
       "      <td>NaN</td>\n",
       "      <td>NaN</td>\n",
       "      <td>...</td>\n",
       "      <td>NaN</td>\n",
       "      <td>NaN</td>\n",
       "      <td>NaN</td>\n",
       "      <td>NaN</td>\n",
       "      <td>NaN</td>\n",
       "      <td>NaN</td>\n",
       "      <td>NaN</td>\n",
       "      <td>NaN</td>\n",
       "      <td>NaN</td>\n",
       "      <td>NaN</td>\n",
       "    </tr>\n",
       "    <tr>\n",
       "      <th>389</th>\n",
       "      <td>7.364872</td>\n",
       "      <td>0.745213</td>\n",
       "      <td>0.477907</td>\n",
       "      <td>0.386433</td>\n",
       "      <td>39</td>\n",
       "      <td>5</td>\n",
       "      <td>30</td>\n",
       "      <td>{'max_depth': 39, 'max_features': 5, 'n_estima...</td>\n",
       "      <td>NaN</td>\n",
       "      <td>NaN</td>\n",
       "      <td>...</td>\n",
       "      <td>NaN</td>\n",
       "      <td>NaN</td>\n",
       "      <td>NaN</td>\n",
       "      <td>NaN</td>\n",
       "      <td>NaN</td>\n",
       "      <td>NaN</td>\n",
       "      <td>NaN</td>\n",
       "      <td>NaN</td>\n",
       "      <td>NaN</td>\n",
       "      <td>NaN</td>\n",
       "    </tr>\n",
       "  </tbody>\n",
       "</table>\n",
       "<p>390 rows × 43 columns</p>\n",
       "</div>"
      ],
      "text/plain": [
       "     mean_fit_time  std_fit_time  mean_score_time  std_score_time  \\\n",
       "0         0.010461      0.003077         0.021653        0.013940   \n",
       "1         0.148150      0.055848         0.378838        0.126065   \n",
       "2         0.015986      0.010677         0.040092        0.015937   \n",
       "3         0.178478      0.064573         0.398193        0.145148   \n",
       "4         0.013382      0.004531         0.028401        0.006268   \n",
       "..             ...           ...              ...             ...   \n",
       "385       7.377103      0.703268         0.365435        0.096552   \n",
       "386       0.283687      0.047049         0.023452        0.005402   \n",
       "387       7.540235      0.616605         0.411067        0.128985   \n",
       "388       0.284728      0.043603         0.026001        0.008481   \n",
       "389       7.364872      0.745213         0.477907        0.386433   \n",
       "\n",
       "    param_max_depth param_max_features param_n_estimators  \\\n",
       "0                 1                  1                  1   \n",
       "1                 1                  1                 30   \n",
       "2                 1                  2                  1   \n",
       "3                 1                  2                 30   \n",
       "4                 1                  3                  1   \n",
       "..              ...                ...                ...   \n",
       "385              39                  3                 30   \n",
       "386              39                  4                  1   \n",
       "387              39                  4                 30   \n",
       "388              39                  5                  1   \n",
       "389              39                  5                 30   \n",
       "\n",
       "                                                params  split0_test_score  \\\n",
       "0    {'max_depth': 1, 'max_features': 1, 'n_estimat...                NaN   \n",
       "1    {'max_depth': 1, 'max_features': 1, 'n_estimat...                NaN   \n",
       "2    {'max_depth': 1, 'max_features': 2, 'n_estimat...                NaN   \n",
       "3    {'max_depth': 1, 'max_features': 2, 'n_estimat...                NaN   \n",
       "4    {'max_depth': 1, 'max_features': 3, 'n_estimat...                NaN   \n",
       "..                                                 ...                ...   \n",
       "385  {'max_depth': 39, 'max_features': 3, 'n_estima...                NaN   \n",
       "386  {'max_depth': 39, 'max_features': 4, 'n_estima...                NaN   \n",
       "387  {'max_depth': 39, 'max_features': 4, 'n_estima...                NaN   \n",
       "388  {'max_depth': 39, 'max_features': 5, 'n_estima...                NaN   \n",
       "389  {'max_depth': 39, 'max_features': 5, 'n_estima...                NaN   \n",
       "\n",
       "     split1_test_score  ...  split7_train_score  split8_train_score  \\\n",
       "0                  NaN  ...                 NaN                 NaN   \n",
       "1                  NaN  ...                 NaN                 NaN   \n",
       "2                  NaN  ...                 NaN                 NaN   \n",
       "3                  NaN  ...                 NaN                 NaN   \n",
       "4                  NaN  ...                 NaN                 NaN   \n",
       "..                 ...  ...                 ...                 ...   \n",
       "385                NaN  ...                 NaN                 NaN   \n",
       "386                NaN  ...                 NaN                 NaN   \n",
       "387                NaN  ...                 NaN                 NaN   \n",
       "388                NaN  ...                 NaN                 NaN   \n",
       "389                NaN  ...                 NaN                 NaN   \n",
       "\n",
       "     split9_train_score  split10_train_score  split11_train_score  \\\n",
       "0                   NaN                  NaN                  NaN   \n",
       "1                   NaN                  NaN                  NaN   \n",
       "2                   NaN                  NaN                  NaN   \n",
       "3                   NaN                  NaN                  NaN   \n",
       "4                   NaN                  NaN                  NaN   \n",
       "..                  ...                  ...                  ...   \n",
       "385                 NaN                  NaN                  NaN   \n",
       "386                 NaN                  NaN                  NaN   \n",
       "387                 NaN                  NaN                  NaN   \n",
       "388                 NaN                  NaN                  NaN   \n",
       "389                 NaN                  NaN                  NaN   \n",
       "\n",
       "     split12_train_score  split13_train_score  split14_train_score  \\\n",
       "0                    NaN                  NaN                  NaN   \n",
       "1                    NaN                  NaN                  NaN   \n",
       "2                    NaN                  NaN                  NaN   \n",
       "3                    NaN                  NaN                  NaN   \n",
       "4                    NaN                  NaN                  NaN   \n",
       "..                   ...                  ...                  ...   \n",
       "385                  NaN                  NaN                  NaN   \n",
       "386                  NaN                  NaN                  NaN   \n",
       "387                  NaN                  NaN                  NaN   \n",
       "388                  NaN                  NaN                  NaN   \n",
       "389                  NaN                  NaN                  NaN   \n",
       "\n",
       "     mean_train_score  std_train_score  \n",
       "0                 NaN              NaN  \n",
       "1                 NaN              NaN  \n",
       "2                 NaN              NaN  \n",
       "3                 NaN              NaN  \n",
       "4                 NaN              NaN  \n",
       "..                ...              ...  \n",
       "385               NaN              NaN  \n",
       "386               NaN              NaN  \n",
       "387               NaN              NaN  \n",
       "388               NaN              NaN  \n",
       "389               NaN              NaN  \n",
       "\n",
       "[390 rows x 43 columns]"
      ]
     },
     "execution_count": 77,
     "metadata": {},
     "output_type": "execute_result"
    }
   ],
   "source": [
    "resulta"
   ]
  },
  {
   "cell_type": "code",
   "execution_count": null,
   "metadata": {},
   "outputs": [],
   "source": [
    "from sklearn import metrics"
   ]
  },
  {
   "cell_type": "code",
   "execution_count": null,
   "metadata": {},
   "outputs": [],
   "source": [
    "print('Mean Absolute Error:', metrics.mean_absolute_error(y_test, tree_pred))\n",
    "print('Mean Squared Error:', metrics.mean_squared_error(y_test, tree_pred))\n",
    "print('Root Mean Squared Error:', np.sqrt(metrics.mean_squared_error(y_test, tree_pred)))\n"
   ]
  },
  {
   "cell_type": "code",
   "execution_count": null,
   "metadata": {},
   "outputs": [],
   "source": [
    "y_predd = pd.DataFrame(tree_pred)"
   ]
  },
  {
   "cell_type": "code",
   "execution_count": null,
   "metadata": {},
   "outputs": [],
   "source": [
    "fig, ax = plt.subplots(figsize=(12,8))\n",
    "y_test.plot(ax=ax, label=\"Valores Reales\")\n",
    "y_predd.plot(ax=ax, label=\"RandomForest\") #,color = \"orange\"\n",
    "\n",
    "\n",
    "ax.legend()\n",
    "fig.show()"
   ]
  },
  {
   "cell_type": "markdown",
   "metadata": {},
   "source": [
    "RandomForestRegressor(max_depth=12, max_features=3, min_samples_split=0.05,\n",
    "                      n_estimators=50, random_state=123456)\n",
    "\n",
    "\n",
    "Mean Absolute Error: 97.71426825909677\n",
    "\n",
    "Mean Squared Error: 32348.875347843903\n",
    "\n",
    "Root Mean Squared Error: 179.8579310117958"
   ]
  },
  {
   "cell_type": "code",
   "execution_count": null,
   "metadata": {},
   "outputs": [
    {
     "data": {
      "text/plain": [
       "RandomForestRegressor(max_depth=150, max_features=3, min_samples_split=0.001,\n",
       "                      n_estimators=40, random_state=123456)"
      ]
     },
     "execution_count": 127,
     "metadata": {},
     "output_type": "execute_result"
    }
   ],
   "source": [
    "# Fitting Random Forest Regression to the dataset\n",
    "# import the regressor\n",
    "from sklearn.ensemble import RandomForestRegressor\n",
    "  \n",
    " # create regressor object\n",
    "regressor = RandomForestRegressor(n_estimators = 40,max_features=3,max_depth=150,min_samples_split=0.001, random_state = 123456)\n",
    "\n",
    "# fit the regressor with x and y data\n",
    "regressor.fit(X_train, y_train) "
   ]
  },
  {
   "cell_type": "code",
   "execution_count": null,
   "metadata": {},
   "outputs": [],
   "source": [
    "tree_pred =regressor.predict(X_test)"
   ]
  },
  {
   "cell_type": "code",
   "execution_count": null,
   "metadata": {},
   "outputs": [
    {
     "data": {
      "text/plain": [
       "424342"
      ]
     },
     "execution_count": 120,
     "metadata": {},
     "output_type": "execute_result"
    }
   ],
   "source": [
    "y_test.sum()"
   ]
  },
  {
   "cell_type": "code",
   "execution_count": null,
   "metadata": {},
   "outputs": [
    {
     "data": {
      "text/plain": [
       "25656.373014844663"
      ]
     },
     "execution_count": 129,
     "metadata": {},
     "output_type": "execute_result"
    }
   ],
   "source": [
    "y_test.sum()-tree_pred.sum()"
   ]
  },
  {
   "cell_type": "code",
   "execution_count": null,
   "metadata": {},
   "outputs": [
    {
     "name": "stdout",
     "output_type": "stream",
     "text": [
      "Mean Absolute Error: 78.61339696770895\n",
      "Mean Squared Error: 21916.2765953249\n",
      "Root Mean Squared Error: 148.041469174434\n"
     ]
    }
   ],
   "source": [
    "from sklearn.metrics import  mean_absolute_percentage_error, mean_squared_error,mean_absolute_error\n",
    "print('Mean Absolute Error:', metrics.mean_absolute_error(y_test, tree_pred))\n",
    "print('Mean Squared Error:', metrics.mean_squared_error(y_test, tree_pred))\n",
    "print('Root Mean Squared Error:', np.sqrt(metrics.mean_squared_error(y_test, tree_pred)))"
   ]
  },
  {
   "cell_type": "code",
   "execution_count": null,
   "metadata": {},
   "outputs": [],
   "source": [
    "y_predd = pd.DataFrame(tree_pred)\n"
   ]
  },
  {
   "cell_type": "code",
   "execution_count": null,
   "metadata": {},
   "outputs": [
    {
     "data": {
      "text/html": [
       "<div>\n",
       "<style scoped>\n",
       "    .dataframe tbody tr th:only-of-type {\n",
       "        vertical-align: middle;\n",
       "    }\n",
       "\n",
       "    .dataframe tbody tr th {\n",
       "        vertical-align: top;\n",
       "    }\n",
       "\n",
       "    .dataframe thead th {\n",
       "        text-align: right;\n",
       "    }\n",
       "</style>\n",
       "<table border=\"1\" class=\"dataframe\">\n",
       "  <thead>\n",
       "    <tr style=\"text-align: right;\">\n",
       "      <th></th>\n",
       "      <th>0</th>\n",
       "    </tr>\n",
       "    <tr>\n",
       "      <th>FechaT</th>\n",
       "      <th></th>\n",
       "    </tr>\n",
       "  </thead>\n",
       "  <tbody>\n",
       "    <tr>\n",
       "      <th>2022-08-01 00:00:00</th>\n",
       "      <td>14.531851</td>\n",
       "    </tr>\n",
       "    <tr>\n",
       "      <th>2022-08-01 01:00:00</th>\n",
       "      <td>9.209928</td>\n",
       "    </tr>\n",
       "    <tr>\n",
       "      <th>2022-08-01 02:00:00</th>\n",
       "      <td>8.014397</td>\n",
       "    </tr>\n",
       "    <tr>\n",
       "      <th>2022-08-01 03:00:00</th>\n",
       "      <td>8.289711</td>\n",
       "    </tr>\n",
       "    <tr>\n",
       "      <th>2022-08-01 04:00:00</th>\n",
       "      <td>10.621869</td>\n",
       "    </tr>\n",
       "    <tr>\n",
       "      <th>...</th>\n",
       "      <td>...</td>\n",
       "    </tr>\n",
       "    <tr>\n",
       "      <th>2022-08-31 19:00:00</th>\n",
       "      <td>589.462250</td>\n",
       "    </tr>\n",
       "    <tr>\n",
       "      <th>2022-08-31 20:00:00</th>\n",
       "      <td>482.408871</td>\n",
       "    </tr>\n",
       "    <tr>\n",
       "      <th>2022-08-31 21:00:00</th>\n",
       "      <td>401.640700</td>\n",
       "    </tr>\n",
       "    <tr>\n",
       "      <th>2022-08-31 22:00:00</th>\n",
       "      <td>229.980901</td>\n",
       "    </tr>\n",
       "    <tr>\n",
       "      <th>2022-08-31 23:00:00</th>\n",
       "      <td>84.397019</td>\n",
       "    </tr>\n",
       "  </tbody>\n",
       "</table>\n",
       "<p>744 rows × 1 columns</p>\n",
       "</div>"
      ],
      "text/plain": [
       "                              0\n",
       "FechaT                         \n",
       "2022-08-01 00:00:00   14.531851\n",
       "2022-08-01 01:00:00    9.209928\n",
       "2022-08-01 02:00:00    8.014397\n",
       "2022-08-01 03:00:00    8.289711\n",
       "2022-08-01 04:00:00   10.621869\n",
       "...                         ...\n",
       "2022-08-31 19:00:00  589.462250\n",
       "2022-08-31 20:00:00  482.408871\n",
       "2022-08-31 21:00:00  401.640700\n",
       "2022-08-31 22:00:00  229.980901\n",
       "2022-08-31 23:00:00   84.397019\n",
       "\n",
       "[744 rows x 1 columns]"
      ]
     },
     "execution_count": 131,
     "metadata": {},
     "output_type": "execute_result"
    }
   ],
   "source": [
    "y_predd"
   ]
  },
  {
   "cell_type": "code",
   "execution_count": null,
   "metadata": {},
   "outputs": [],
   "source": [
    "y_predd-y_test"
   ]
  },
  {
   "cell_type": "code",
   "execution_count": null,
   "metadata": {},
   "outputs": [],
   "source": [
    "y_predd.index=y_test.index"
   ]
  },
  {
   "cell_type": "code",
   "execution_count": null,
   "metadata": {},
   "outputs": [
    {
     "name": "stderr",
     "output_type": "stream",
     "text": [
      "C:\\Users\\miavila\\AppData\\Local\\Temp\\ipykernel_15124\\259271731.py:7: UserWarning: Matplotlib is currently using module://matplotlib_inline.backend_inline, which is a non-GUI backend, so cannot show the figure.\n",
      "  fig.show()\n"
     ]
    },
    {
     "data": {
      "image/png": "[encoded data removed]",
      "text/plain": [
       "<Figure size 864x576 with 1 Axes>"
      ]
     },
     "metadata": {
      "needs_background": "light"
     },
     "output_type": "display_data"
    }
   ],
   "source": [
    "fig, ax = plt.subplots(figsize=(12,8))\n",
    "y_test.plot(ax=ax, label=\"Valores Reales\")\n",
    "y_predd.plot(ax=ax, label=\"RandomForest\") #,color = \"orange\"\n",
    "\n",
    "\n",
    "ax.legend()\n",
    "fig.show()"
   ]
  },
  {
   "cell_type": "markdown",
   "metadata": {},
   "source": [
    "# LGBMRegressor"
   ]
  },
  {
   "cell_type": "code",
   "execution_count": null,
   "metadata": {},
   "outputs": [],
   "source": [
    "# Modelado y Forecasting\n",
    "# ==============================================================================\n",
    "#%matplotlib inline\n",
    "#%pip install xgboost\n",
    "#%pip install lightgbm\n",
    "#%pip install catboost\n",
    "#%pip install skforecast\n",
    "from xgboost import XGBRegressor\n",
    "from lightgbm import LGBMRegressor\n",
    "from catboost import CatBoostRegressor\n",
    "\n",
    "from sklearn.preprocessing import OneHotEncoder\n",
    "from sklearn.preprocessing import StandardScaler\n",
    "from sklearn.compose import ColumnTransformer\n",
    "\n",
    "from skforecast.ForecasterAutoreg import ForecasterAutoreg\n",
    "from skforecast.ForecasterAutoregMultiOutput import ForecasterAutoregMultiOutput\n",
    "from skforecast.model_selection import grid_search_forecaster\n",
    "from skforecast.model_selection import backtesting_forecaster\n",
    "\n",
    "from joblib import dump, load\n",
    "\n",
    "# Configuración warnings\n",
    "# ==============================================================================\n",
    "import warnings\n",
    "warnings.filterwarnings('ignore')"
   ]
  },
  {
   "cell_type": "code",
   "execution_count": null,
   "metadata": {},
   "outputs": [],
   "source": []
  },
  {
   "cell_type": "markdown",
   "metadata": {},
   "source": [
    "https://www.cienciadedatos.net/documentos/py39-forecasting-series-temporales-con-skforecast-xgboost-lightgbm-catboost.html\n"
   ]
  },
  {
   "cell_type": "code",
   "execution_count": null,
   "metadata": {},
   "outputs": [],
   "source": [
    "# Crear forecaster\n",
    "# ==============================================================================\n",
    "forecaster = ForecasterAutoreg(\n",
    "                regressor = LGBMRegressor(random_state=123),\n",
    "                lags = 24\n",
    "             )\n",
    "\n",
    "forecaster"
   ]
  },
  {
   "cell_type": "code",
   "execution_count": null,
   "metadata": {},
   "outputs": [],
   "source": [
    "# Grid search de hiperparámetros\n",
    "# ==============================================================================\n",
    "# Hiperparámetros del regresor\n",
    "param_grid = {\n",
    "    'n_estimators': [100, 500],\n",
    "    'max_depth': [3, 5, 10],\n",
    "    'learning_rate': [0.01, 0.1]\n",
    "}\n",
    "\n",
    "# Lags utilizados como predictores\n",
    "lags_grid = [72, [1, 2, 3, 23, 24, 25, 71, 72, 73]]\n",
    "\n",
    "resultados_grid = grid_search_forecaster(\n",
    "                        forecaster         = forecaster,\n",
    "                        y                  = datos.loc[:fin_validacion, 'users'],\n",
    "                        exog               = datos.loc[:fin_validacion, variables_exogenas],\n",
    "                        param_grid         = param_grid,\n",
    "                        lags_grid          = lags_grid,\n",
    "                        steps              = 36,\n",
    "                        refit              = False,\n",
    "                        metric             = 'mean_squared_error',\n",
    "                        initial_train_size = int(len(datos_train)),\n",
    "                        return_best        = True,\n",
    "                        verbose            = False\n",
    "                   )"
   ]
  },
  {
   "cell_type": "code",
   "execution_count": null,
   "metadata": {},
   "outputs": [],
   "source": [
    "# Resultados Grid Search\n",
    "# ==============================================================================\n",
    "resultados_grid.head(10)"
   ]
  },
  {
   "cell_type": "code",
   "execution_count": null,
   "metadata": {},
   "outputs": [],
   "source": [
    "# Backtesting\n",
    "# ==============================================================================\n",
    "metric, predicciones = backtesting_forecaster(\n",
    "    forecaster         = forecaster,\n",
    "    y                  = datos['users'],\n",
    "    exog               = datos[variables_exogenas],\n",
    "    initial_train_size = len(datos.loc[:fin_validacion]),\n",
    "    steps              = 36,\n",
    "    refit              = False,\n",
    "    metric             = 'mean_squared_error',\n",
    "    verbose            = False\n",
    "    \n",
    ")\n",
    "\n",
    "print(f\"Error de backtest: {metric:.2f}\")"
   ]
  },
  {
   "cell_type": "code",
   "execution_count": null,
   "metadata": {},
   "outputs": [],
   "source": [
    "# Importancia predictores\n",
    "# ==============================================================================\n",
    "impotancia = forecaster.get_feature_importance()\n",
    "impotancia"
   ]
  },
  {
   "cell_type": "code",
   "execution_count": null,
   "metadata": {},
   "outputs": [],
   "source": []
  }
 ],
 "metadata": {
  "kernelspec": {
   "display_name": "Python 3.9.12 ('base')",
   "language": "python",
   "name": "python3"
  },
  "language_info": {
   "codemirror_mode": {
    "name": "ipython",
    "version": 3
   },
   "file_extension": ".py",
   "mimetype": "text/x-python",
   "name": "python",
   "nbconvert_exporter": "python",
   "pygments_lexer": "ipython3",
   "version": "3.9.12"
  },
  "orig_nbformat": 4,
  "vscode": {
   "interpreter": {
    "hash": "ad2bdc8ecc057115af97d19610ffacc2b4e99fae6737bb82f5d7fb13d2f2c186"
   }
  }
 },
 "nbformat": 4,
 "nbformat_minor": 2
}
