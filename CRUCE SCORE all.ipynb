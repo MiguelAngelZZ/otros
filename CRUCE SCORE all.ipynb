{
 "cells": [
  {
   "cell_type": "code",
   "execution_count": 1,
   "metadata": {},
   "outputs": [],
   "source": [
    "import pandas as pd\n",
    "import numpy as np"
   ]
  },
  {
   "cell_type": "code",
   "execution_count": 3,
   "metadata": {},
   "outputs": [],
   "source": [
    "#CLV=pd.read_excel('C:/Users/miavila/Desktop/Copia de CLV 16-12_31-05.xlsx',sheet_name='JULIO')"
   ]
  },
  {
   "cell_type": "code",
   "execution_count": 2,
   "metadata": {},
   "outputs": [],
   "source": [
    "impala=pd.read_excel('C:/Users/miavila/Desktop/CRUCE SCORE/3. CRUCE ENGAGE CLOUND/INT/query-impala-2922005.xlsx')\n",
    "#JUNIO\n",
    "ATE6=pd.read_excel('C:/Users/miavila/Desktop/CRUCE SCORE/3. CRUCE ENGAGE CLOUND/INT/ENGAGE/Reporte cc engage Junio.xlsx',sheet_name='Atendidas')\n",
    "ABA6=pd.read_excel('C:/Users/miavila/Desktop/CRUCE SCORE/3. CRUCE ENGAGE CLOUND/INT/ENGAGE/Reporte cc engage Junio.xlsx',sheet_name='Abandonadas')\n",
    "\n",
    "#JULIO\n",
    "ATE7=pd.read_excel('C:/Users/miavila/Desktop/CRUCE SCORE/3. CRUCE ENGAGE CLOUND/INT/ENGAGE/Reporte cc engage Julio.xlsx',sheet_name='Atendidas')\n",
    "ABA7=pd.read_excel('C:/Users/miavila/Desktop/CRUCE SCORE/3. CRUCE ENGAGE CLOUND/INT/ENGAGE/Reporte cc engage Julio.xlsx',sheet_name='Abandonadas')\n",
    "\n",
    "#AGOSTO\n",
    "ATE8=pd.read_excel('C:/Users/miavila/Desktop/CRUCE SCORE/3. CRUCE ENGAGE CLOUND/INT/ENGAGE/Reporte cc engage Agosto.xlsx',sheet_name='Atendidas')\n",
    "ABA8=pd.read_excel('C:/Users/miavila/Desktop/CRUCE SCORE/3. CRUCE ENGAGE CLOUND/INT/ENGAGE/Reporte cc engage Agosto.xlsx',sheet_name='Abandonadas')\n",
    "\n",
    "#SEPTIEMBRE\n",
    "ATE9=pd.read_excel('C:/Users/miavila/Desktop/CRUCE SCORE/3. CRUCE ENGAGE CLOUND/INT/ENGAGE/Reporte cc engage Septiembre.xlsx',sheet_name='Atendidas')\n",
    "ABA9=pd.read_excel('C:/Users/miavila/Desktop/CRUCE SCORE/3. CRUCE ENGAGE CLOUND/INT/ENGAGE/Reporte cc engage Septiembre.xlsx',sheet_name='Abandonadas')\n"
   ]
  },
  {
   "cell_type": "code",
   "execution_count": 3,
   "metadata": {},
   "outputs": [
    {
     "data": {
      "text/plain": [
       "348784"
      ]
     },
     "execution_count": 3,
     "metadata": {},
     "output_type": "execute_result"
    }
   ],
   "source": [
    "len(ATE6)"
   ]
  },
  {
   "cell_type": "code",
   "execution_count": 4,
   "metadata": {},
   "outputs": [
    {
     "data": {
      "text/plain": [
       "348784"
      ]
     },
     "execution_count": 4,
     "metadata": {},
     "output_type": "execute_result"
    }
   ],
   "source": [
    "ATE6.Fecha2.isna().count()"
   ]
  },
  {
   "cell_type": "code",
   "execution_count": 3,
   "metadata": {},
   "outputs": [],
   "source": [
    "from pandas import concat\n",
    "\n",
    "\n",
    "ATE=concat([ATE6,ATE7,ATE8,ATE9],axis=0)\n",
    "ABA=concat([ABA6,ABA7,ABA8,ABA9],axis=0)\n",
    "ATE.index = range(ATE.shape[0])\n",
    "ABA.index = range(ABA.shape[0])"
   ]
  },
  {
   "cell_type": "code",
   "execution_count": 4,
   "metadata": {},
   "outputs": [
    {
     "data": {
      "text/html": [
       "<div>\n",
       "<style scoped>\n",
       "    .dataframe tbody tr th:only-of-type {\n",
       "        vertical-align: middle;\n",
       "    }\n",
       "\n",
       "    .dataframe tbody tr th {\n",
       "        vertical-align: top;\n",
       "    }\n",
       "\n",
       "    .dataframe thead th {\n",
       "        text-align: right;\n",
       "    }\n",
       "</style>\n",
       "<table border=\"1\" class=\"dataframe\">\n",
       "  <thead>\n",
       "    <tr style=\"text-align: right;\">\n",
       "      <th></th>\n",
       "      <th>FechaDia</th>\n",
       "      <th>Hora</th>\n",
       "      <th>Nit</th>\n",
       "      <th>Empresa</th>\n",
       "      <th>Telefono</th>\n",
       "      <th>Segmentos</th>\n",
       "      <th>Segmento Global</th>\n",
       "      <th>Origen</th>\n",
       "      <th>Connid</th>\n",
       "    </tr>\n",
       "  </thead>\n",
       "  <tbody>\n",
       "    <tr>\n",
       "      <th>0</th>\n",
       "      <td>2022-06-01</td>\n",
       "      <td>06:27:10</td>\n",
       "      <td>1.023935e+09</td>\n",
       "      <td>LUIS ROGER CAMACHO PEREZ</td>\n",
       "      <td>3013209601</td>\n",
       "      <td>BLANCO COBRO MASIVO</td>\n",
       "      <td>BLANCO</td>\n",
       "      <td>COMERCIAL</td>\n",
       "      <td>01d4033216f897ba</td>\n",
       "    </tr>\n",
       "    <tr>\n",
       "      <th>1</th>\n",
       "      <td>2022-06-01</td>\n",
       "      <td>06:28:30</td>\n",
       "      <td>8.607260e+07</td>\n",
       "      <td>ANGEL GEOVANNI GUTIERREZ CENDALES</td>\n",
       "      <td>3213354397</td>\n",
       "      <td>BLANCO COBRO MASIVO</td>\n",
       "      <td>BLANCO</td>\n",
       "      <td>COMERCIAL</td>\n",
       "      <td>019b0337824c8d98</td>\n",
       "    </tr>\n",
       "    <tr>\n",
       "      <th>2</th>\n",
       "      <td>2022-06-01</td>\n",
       "      <td>06:32:33</td>\n",
       "      <td>7.964979e+07</td>\n",
       "      <td>HECTOR GUILLERMO GONZALEZ BOTERO</td>\n",
       "      <td>3008488759</td>\n",
       "      <td>NARANJA VENTA &lt;1000.000</td>\n",
       "      <td>NARANJA</td>\n",
       "      <td>COMERCIAL</td>\n",
       "      <td>019b0337824c8dac</td>\n",
       "    </tr>\n",
       "    <tr>\n",
       "      <th>3</th>\n",
       "      <td>2022-06-01</td>\n",
       "      <td>06:33:37</td>\n",
       "      <td>3.958182e+07</td>\n",
       "      <td>LUISA FERNANDA MONROY MOSQUERA</td>\n",
       "      <td>3154648586</td>\n",
       "      <td>BLANCO COBRO MASIVO</td>\n",
       "      <td>BLANCO</td>\n",
       "      <td>COMERCIAL</td>\n",
       "      <td>01d4033216f897ea</td>\n",
       "    </tr>\n",
       "    <tr>\n",
       "      <th>4</th>\n",
       "      <td>2022-06-01</td>\n",
       "      <td>06:35:36</td>\n",
       "      <td>1.000131e+09</td>\n",
       "      <td>EVELYN ARLETTE ESCOBAR PULIDO</td>\n",
       "      <td>3176607110</td>\n",
       "      <td>SIN COLOR</td>\n",
       "      <td>SIN COLOR</td>\n",
       "      <td>COMERCIAL</td>\n",
       "      <td>01d4033216f897ee</td>\n",
       "    </tr>\n",
       "  </tbody>\n",
       "</table>\n",
       "</div>"
      ],
      "text/plain": [
       "    FechaDia      Hora           Nit                            Empresa  \\\n",
       "0 2022-06-01  06:27:10  1.023935e+09           LUIS ROGER CAMACHO PEREZ   \n",
       "1 2022-06-01  06:28:30  8.607260e+07  ANGEL GEOVANNI GUTIERREZ CENDALES   \n",
       "2 2022-06-01  06:32:33  7.964979e+07   HECTOR GUILLERMO GONZALEZ BOTERO   \n",
       "3 2022-06-01  06:33:37  3.958182e+07     LUISA FERNANDA MONROY MOSQUERA   \n",
       "4 2022-06-01  06:35:36  1.000131e+09      EVELYN ARLETTE ESCOBAR PULIDO   \n",
       "\n",
       "     Telefono                Segmentos Segmento Global     Origen  \\\n",
       "0  3013209601      BLANCO COBRO MASIVO          BLANCO  COMERCIAL   \n",
       "1  3213354397      BLANCO COBRO MASIVO          BLANCO  COMERCIAL   \n",
       "2  3008488759  NARANJA VENTA <1000.000         NARANJA  COMERCIAL   \n",
       "3  3154648586      BLANCO COBRO MASIVO          BLANCO  COMERCIAL   \n",
       "4  3176607110                SIN COLOR       SIN COLOR  COMERCIAL   \n",
       "\n",
       "             Connid  \n",
       "0  01d4033216f897ba  \n",
       "1  019b0337824c8d98  \n",
       "2  019b0337824c8dac  \n",
       "3  01d4033216f897ea  \n",
       "4  01d4033216f897ee  "
      ]
     },
     "execution_count": 4,
     "metadata": {},
     "output_type": "execute_result"
    }
   ],
   "source": [
    "ABA.head()"
   ]
  },
  {
   "cell_type": "code",
   "execution_count": 5,
   "metadata": {},
   "outputs": [],
   "source": [
    "AT=pd.DataFrame(ATE,columns=['Cedula','Fecha2'])\n",
    "AB=pd.DataFrame(ABA,columns=['FechaDia','Hora','Nit'])\n",
    "IM=pd.DataFrame(impala,columns=['nro_identificacion','score_prioridad'])"
   ]
  },
  {
   "cell_type": "code",
   "execution_count": 6,
   "metadata": {},
   "outputs": [],
   "source": [
    "AT.rename(columns={'Fecha2':'Fecha'},inplace=True)\n",
    "AB.rename(columns={'FechaDia':'Fecha','Nit':'Cedula'},inplace=True)\n",
    "IM.rename(columns={'nro_identificacion':'Cedula'},inplace=True)"
   ]
  },
  {
   "cell_type": "code",
   "execution_count": 7,
   "metadata": {},
   "outputs": [],
   "source": [
    "AT['Abandonada']='No'\n",
    "AB['Abandonada']='Si'\n",
    "#base.assign(Abandonada='No')"
   ]
  },
  {
   "cell_type": "code",
   "execution_count": 8,
   "metadata": {},
   "outputs": [
    {
     "data": {
      "text/plain": [
       "Cedula                object\n",
       "Fecha         datetime64[ns]\n",
       "Abandonada            object\n",
       "dtype: object"
      ]
     },
     "execution_count": 8,
     "metadata": {},
     "output_type": "execute_result"
    }
   ],
   "source": [
    "AT.dtypes"
   ]
  },
  {
   "cell_type": "code",
   "execution_count": 9,
   "metadata": {},
   "outputs": [
    {
     "data": {
      "text/html": [
       "<div>\n",
       "<style scoped>\n",
       "    .dataframe tbody tr th:only-of-type {\n",
       "        vertical-align: middle;\n",
       "    }\n",
       "\n",
       "    .dataframe tbody tr th {\n",
       "        vertical-align: top;\n",
       "    }\n",
       "\n",
       "    .dataframe thead th {\n",
       "        text-align: right;\n",
       "    }\n",
       "</style>\n",
       "<table border=\"1\" class=\"dataframe\">\n",
       "  <thead>\n",
       "    <tr style=\"text-align: right;\">\n",
       "      <th></th>\n",
       "      <th>Cedula</th>\n",
       "      <th>Fecha</th>\n",
       "      <th>Abandonada</th>\n",
       "    </tr>\n",
       "  </thead>\n",
       "  <tbody>\n",
       "    <tr>\n",
       "      <th>0</th>\n",
       "      <td>1106891697</td>\n",
       "      <td>2022-06-01 06:01:21</td>\n",
       "      <td>No</td>\n",
       "    </tr>\n",
       "    <tr>\n",
       "      <th>1</th>\n",
       "      <td>21068909</td>\n",
       "      <td>2022-06-01 06:04:24</td>\n",
       "      <td>No</td>\n",
       "    </tr>\n",
       "    <tr>\n",
       "      <th>2</th>\n",
       "      <td>38241838</td>\n",
       "      <td>2022-06-01 06:08:48</td>\n",
       "      <td>No</td>\n",
       "    </tr>\n",
       "    <tr>\n",
       "      <th>3</th>\n",
       "      <td>9186472</td>\n",
       "      <td>2022-06-01 06:10:32</td>\n",
       "      <td>No</td>\n",
       "    </tr>\n",
       "    <tr>\n",
       "      <th>4</th>\n",
       "      <td>1031121618</td>\n",
       "      <td>2022-06-01 06:11:13</td>\n",
       "      <td>No</td>\n",
       "    </tr>\n",
       "    <tr>\n",
       "      <th>...</th>\n",
       "      <td>...</td>\n",
       "      <td>...</td>\n",
       "      <td>...</td>\n",
       "    </tr>\n",
       "    <tr>\n",
       "      <th>1242740</th>\n",
       "      <td>80064128.0</td>\n",
       "      <td>2022-09-15 20:55:39</td>\n",
       "      <td>No</td>\n",
       "    </tr>\n",
       "    <tr>\n",
       "      <th>1242741</th>\n",
       "      <td>1010242027.0</td>\n",
       "      <td>2022-09-15 20:55:38</td>\n",
       "      <td>No</td>\n",
       "    </tr>\n",
       "    <tr>\n",
       "      <th>1242742</th>\n",
       "      <td>1017222407.0</td>\n",
       "      <td>2022-09-15 20:58:12</td>\n",
       "      <td>No</td>\n",
       "    </tr>\n",
       "    <tr>\n",
       "      <th>1242743</th>\n",
       "      <td>1014303031.0</td>\n",
       "      <td>2022-09-15 21:00:17</td>\n",
       "      <td>No</td>\n",
       "    </tr>\n",
       "    <tr>\n",
       "      <th>1242744</th>\n",
       "      <td>80064128.0</td>\n",
       "      <td>2022-09-15 21:06:31</td>\n",
       "      <td>No</td>\n",
       "    </tr>\n",
       "  </tbody>\n",
       "</table>\n",
       "<p>1242745 rows × 3 columns</p>\n",
       "</div>"
      ],
      "text/plain": [
       "               Cedula               Fecha Abandonada\n",
       "0          1106891697 2022-06-01 06:01:21         No\n",
       "1            21068909 2022-06-01 06:04:24         No\n",
       "2            38241838 2022-06-01 06:08:48         No\n",
       "3             9186472 2022-06-01 06:10:32         No\n",
       "4          1031121618 2022-06-01 06:11:13         No\n",
       "...               ...                 ...        ...\n",
       "1242740    80064128.0 2022-09-15 20:55:39         No\n",
       "1242741  1010242027.0 2022-09-15 20:55:38         No\n",
       "1242742  1017222407.0 2022-09-15 20:58:12         No\n",
       "1242743  1014303031.0 2022-09-15 21:00:17         No\n",
       "1242744    80064128.0 2022-09-15 21:06:31         No\n",
       "\n",
       "[1242745 rows x 3 columns]"
      ]
     },
     "execution_count": 9,
     "metadata": {},
     "output_type": "execute_result"
    }
   ],
   "source": [
    "AT"
   ]
  },
  {
   "cell_type": "code",
   "execution_count": 10,
   "metadata": {},
   "outputs": [],
   "source": [
    "#AT[:,'Hora']= pd.datetime(hour=AT.Fecha.dt.hour, minute=AT.Fecha.dt.minute, second=AT.Fecha.dt.second)\n",
    "AT['Hora']=AT['Fecha'].dt.hour.astype(str)+':'+AT['Fecha'].dt.minute.astype(str)+':'+AT['Fecha'].dt.second.astype(str)"
   ]
  },
  {
   "cell_type": "code",
   "execution_count": 11,
   "metadata": {},
   "outputs": [
    {
     "data": {
      "text/html": [
       "<div>\n",
       "<style scoped>\n",
       "    .dataframe tbody tr th:only-of-type {\n",
       "        vertical-align: middle;\n",
       "    }\n",
       "\n",
       "    .dataframe tbody tr th {\n",
       "        vertical-align: top;\n",
       "    }\n",
       "\n",
       "    .dataframe thead th {\n",
       "        text-align: right;\n",
       "    }\n",
       "</style>\n",
       "<table border=\"1\" class=\"dataframe\">\n",
       "  <thead>\n",
       "    <tr style=\"text-align: right;\">\n",
       "      <th></th>\n",
       "      <th>Cedula</th>\n",
       "      <th>Fecha</th>\n",
       "      <th>Abandonada</th>\n",
       "      <th>Hora</th>\n",
       "    </tr>\n",
       "  </thead>\n",
       "  <tbody>\n",
       "    <tr>\n",
       "      <th>0</th>\n",
       "      <td>1106891697</td>\n",
       "      <td>2022-06-01 06:01:21</td>\n",
       "      <td>No</td>\n",
       "      <td>6:1:21</td>\n",
       "    </tr>\n",
       "    <tr>\n",
       "      <th>1</th>\n",
       "      <td>21068909</td>\n",
       "      <td>2022-06-01 06:04:24</td>\n",
       "      <td>No</td>\n",
       "      <td>6:4:24</td>\n",
       "    </tr>\n",
       "    <tr>\n",
       "      <th>2</th>\n",
       "      <td>38241838</td>\n",
       "      <td>2022-06-01 06:08:48</td>\n",
       "      <td>No</td>\n",
       "      <td>6:8:48</td>\n",
       "    </tr>\n",
       "    <tr>\n",
       "      <th>3</th>\n",
       "      <td>9186472</td>\n",
       "      <td>2022-06-01 06:10:32</td>\n",
       "      <td>No</td>\n",
       "      <td>6:10:32</td>\n",
       "    </tr>\n",
       "    <tr>\n",
       "      <th>4</th>\n",
       "      <td>1031121618</td>\n",
       "      <td>2022-06-01 06:11:13</td>\n",
       "      <td>No</td>\n",
       "      <td>6:11:13</td>\n",
       "    </tr>\n",
       "    <tr>\n",
       "      <th>...</th>\n",
       "      <td>...</td>\n",
       "      <td>...</td>\n",
       "      <td>...</td>\n",
       "      <td>...</td>\n",
       "    </tr>\n",
       "    <tr>\n",
       "      <th>1242740</th>\n",
       "      <td>80064128.0</td>\n",
       "      <td>2022-09-15 20:55:39</td>\n",
       "      <td>No</td>\n",
       "      <td>20:55:39</td>\n",
       "    </tr>\n",
       "    <tr>\n",
       "      <th>1242741</th>\n",
       "      <td>1010242027.0</td>\n",
       "      <td>2022-09-15 20:55:38</td>\n",
       "      <td>No</td>\n",
       "      <td>20:55:38</td>\n",
       "    </tr>\n",
       "    <tr>\n",
       "      <th>1242742</th>\n",
       "      <td>1017222407.0</td>\n",
       "      <td>2022-09-15 20:58:12</td>\n",
       "      <td>No</td>\n",
       "      <td>20:58:12</td>\n",
       "    </tr>\n",
       "    <tr>\n",
       "      <th>1242743</th>\n",
       "      <td>1014303031.0</td>\n",
       "      <td>2022-09-15 21:00:17</td>\n",
       "      <td>No</td>\n",
       "      <td>21:0:17</td>\n",
       "    </tr>\n",
       "    <tr>\n",
       "      <th>1242744</th>\n",
       "      <td>80064128.0</td>\n",
       "      <td>2022-09-15 21:06:31</td>\n",
       "      <td>No</td>\n",
       "      <td>21:6:31</td>\n",
       "    </tr>\n",
       "  </tbody>\n",
       "</table>\n",
       "<p>1242745 rows × 4 columns</p>\n",
       "</div>"
      ],
      "text/plain": [
       "               Cedula               Fecha Abandonada      Hora\n",
       "0          1106891697 2022-06-01 06:01:21         No    6:1:21\n",
       "1            21068909 2022-06-01 06:04:24         No    6:4:24\n",
       "2            38241838 2022-06-01 06:08:48         No    6:8:48\n",
       "3             9186472 2022-06-01 06:10:32         No   6:10:32\n",
       "4          1031121618 2022-06-01 06:11:13         No   6:11:13\n",
       "...               ...                 ...        ...       ...\n",
       "1242740    80064128.0 2022-09-15 20:55:39         No  20:55:39\n",
       "1242741  1010242027.0 2022-09-15 20:55:38         No  20:55:38\n",
       "1242742  1017222407.0 2022-09-15 20:58:12         No  20:58:12\n",
       "1242743  1014303031.0 2022-09-15 21:00:17         No   21:0:17\n",
       "1242744    80064128.0 2022-09-15 21:06:31         No   21:6:31\n",
       "\n",
       "[1242745 rows x 4 columns]"
      ]
     },
     "execution_count": 11,
     "metadata": {},
     "output_type": "execute_result"
    }
   ],
   "source": [
    "AT"
   ]
  },
  {
   "cell_type": "code",
   "execution_count": 323,
   "metadata": {},
   "outputs": [],
   "source": [
    "#AB.loc[:,'Fecha'] = AB.Fecha.astype(str)+' '+AB.Hora.astype(str)"
   ]
  },
  {
   "cell_type": "code",
   "execution_count": 11,
   "metadata": {},
   "outputs": [
    {
     "data": {
      "text/html": [
       "<div>\n",
       "<style scoped>\n",
       "    .dataframe tbody tr th:only-of-type {\n",
       "        vertical-align: middle;\n",
       "    }\n",
       "\n",
       "    .dataframe tbody tr th {\n",
       "        vertical-align: top;\n",
       "    }\n",
       "\n",
       "    .dataframe thead th {\n",
       "        text-align: right;\n",
       "    }\n",
       "</style>\n",
       "<table border=\"1\" class=\"dataframe\">\n",
       "  <thead>\n",
       "    <tr style=\"text-align: right;\">\n",
       "      <th></th>\n",
       "      <th>Fecha</th>\n",
       "      <th>Hora</th>\n",
       "      <th>Cedula</th>\n",
       "      <th>Abandonada</th>\n",
       "    </tr>\n",
       "  </thead>\n",
       "  <tbody>\n",
       "    <tr>\n",
       "      <th>0</th>\n",
       "      <td>2022-06-01</td>\n",
       "      <td>06:27:10</td>\n",
       "      <td>1.023935e+09</td>\n",
       "      <td>Si</td>\n",
       "    </tr>\n",
       "    <tr>\n",
       "      <th>1</th>\n",
       "      <td>2022-06-01</td>\n",
       "      <td>06:28:30</td>\n",
       "      <td>8.607260e+07</td>\n",
       "      <td>Si</td>\n",
       "    </tr>\n",
       "    <tr>\n",
       "      <th>2</th>\n",
       "      <td>2022-06-01</td>\n",
       "      <td>06:32:33</td>\n",
       "      <td>7.964979e+07</td>\n",
       "      <td>Si</td>\n",
       "    </tr>\n",
       "    <tr>\n",
       "      <th>3</th>\n",
       "      <td>2022-06-01</td>\n",
       "      <td>06:33:37</td>\n",
       "      <td>3.958182e+07</td>\n",
       "      <td>Si</td>\n",
       "    </tr>\n",
       "    <tr>\n",
       "      <th>4</th>\n",
       "      <td>2022-06-01</td>\n",
       "      <td>06:35:36</td>\n",
       "      <td>1.000131e+09</td>\n",
       "      <td>Si</td>\n",
       "    </tr>\n",
       "    <tr>\n",
       "      <th>...</th>\n",
       "      <td>...</td>\n",
       "      <td>...</td>\n",
       "      <td>...</td>\n",
       "      <td>...</td>\n",
       "    </tr>\n",
       "    <tr>\n",
       "      <th>68891</th>\n",
       "      <td>2022-09-30</td>\n",
       "      <td>22:00:23</td>\n",
       "      <td>1.033745e+09</td>\n",
       "      <td>Si</td>\n",
       "    </tr>\n",
       "    <tr>\n",
       "      <th>68892</th>\n",
       "      <td>2022-09-30</td>\n",
       "      <td>22:09:18</td>\n",
       "      <td>5.174412e+07</td>\n",
       "      <td>Si</td>\n",
       "    </tr>\n",
       "    <tr>\n",
       "      <th>68893</th>\n",
       "      <td>2022-09-30</td>\n",
       "      <td>23:36:53</td>\n",
       "      <td>1.077969e+09</td>\n",
       "      <td>Si</td>\n",
       "    </tr>\n",
       "    <tr>\n",
       "      <th>68894</th>\n",
       "      <td>2022-09-30</td>\n",
       "      <td>23:56:49</td>\n",
       "      <td>1.019068e+09</td>\n",
       "      <td>Si</td>\n",
       "    </tr>\n",
       "    <tr>\n",
       "      <th>68895</th>\n",
       "      <td>2022-09-30</td>\n",
       "      <td>23:59:17</td>\n",
       "      <td>3.199252e+07</td>\n",
       "      <td>Si</td>\n",
       "    </tr>\n",
       "  </tbody>\n",
       "</table>\n",
       "<p>68896 rows × 4 columns</p>\n",
       "</div>"
      ],
      "text/plain": [
       "           Fecha      Hora        Cedula Abandonada\n",
       "0     2022-06-01  06:27:10  1.023935e+09         Si\n",
       "1     2022-06-01  06:28:30  8.607260e+07         Si\n",
       "2     2022-06-01  06:32:33  7.964979e+07         Si\n",
       "3     2022-06-01  06:33:37  3.958182e+07         Si\n",
       "4     2022-06-01  06:35:36  1.000131e+09         Si\n",
       "...          ...       ...           ...        ...\n",
       "68891 2022-09-30  22:00:23  1.033745e+09         Si\n",
       "68892 2022-09-30  22:09:18  5.174412e+07         Si\n",
       "68893 2022-09-30  23:36:53  1.077969e+09         Si\n",
       "68894 2022-09-30  23:56:49  1.019068e+09         Si\n",
       "68895 2022-09-30  23:59:17  3.199252e+07         Si\n",
       "\n",
       "[68896 rows x 4 columns]"
      ]
     },
     "execution_count": 11,
     "metadata": {},
     "output_type": "execute_result"
    }
   ],
   "source": [
    "AB"
   ]
  },
  {
   "cell_type": "code",
   "execution_count": 12,
   "metadata": {},
   "outputs": [],
   "source": [
    "from pandas import concat\n",
    "CALL=concat( [AB,AT], axis=0)\n",
    "CALL.index = range(CALL.shape[0])\n"
   ]
  },
  {
   "cell_type": "markdown",
   "metadata": {},
   "source": [
    "### REEMPLAZA EL VALOR DE LA POSICIÓN j,i por -1"
   ]
  },
  {
   "cell_type": "code",
   "execution_count": 13,
   "metadata": {},
   "outputs": [],
   "source": [
    "import re \n",
    "def extraer_tratamiento(name):\n",
    "  m = re.search(r\"\\w+\\.\",str(name))\n",
    "  if not m:\n",
    "      return -1 # CON CARATERES *\n",
    "  return m[0][:-1]"
   ]
  },
  {
   "cell_type": "markdown",
   "metadata": {},
   "source": [
    "#### indexa en nueva columna"
   ]
  },
  {
   "cell_type": "code",
   "execution_count": 512,
   "metadata": {},
   "outputs": [],
   "source": [
    "#CALL['CedulaN']=CALL['Cedula'].apply(extraer_tratamiento)"
   ]
  },
  {
   "cell_type": "code",
   "execution_count": 514,
   "metadata": {},
   "outputs": [],
   "source": [
    "#CALL['CedulaN']=CALL['CedulaN'].astype(np.int64)"
   ]
  },
  {
   "cell_type": "code",
   "execution_count": null,
   "metadata": {},
   "outputs": [],
   "source": [
    "#CALL[CALL['Cedula'].str.contains('*',regex=False)]"
   ]
  },
  {
   "cell_type": "code",
   "execution_count": 14,
   "metadata": {},
   "outputs": [],
   "source": [
    "ENG=CALL"
   ]
  },
  {
   "cell_type": "markdown",
   "metadata": {},
   "source": [
    "# SCORE_CLV Y IM \n",
    "# score CLV & PEP"
   ]
  },
  {
   "cell_type": "markdown",
   "metadata": {},
   "source": [
    "# clound\n",
    "nueva columna de cedula como cedula N"
   ]
  },
  {
   "cell_type": "code",
   "execution_count": 15,
   "metadata": {},
   "outputs": [],
   "source": [
    "CLOU6=pd.read_excel('C:/Users/miavila/Desktop/CRUCE SCORE/3. CRUCE ENGAGE CLOUND/INT/CLOUND/CLOUND/Junio.xlsx',sheet_name='Hoja2')\n",
    "CLOU7=pd.read_excel('C:/Users/miavila/Desktop/CRUCE SCORE/3. CRUCE ENGAGE CLOUND/INT/CLOUND/CLOUND/Julio.xlsx',sheet_name='Hoja2')\n",
    "CLOU8=pd.read_excel('C:/Users/miavila/Desktop/CRUCE SCORE/3. CRUCE ENGAGE CLOUND/INT/CLOUND/CLOUND/Agosto.xlsx',sheet_name='Hoja2')\n",
    "CLOU9=pd.read_excel('C:/Users/miavila/Desktop/CRUCE SCORE/3. CRUCE ENGAGE CLOUND/INT/CLOUND/CLOUND/Septiembre.xlsx',sheet_name='Hoja2')"
   ]
  },
  {
   "cell_type": "code",
   "execution_count": 16,
   "metadata": {},
   "outputs": [],
   "source": [
    "CLOU=pd.concat([CLOU6,CLOU7,CLOU8,CLOU9],axis=0)\n",
    "CLOU.index = range(CLOU.shape[0])"
   ]
  },
  {
   "cell_type": "code",
   "execution_count": 17,
   "metadata": {},
   "outputs": [
    {
     "data": {
      "text/plain": [
       "Marca de hora del resultado parcial           float64\n",
       "Filtros                                        object\n",
       "Tipo de medios                                 object\n",
       "Usuarios - Con interacciones                   object\n",
       "Fecha                                  datetime64[ns]\n",
       "Dirección                                      object\n",
       "DNIS                                           object\n",
       "Cola                                           object\n",
       "Abandonadas                                    object\n",
       "Primera cola                                   object\n",
       "Etiqueta externa                              float64\n",
       "Manejo total                                   object\n",
       "Exportación completa finalizada                object\n",
       "dtype: object"
      ]
     },
     "execution_count": 17,
     "metadata": {},
     "output_type": "execute_result"
    }
   ],
   "source": [
    "CLOU.dtypes"
   ]
  },
  {
   "cell_type": "code",
   "execution_count": 522,
   "metadata": {},
   "outputs": [],
   "source": [
    "#CLOU['Fecha']=CLOU['Fecha'].astype(np.datetime64)"
   ]
  },
  {
   "cell_type": "code",
   "execution_count": 18,
   "metadata": {},
   "outputs": [],
   "source": [
    "\n",
    "CLOU['Hora']=CLOU['Fecha'].dt.hour.astype(str)+':'+CLOU['Fecha'].dt.minute.astype(str)+':'+CLOU['Fecha'].dt.second.astype(str)\n"
   ]
  },
  {
   "cell_type": "code",
   "execution_count": 19,
   "metadata": {},
   "outputs": [],
   "source": [
    "CLO=pd.DataFrame(CLOU,columns=['Fecha','Hora','Etiqueta externa','Abandonadas'])\n",
    "CLO.rename(columns={'Etiqueta externa':'Cedula','Abandonadas':'Abandonada'},inplace=True)\n"
   ]
  },
  {
   "cell_type": "code",
   "execution_count": 20,
   "metadata": {},
   "outputs": [
    {
     "data": {
      "text/html": [
       "<div>\n",
       "<style scoped>\n",
       "    .dataframe tbody tr th:only-of-type {\n",
       "        vertical-align: middle;\n",
       "    }\n",
       "\n",
       "    .dataframe tbody tr th {\n",
       "        vertical-align: top;\n",
       "    }\n",
       "\n",
       "    .dataframe thead th {\n",
       "        text-align: right;\n",
       "    }\n",
       "</style>\n",
       "<table border=\"1\" class=\"dataframe\">\n",
       "  <thead>\n",
       "    <tr style=\"text-align: right;\">\n",
       "      <th></th>\n",
       "      <th>Fecha</th>\n",
       "      <th>Hora</th>\n",
       "      <th>Cedula</th>\n",
       "      <th>Abandonada</th>\n",
       "    </tr>\n",
       "  </thead>\n",
       "  <tbody>\n",
       "    <tr>\n",
       "      <th>0</th>\n",
       "      <td>2022-05-31 23:34:00</td>\n",
       "      <td>23:34:0</td>\n",
       "      <td>5.231458e+07</td>\n",
       "      <td>No</td>\n",
       "    </tr>\n",
       "    <tr>\n",
       "      <th>1</th>\n",
       "      <td>2022-05-31 23:55:00</td>\n",
       "      <td>23:55:0</td>\n",
       "      <td>5.310357e+07</td>\n",
       "      <td>No</td>\n",
       "    </tr>\n",
       "    <tr>\n",
       "      <th>2</th>\n",
       "      <td>2022-05-31 23:59:00</td>\n",
       "      <td>23:59:0</td>\n",
       "      <td>1.073322e+09</td>\n",
       "      <td>No</td>\n",
       "    </tr>\n",
       "    <tr>\n",
       "      <th>3</th>\n",
       "      <td>2022-05-31 23:59:00</td>\n",
       "      <td>23:59:0</td>\n",
       "      <td>4.003472e+07</td>\n",
       "      <td>No</td>\n",
       "    </tr>\n",
       "    <tr>\n",
       "      <th>4</th>\n",
       "      <td>2022-06-01 00:00:00</td>\n",
       "      <td>0:0:0</td>\n",
       "      <td>5.524834e+07</td>\n",
       "      <td>No</td>\n",
       "    </tr>\n",
       "    <tr>\n",
       "      <th>...</th>\n",
       "      <td>...</td>\n",
       "      <td>...</td>\n",
       "      <td>...</td>\n",
       "      <td>...</td>\n",
       "    </tr>\n",
       "    <tr>\n",
       "      <th>1286647</th>\n",
       "      <td>2022-09-30 23:57:00</td>\n",
       "      <td>23:57:0</td>\n",
       "      <td>2.934498e+07</td>\n",
       "      <td>SÍ</td>\n",
       "    </tr>\n",
       "    <tr>\n",
       "      <th>1286648</th>\n",
       "      <td>2022-09-30 23:59:00</td>\n",
       "      <td>23:59:0</td>\n",
       "      <td>1.030686e+09</td>\n",
       "      <td>SÍ</td>\n",
       "    </tr>\n",
       "    <tr>\n",
       "      <th>1286649</th>\n",
       "      <td>2022-09-30 23:59:00</td>\n",
       "      <td>23:59:0</td>\n",
       "      <td>1.002152e+09</td>\n",
       "      <td>SÍ</td>\n",
       "    </tr>\n",
       "    <tr>\n",
       "      <th>1286650</th>\n",
       "      <td>2022-09-30 23:59:00</td>\n",
       "      <td>23:59:0</td>\n",
       "      <td>3.754223e+07</td>\n",
       "      <td>SÍ</td>\n",
       "    </tr>\n",
       "    <tr>\n",
       "      <th>1286651</th>\n",
       "      <td>2022-09-30 23:59:00</td>\n",
       "      <td>23:59:0</td>\n",
       "      <td>1.153464e+09</td>\n",
       "      <td>SÍ</td>\n",
       "    </tr>\n",
       "  </tbody>\n",
       "</table>\n",
       "<p>1286652 rows × 4 columns</p>\n",
       "</div>"
      ],
      "text/plain": [
       "                      Fecha     Hora        Cedula Abandonada\n",
       "0       2022-05-31 23:34:00  23:34:0  5.231458e+07         No\n",
       "1       2022-05-31 23:55:00  23:55:0  5.310357e+07         No\n",
       "2       2022-05-31 23:59:00  23:59:0  1.073322e+09         No\n",
       "3       2022-05-31 23:59:00  23:59:0  4.003472e+07         No\n",
       "4       2022-06-01 00:00:00    0:0:0  5.524834e+07         No\n",
       "...                     ...      ...           ...        ...\n",
       "1286647 2022-09-30 23:57:00  23:57:0  2.934498e+07         SÍ\n",
       "1286648 2022-09-30 23:59:00  23:59:0  1.030686e+09         SÍ\n",
       "1286649 2022-09-30 23:59:00  23:59:0  1.002152e+09         SÍ\n",
       "1286650 2022-09-30 23:59:00  23:59:0  3.754223e+07         SÍ\n",
       "1286651 2022-09-30 23:59:00  23:59:0  1.153464e+09         SÍ\n",
       "\n",
       "[1286652 rows x 4 columns]"
      ]
     },
     "execution_count": 20,
     "metadata": {},
     "output_type": "execute_result"
    }
   ],
   "source": [
    "CLO"
   ]
  },
  {
   "cell_type": "code",
   "execution_count": null,
   "metadata": {},
   "outputs": [],
   "source": [
    "#CLO.to_excel('CLOUND 06-09.csv')\n",
    "#ENG.to_excel('ENGAGE 06-09.csv')"
   ]
  },
  {
   "cell_type": "markdown",
   "metadata": {},
   "source": [
    "# MERGE en paralelo"
   ]
  },
  {
   "cell_type": "code",
   "execution_count": 21,
   "metadata": {},
   "outputs": [],
   "source": [
    "ENG=CALL"
   ]
  },
  {
   "cell_type": "code",
   "execution_count": 22,
   "metadata": {},
   "outputs": [
    {
     "data": {
      "text/plain": [
       "Fecha         datetime64[ns]\n",
       "Hora                  object\n",
       "Cedula               float64\n",
       "Abandonada            object\n",
       "dtype: object"
      ]
     },
     "execution_count": 22,
     "metadata": {},
     "output_type": "execute_result"
    }
   ],
   "source": [
    "CLO.dtypes"
   ]
  },
  {
   "cell_type": "code",
   "execution_count": 23,
   "metadata": {},
   "outputs": [
    {
     "data": {
      "text/plain": [
       "Fecha         datetime64[ns]\n",
       "Hora                  object\n",
       "Cedula                object\n",
       "Abandonada            object\n",
       "dtype: object"
      ]
     },
     "execution_count": 23,
     "metadata": {},
     "output_type": "execute_result"
    }
   ],
   "source": [
    "ENG.dtypes"
   ]
  },
  {
   "cell_type": "code",
   "execution_count": 24,
   "metadata": {},
   "outputs": [],
   "source": [
    "ENG['RUT']='ENGAGE'"
   ]
  },
  {
   "cell_type": "code",
   "execution_count": 25,
   "metadata": {},
   "outputs": [],
   "source": [
    "CLO['RUT']='CLOUND'"
   ]
  },
  {
   "cell_type": "code",
   "execution_count": 26,
   "metadata": {},
   "outputs": [],
   "source": [
    "CRUCE_MADRE=pd.concat([ENG,CLO],axis=0) # \n",
    "CRUCE_MADRE.index = range(CRUCE_MADRE.shape[0])"
   ]
  },
  {
   "cell_type": "code",
   "execution_count": 27,
   "metadata": {},
   "outputs": [],
   "source": [
    "CRUCE_MADRE['CANAL']='Voz'"
   ]
  },
  {
   "cell_type": "code",
   "execution_count": 28,
   "metadata": {},
   "outputs": [
    {
     "data": {
      "text/html": [
       "<div>\n",
       "<style scoped>\n",
       "    .dataframe tbody tr th:only-of-type {\n",
       "        vertical-align: middle;\n",
       "    }\n",
       "\n",
       "    .dataframe tbody tr th {\n",
       "        vertical-align: top;\n",
       "    }\n",
       "\n",
       "    .dataframe thead th {\n",
       "        text-align: right;\n",
       "    }\n",
       "</style>\n",
       "<table border=\"1\" class=\"dataframe\">\n",
       "  <thead>\n",
       "    <tr style=\"text-align: right;\">\n",
       "      <th></th>\n",
       "      <th>Fecha</th>\n",
       "      <th>Hora</th>\n",
       "      <th>Cedula</th>\n",
       "      <th>Abandonada</th>\n",
       "      <th>RUT</th>\n",
       "      <th>CANAL</th>\n",
       "    </tr>\n",
       "  </thead>\n",
       "  <tbody>\n",
       "    <tr>\n",
       "      <th>0</th>\n",
       "      <td>2022-06-01 00:00:00</td>\n",
       "      <td>06:27:10</td>\n",
       "      <td>1023934681.0</td>\n",
       "      <td>Si</td>\n",
       "      <td>ENGAGE</td>\n",
       "      <td>Voz</td>\n",
       "    </tr>\n",
       "    <tr>\n",
       "      <th>1</th>\n",
       "      <td>2022-06-01 00:00:00</td>\n",
       "      <td>06:28:30</td>\n",
       "      <td>86072601.0</td>\n",
       "      <td>Si</td>\n",
       "      <td>ENGAGE</td>\n",
       "      <td>Voz</td>\n",
       "    </tr>\n",
       "    <tr>\n",
       "      <th>2</th>\n",
       "      <td>2022-06-01 00:00:00</td>\n",
       "      <td>06:32:33</td>\n",
       "      <td>79649787.0</td>\n",
       "      <td>Si</td>\n",
       "      <td>ENGAGE</td>\n",
       "      <td>Voz</td>\n",
       "    </tr>\n",
       "    <tr>\n",
       "      <th>3</th>\n",
       "      <td>2022-06-01 00:00:00</td>\n",
       "      <td>06:33:37</td>\n",
       "      <td>39581825.0</td>\n",
       "      <td>Si</td>\n",
       "      <td>ENGAGE</td>\n",
       "      <td>Voz</td>\n",
       "    </tr>\n",
       "    <tr>\n",
       "      <th>4</th>\n",
       "      <td>2022-06-01 00:00:00</td>\n",
       "      <td>06:35:36</td>\n",
       "      <td>1000131289.0</td>\n",
       "      <td>Si</td>\n",
       "      <td>ENGAGE</td>\n",
       "      <td>Voz</td>\n",
       "    </tr>\n",
       "    <tr>\n",
       "      <th>...</th>\n",
       "      <td>...</td>\n",
       "      <td>...</td>\n",
       "      <td>...</td>\n",
       "      <td>...</td>\n",
       "      <td>...</td>\n",
       "      <td>...</td>\n",
       "    </tr>\n",
       "    <tr>\n",
       "      <th>2598288</th>\n",
       "      <td>2022-09-30 23:57:00</td>\n",
       "      <td>23:57:0</td>\n",
       "      <td>29344977.0</td>\n",
       "      <td>SÍ</td>\n",
       "      <td>CLOUND</td>\n",
       "      <td>Voz</td>\n",
       "    </tr>\n",
       "    <tr>\n",
       "      <th>2598289</th>\n",
       "      <td>2022-09-30 23:59:00</td>\n",
       "      <td>23:59:0</td>\n",
       "      <td>1030686284.0</td>\n",
       "      <td>SÍ</td>\n",
       "      <td>CLOUND</td>\n",
       "      <td>Voz</td>\n",
       "    </tr>\n",
       "    <tr>\n",
       "      <th>2598290</th>\n",
       "      <td>2022-09-30 23:59:00</td>\n",
       "      <td>23:59:0</td>\n",
       "      <td>1002152174.0</td>\n",
       "      <td>SÍ</td>\n",
       "      <td>CLOUND</td>\n",
       "      <td>Voz</td>\n",
       "    </tr>\n",
       "    <tr>\n",
       "      <th>2598291</th>\n",
       "      <td>2022-09-30 23:59:00</td>\n",
       "      <td>23:59:0</td>\n",
       "      <td>37542233.0</td>\n",
       "      <td>SÍ</td>\n",
       "      <td>CLOUND</td>\n",
       "      <td>Voz</td>\n",
       "    </tr>\n",
       "    <tr>\n",
       "      <th>2598292</th>\n",
       "      <td>2022-09-30 23:59:00</td>\n",
       "      <td>23:59:0</td>\n",
       "      <td>1153463874.0</td>\n",
       "      <td>SÍ</td>\n",
       "      <td>CLOUND</td>\n",
       "      <td>Voz</td>\n",
       "    </tr>\n",
       "  </tbody>\n",
       "</table>\n",
       "<p>2598293 rows × 6 columns</p>\n",
       "</div>"
      ],
      "text/plain": [
       "                      Fecha      Hora        Cedula Abandonada     RUT CANAL\n",
       "0       2022-06-01 00:00:00  06:27:10  1023934681.0         Si  ENGAGE   Voz\n",
       "1       2022-06-01 00:00:00  06:28:30    86072601.0         Si  ENGAGE   Voz\n",
       "2       2022-06-01 00:00:00  06:32:33    79649787.0         Si  ENGAGE   Voz\n",
       "3       2022-06-01 00:00:00  06:33:37    39581825.0         Si  ENGAGE   Voz\n",
       "4       2022-06-01 00:00:00  06:35:36  1000131289.0         Si  ENGAGE   Voz\n",
       "...                     ...       ...           ...        ...     ...   ...\n",
       "2598288 2022-09-30 23:57:00   23:57:0    29344977.0         SÍ  CLOUND   Voz\n",
       "2598289 2022-09-30 23:59:00   23:59:0  1030686284.0         SÍ  CLOUND   Voz\n",
       "2598290 2022-09-30 23:59:00   23:59:0  1002152174.0         SÍ  CLOUND   Voz\n",
       "2598291 2022-09-30 23:59:00   23:59:0    37542233.0         SÍ  CLOUND   Voz\n",
       "2598292 2022-09-30 23:59:00   23:59:0  1153463874.0         SÍ  CLOUND   Voz\n",
       "\n",
       "[2598293 rows x 6 columns]"
      ]
     },
     "execution_count": 28,
     "metadata": {},
     "output_type": "execute_result"
    }
   ],
   "source": [
    "CRUCE_MADRE "
   ]
  },
  {
   "cell_type": "markdown",
   "metadata": {},
   "source": [
    "# UNIFICAR CON CHAT"
   ]
  },
  {
   "cell_type": "code",
   "execution_count": 29,
   "metadata": {},
   "outputs": [],
   "source": [
    "kernel='C:/Users/miavila/Desktop/CRUCE SCORE/3. CRUCE ENGAGE CLOUND/INT/CLOUND/CLOUND CHAT/'\n",
    "CHAT06=pd.read_excel(kernel+ 'Chat Jun.xlsx')\n",
    "CHAT07=pd.read_excel(kernel+ 'Chat Jul.xlsx')\n",
    "CHAT08=pd.read_excel(kernel+ 'Chat Ago.xlsx')\n",
    "CHAT09=pd.read_excel(kernel+ 'Chat Sept.xlsx')"
   ]
  },
  {
   "cell_type": "code",
   "execution_count": 30,
   "metadata": {},
   "outputs": [],
   "source": [
    "CH=pd.concat([CHAT06,CHAT07,CHAT08,CHAT09],axis=0)\n",
    "CH.index = range(CH.shape[0])"
   ]
  },
  {
   "cell_type": "code",
   "execution_count": 31,
   "metadata": {},
   "outputs": [
    {
     "data": {
      "text/html": [
       "<div>\n",
       "<style scoped>\n",
       "    .dataframe tbody tr th:only-of-type {\n",
       "        vertical-align: middle;\n",
       "    }\n",
       "\n",
       "    .dataframe tbody tr th {\n",
       "        vertical-align: top;\n",
       "    }\n",
       "\n",
       "    .dataframe thead th {\n",
       "        text-align: right;\n",
       "    }\n",
       "</style>\n",
       "<table border=\"1\" class=\"dataframe\">\n",
       "  <thead>\n",
       "    <tr style=\"text-align: right;\">\n",
       "      <th></th>\n",
       "      <th>Exportación completa finalizada</th>\n",
       "      <th>Marca de hora del resultado parcial</th>\n",
       "      <th>Filtros</th>\n",
       "      <th>Fecha</th>\n",
       "      <th>Etiqueta externa</th>\n",
       "    </tr>\n",
       "  </thead>\n",
       "  <tbody>\n",
       "    <tr>\n",
       "      <th>0</th>\n",
       "      <td>SÍ</td>\n",
       "      <td>NaN</td>\n",
       "      <td>Cola: Chat Persona Natural Publica Desborde; C...</td>\n",
       "      <td>2022-05-31 21:55:00</td>\n",
       "      <td>39385154.0</td>\n",
       "    </tr>\n",
       "    <tr>\n",
       "      <th>1</th>\n",
       "      <td>SÍ</td>\n",
       "      <td>NaN</td>\n",
       "      <td>Cola: Chat Persona Natural Publica Desborde; C...</td>\n",
       "      <td>2022-05-31 22:54:00</td>\n",
       "      <td>55248338.0</td>\n",
       "    </tr>\n",
       "    <tr>\n",
       "      <th>2</th>\n",
       "      <td>SÍ</td>\n",
       "      <td>NaN</td>\n",
       "      <td>Cola: Chat Persona Natural Publica Desborde; C...</td>\n",
       "      <td>2022-05-31 23:36:00</td>\n",
       "      <td>22238469.0</td>\n",
       "    </tr>\n",
       "    <tr>\n",
       "      <th>3</th>\n",
       "      <td>SÍ</td>\n",
       "      <td>NaN</td>\n",
       "      <td>Cola: Chat Persona Natural Publica Desborde; C...</td>\n",
       "      <td>2022-05-31 23:40:00</td>\n",
       "      <td>1094930297.0</td>\n",
       "    </tr>\n",
       "    <tr>\n",
       "      <th>4</th>\n",
       "      <td>SÍ</td>\n",
       "      <td>NaN</td>\n",
       "      <td>Cola: Chat Persona Natural Publica Desborde; C...</td>\n",
       "      <td>2022-05-31 23:43:00</td>\n",
       "      <td>20716535.0</td>\n",
       "    </tr>\n",
       "    <tr>\n",
       "      <th>...</th>\n",
       "      <td>...</td>\n",
       "      <td>...</td>\n",
       "      <td>...</td>\n",
       "      <td>...</td>\n",
       "      <td>...</td>\n",
       "    </tr>\n",
       "    <tr>\n",
       "      <th>816801</th>\n",
       "      <td>SÍ</td>\n",
       "      <td>NaN</td>\n",
       "      <td>Cola: Chat Persona Natural Publica Desborde; C...</td>\n",
       "      <td>2022-09-30 23:54:00</td>\n",
       "      <td>1088327137.0</td>\n",
       "    </tr>\n",
       "    <tr>\n",
       "      <th>816802</th>\n",
       "      <td>SÍ</td>\n",
       "      <td>NaN</td>\n",
       "      <td>Cola: Chat Persona Natural Publica Desborde; C...</td>\n",
       "      <td>2022-09-30 23:54:00</td>\n",
       "      <td>1019126041.0</td>\n",
       "    </tr>\n",
       "    <tr>\n",
       "      <th>816803</th>\n",
       "      <td>SÍ</td>\n",
       "      <td>NaN</td>\n",
       "      <td>Cola: Chat Persona Natural Publica Desborde; C...</td>\n",
       "      <td>2022-09-30 23:56:00</td>\n",
       "      <td>1233894122.0</td>\n",
       "    </tr>\n",
       "    <tr>\n",
       "      <th>816804</th>\n",
       "      <td>SÍ</td>\n",
       "      <td>NaN</td>\n",
       "      <td>Cola: Chat Persona Natural Publica Desborde; C...</td>\n",
       "      <td>2022-09-30 23:57:00</td>\n",
       "      <td>52840728.0</td>\n",
       "    </tr>\n",
       "    <tr>\n",
       "      <th>816805</th>\n",
       "      <td>SÍ</td>\n",
       "      <td>NaN</td>\n",
       "      <td>Cola: Chat Persona Natural Publica Desborde; C...</td>\n",
       "      <td>2022-09-30 23:58:00</td>\n",
       "      <td>1070972502.0</td>\n",
       "    </tr>\n",
       "  </tbody>\n",
       "</table>\n",
       "<p>816806 rows × 5 columns</p>\n",
       "</div>"
      ],
      "text/plain": [
       "       Exportación completa finalizada  Marca de hora del resultado parcial  \\\n",
       "0                                   SÍ                                  NaN   \n",
       "1                                   SÍ                                  NaN   \n",
       "2                                   SÍ                                  NaN   \n",
       "3                                   SÍ                                  NaN   \n",
       "4                                   SÍ                                  NaN   \n",
       "...                                ...                                  ...   \n",
       "816801                              SÍ                                  NaN   \n",
       "816802                              SÍ                                  NaN   \n",
       "816803                              SÍ                                  NaN   \n",
       "816804                              SÍ                                  NaN   \n",
       "816805                              SÍ                                  NaN   \n",
       "\n",
       "                                                  Filtros               Fecha  \\\n",
       "0       Cola: Chat Persona Natural Publica Desborde; C... 2022-05-31 21:55:00   \n",
       "1       Cola: Chat Persona Natural Publica Desborde; C... 2022-05-31 22:54:00   \n",
       "2       Cola: Chat Persona Natural Publica Desborde; C... 2022-05-31 23:36:00   \n",
       "3       Cola: Chat Persona Natural Publica Desborde; C... 2022-05-31 23:40:00   \n",
       "4       Cola: Chat Persona Natural Publica Desborde; C... 2022-05-31 23:43:00   \n",
       "...                                                   ...                 ...   \n",
       "816801  Cola: Chat Persona Natural Publica Desborde; C... 2022-09-30 23:54:00   \n",
       "816802  Cola: Chat Persona Natural Publica Desborde; C... 2022-09-30 23:54:00   \n",
       "816803  Cola: Chat Persona Natural Publica Desborde; C... 2022-09-30 23:56:00   \n",
       "816804  Cola: Chat Persona Natural Publica Desborde; C... 2022-09-30 23:57:00   \n",
       "816805  Cola: Chat Persona Natural Publica Desborde; C... 2022-09-30 23:58:00   \n",
       "\n",
       "       Etiqueta externa  \n",
       "0            39385154.0  \n",
       "1            55248338.0  \n",
       "2            22238469.0  \n",
       "3          1094930297.0  \n",
       "4            20716535.0  \n",
       "...                 ...  \n",
       "816801     1088327137.0  \n",
       "816802     1019126041.0  \n",
       "816803     1233894122.0  \n",
       "816804       52840728.0  \n",
       "816805     1070972502.0  \n",
       "\n",
       "[816806 rows x 5 columns]"
      ]
     },
     "execution_count": 31,
     "metadata": {},
     "output_type": "execute_result"
    }
   ],
   "source": [
    "CH"
   ]
  },
  {
   "cell_type": "code",
   "execution_count": 40,
   "metadata": {},
   "outputs": [
    {
     "data": {
      "text/plain": [
       "Exportación completa finalizada                object\n",
       "Marca de hora del resultado parcial           float64\n",
       "Filtros                                        object\n",
       "Fecha                                  datetime64[ns]\n",
       "Etiqueta externa                               object\n",
       "dtype: object"
      ]
     },
     "execution_count": 40,
     "metadata": {},
     "output_type": "execute_result"
    }
   ],
   "source": [
    "CH.dtypes"
   ]
  },
  {
   "cell_type": "code",
   "execution_count": 574,
   "metadata": {},
   "outputs": [],
   "source": [
    "# A M D\n",
    "#CH['Fecha']=CH['Fecha'].astype(np.datetime64)"
   ]
  },
  {
   "cell_type": "markdown",
   "metadata": {},
   "source": [
    "# D M A  ->   A M D"
   ]
  },
  {
   "cell_type": "code",
   "execution_count": 636,
   "metadata": {},
   "outputs": [],
   "source": [
    "#CH.sort_values(by='Fecha') \n",
    "#CH.index = range(CH.shape[0])"
   ]
  },
  {
   "cell_type": "code",
   "execution_count": 30,
   "metadata": {},
   "outputs": [
    {
     "data": {
      "text/plain": [
       "Exportación completa finalizada                object\n",
       "Marca de hora del resultado parcial           float64\n",
       "Filtros                                        object\n",
       "Fecha                                  datetime64[ns]\n",
       "Etiqueta externa                               object\n",
       "dtype: object"
      ]
     },
     "execution_count": 30,
     "metadata": {},
     "output_type": "execute_result"
    }
   ],
   "source": [
    "CH.dtypes"
   ]
  },
  {
   "cell_type": "code",
   "execution_count": 32,
   "metadata": {},
   "outputs": [],
   "source": [
    "CH['Hora']=CH['Fecha'].dt.hour.astype(str)+':'+CH['Fecha'].dt.minute.astype(str)+':'+CH['Fecha'].dt.second.astype(str)"
   ]
  },
  {
   "cell_type": "code",
   "execution_count": 33,
   "metadata": {},
   "outputs": [
    {
     "data": {
      "text/plain": [
       "Index(['Exportación completa finalizada',\n",
       "       'Marca de hora del resultado parcial', 'Filtros', 'Fecha',\n",
       "       'Etiqueta externa', 'Hora'],\n",
       "      dtype='object')"
      ]
     },
     "execution_count": 33,
     "metadata": {},
     "output_type": "execute_result"
    }
   ],
   "source": [
    "CH.columns"
   ]
  },
  {
   "cell_type": "code",
   "execution_count": 34,
   "metadata": {},
   "outputs": [],
   "source": [
    "CH['CANAL']='Chat'\n",
    "CH['Abandonada']='Chat'"
   ]
  },
  {
   "cell_type": "code",
   "execution_count": 35,
   "metadata": {},
   "outputs": [],
   "source": [
    "CH['RUT']='CHAT'"
   ]
  },
  {
   "cell_type": "code",
   "execution_count": 36,
   "metadata": {},
   "outputs": [
    {
     "data": {
      "text/plain": [
       "(Index(['Fecha', 'Hora', 'Cedula', 'Abandonada', 'RUT'], dtype='object'),\n",
       " Index(['Exportación completa finalizada',\n",
       "        'Marca de hora del resultado parcial', 'Filtros', 'Fecha',\n",
       "        'Etiqueta externa', 'Hora', 'CANAL', 'Abandonada', 'RUT'],\n",
       "       dtype='object'))"
      ]
     },
     "execution_count": 36,
     "metadata": {},
     "output_type": "execute_result"
    }
   ],
   "source": [
    "CLO.columns, CH.columns"
   ]
  },
  {
   "cell_type": "code",
   "execution_count": 37,
   "metadata": {},
   "outputs": [],
   "source": [
    "CHAT=pd.DataFrame(CH,columns=['Fecha','Hora','Etiqueta externa','Abandonada','CANAL','RUT'])\n",
    "CHAT.rename(columns={'Etiqueta externa':'Cedula'},inplace=True)"
   ]
  },
  {
   "cell_type": "code",
   "execution_count": 640,
   "metadata": {},
   "outputs": [],
   "source": [
    "#CHAT['CedulaN']=CHAT['Cedula'].apply(extraer_tratamiento)"
   ]
  },
  {
   "cell_type": "code",
   "execution_count": 38,
   "metadata": {},
   "outputs": [],
   "source": [
    "CHAT=pd.DataFrame(CHAT,columns=['Fecha','Hora','Cedula','Abandonada','CANAL','RUT'])"
   ]
  },
  {
   "cell_type": "markdown",
   "metadata": {},
   "source": [
    "# CRUCE MADRE"
   ]
  },
  {
   "cell_type": "code",
   "execution_count": 39,
   "metadata": {},
   "outputs": [],
   "source": [
    "CRUCE_MADRE_CH= concat([CRUCE_MADRE,CHAT],axis=0)\n",
    "CRUCE_MADRE_CH.index = range(CRUCE_MADRE_CH.shape[0])"
   ]
  },
  {
   "cell_type": "code",
   "execution_count": 40,
   "metadata": {},
   "outputs": [
    {
     "data": {
      "text/plain": [
       "False"
      ]
     },
     "execution_count": 40,
     "metadata": {},
     "output_type": "execute_result"
    }
   ],
   "source": [
    "CRUCE_MADRE_CH.Cedula.dtypes==np.float64"
   ]
  },
  {
   "cell_type": "code",
   "execution_count": 41,
   "metadata": {},
   "outputs": [
    {
     "data": {
      "text/html": [
       "<div>\n",
       "<style scoped>\n",
       "    .dataframe tbody tr th:only-of-type {\n",
       "        vertical-align: middle;\n",
       "    }\n",
       "\n",
       "    .dataframe tbody tr th {\n",
       "        vertical-align: top;\n",
       "    }\n",
       "\n",
       "    .dataframe thead th {\n",
       "        text-align: right;\n",
       "    }\n",
       "</style>\n",
       "<table border=\"1\" class=\"dataframe\">\n",
       "  <thead>\n",
       "    <tr style=\"text-align: right;\">\n",
       "      <th></th>\n",
       "      <th>Fecha</th>\n",
       "      <th>Hora</th>\n",
       "      <th>Cedula</th>\n",
       "      <th>Abandonada</th>\n",
       "      <th>RUT</th>\n",
       "      <th>CANAL</th>\n",
       "    </tr>\n",
       "  </thead>\n",
       "  <tbody>\n",
       "    <tr>\n",
       "      <th>0</th>\n",
       "      <td>2022-06-01 00:00:00</td>\n",
       "      <td>06:27:10</td>\n",
       "      <td>1023934681.0</td>\n",
       "      <td>Si</td>\n",
       "      <td>ENGAGE</td>\n",
       "      <td>Voz</td>\n",
       "    </tr>\n",
       "    <tr>\n",
       "      <th>1</th>\n",
       "      <td>2022-06-01 00:00:00</td>\n",
       "      <td>06:28:30</td>\n",
       "      <td>86072601.0</td>\n",
       "      <td>Si</td>\n",
       "      <td>ENGAGE</td>\n",
       "      <td>Voz</td>\n",
       "    </tr>\n",
       "    <tr>\n",
       "      <th>2</th>\n",
       "      <td>2022-06-01 00:00:00</td>\n",
       "      <td>06:32:33</td>\n",
       "      <td>79649787.0</td>\n",
       "      <td>Si</td>\n",
       "      <td>ENGAGE</td>\n",
       "      <td>Voz</td>\n",
       "    </tr>\n",
       "    <tr>\n",
       "      <th>3</th>\n",
       "      <td>2022-06-01 00:00:00</td>\n",
       "      <td>06:33:37</td>\n",
       "      <td>39581825.0</td>\n",
       "      <td>Si</td>\n",
       "      <td>ENGAGE</td>\n",
       "      <td>Voz</td>\n",
       "    </tr>\n",
       "    <tr>\n",
       "      <th>4</th>\n",
       "      <td>2022-06-01 00:00:00</td>\n",
       "      <td>06:35:36</td>\n",
       "      <td>1000131289.0</td>\n",
       "      <td>Si</td>\n",
       "      <td>ENGAGE</td>\n",
       "      <td>Voz</td>\n",
       "    </tr>\n",
       "    <tr>\n",
       "      <th>...</th>\n",
       "      <td>...</td>\n",
       "      <td>...</td>\n",
       "      <td>...</td>\n",
       "      <td>...</td>\n",
       "      <td>...</td>\n",
       "      <td>...</td>\n",
       "    </tr>\n",
       "    <tr>\n",
       "      <th>3415094</th>\n",
       "      <td>2022-09-30 23:54:00</td>\n",
       "      <td>23:54:0</td>\n",
       "      <td>1088327137.0</td>\n",
       "      <td>Chat</td>\n",
       "      <td>CHAT</td>\n",
       "      <td>Chat</td>\n",
       "    </tr>\n",
       "    <tr>\n",
       "      <th>3415095</th>\n",
       "      <td>2022-09-30 23:54:00</td>\n",
       "      <td>23:54:0</td>\n",
       "      <td>1019126041.0</td>\n",
       "      <td>Chat</td>\n",
       "      <td>CHAT</td>\n",
       "      <td>Chat</td>\n",
       "    </tr>\n",
       "    <tr>\n",
       "      <th>3415096</th>\n",
       "      <td>2022-09-30 23:56:00</td>\n",
       "      <td>23:56:0</td>\n",
       "      <td>1233894122.0</td>\n",
       "      <td>Chat</td>\n",
       "      <td>CHAT</td>\n",
       "      <td>Chat</td>\n",
       "    </tr>\n",
       "    <tr>\n",
       "      <th>3415097</th>\n",
       "      <td>2022-09-30 23:57:00</td>\n",
       "      <td>23:57:0</td>\n",
       "      <td>52840728.0</td>\n",
       "      <td>Chat</td>\n",
       "      <td>CHAT</td>\n",
       "      <td>Chat</td>\n",
       "    </tr>\n",
       "    <tr>\n",
       "      <th>3415098</th>\n",
       "      <td>2022-09-30 23:58:00</td>\n",
       "      <td>23:58:0</td>\n",
       "      <td>1070972502.0</td>\n",
       "      <td>Chat</td>\n",
       "      <td>CHAT</td>\n",
       "      <td>Chat</td>\n",
       "    </tr>\n",
       "  </tbody>\n",
       "</table>\n",
       "<p>3415099 rows × 6 columns</p>\n",
       "</div>"
      ],
      "text/plain": [
       "                      Fecha      Hora        Cedula Abandonada     RUT CANAL\n",
       "0       2022-06-01 00:00:00  06:27:10  1023934681.0         Si  ENGAGE   Voz\n",
       "1       2022-06-01 00:00:00  06:28:30    86072601.0         Si  ENGAGE   Voz\n",
       "2       2022-06-01 00:00:00  06:32:33    79649787.0         Si  ENGAGE   Voz\n",
       "3       2022-06-01 00:00:00  06:33:37    39581825.0         Si  ENGAGE   Voz\n",
       "4       2022-06-01 00:00:00  06:35:36  1000131289.0         Si  ENGAGE   Voz\n",
       "...                     ...       ...           ...        ...     ...   ...\n",
       "3415094 2022-09-30 23:54:00   23:54:0  1088327137.0       Chat    CHAT  Chat\n",
       "3415095 2022-09-30 23:54:00   23:54:0  1019126041.0       Chat    CHAT  Chat\n",
       "3415096 2022-09-30 23:56:00   23:56:0  1233894122.0       Chat    CHAT  Chat\n",
       "3415097 2022-09-30 23:57:00   23:57:0    52840728.0       Chat    CHAT  Chat\n",
       "3415098 2022-09-30 23:58:00   23:58:0  1070972502.0       Chat    CHAT  Chat\n",
       "\n",
       "[3415099 rows x 6 columns]"
      ]
     },
     "execution_count": 41,
     "metadata": {},
     "output_type": "execute_result"
    }
   ],
   "source": [
    "CRUCE_MADRE_CH"
   ]
  },
  {
   "cell_type": "code",
   "execution_count": 42,
   "metadata": {},
   "outputs": [],
   "source": [
    "CRUCE_MADRE_CH['CedulaN']=CRUCE_MADRE_CH['Cedula']\n"
   ]
  },
  {
   "cell_type": "code",
   "execution_count": 43,
   "metadata": {},
   "outputs": [
    {
     "data": {
      "text/html": [
       "<div>\n",
       "<style scoped>\n",
       "    .dataframe tbody tr th:only-of-type {\n",
       "        vertical-align: middle;\n",
       "    }\n",
       "\n",
       "    .dataframe tbody tr th {\n",
       "        vertical-align: top;\n",
       "    }\n",
       "\n",
       "    .dataframe thead th {\n",
       "        text-align: right;\n",
       "    }\n",
       "</style>\n",
       "<table border=\"1\" class=\"dataframe\">\n",
       "  <thead>\n",
       "    <tr style=\"text-align: right;\">\n",
       "      <th></th>\n",
       "      <th>Fecha</th>\n",
       "      <th>Hora</th>\n",
       "      <th>Cedula</th>\n",
       "      <th>Abandonada</th>\n",
       "      <th>RUT</th>\n",
       "      <th>CANAL</th>\n",
       "      <th>CedulaN</th>\n",
       "    </tr>\n",
       "  </thead>\n",
       "  <tbody>\n",
       "    <tr>\n",
       "      <th>0</th>\n",
       "      <td>2022-06-01 00:00:00</td>\n",
       "      <td>06:27:10</td>\n",
       "      <td>1023934681.0</td>\n",
       "      <td>Si</td>\n",
       "      <td>ENGAGE</td>\n",
       "      <td>Voz</td>\n",
       "      <td>1023934681.0</td>\n",
       "    </tr>\n",
       "    <tr>\n",
       "      <th>1</th>\n",
       "      <td>2022-06-01 00:00:00</td>\n",
       "      <td>06:28:30</td>\n",
       "      <td>86072601.0</td>\n",
       "      <td>Si</td>\n",
       "      <td>ENGAGE</td>\n",
       "      <td>Voz</td>\n",
       "      <td>86072601.0</td>\n",
       "    </tr>\n",
       "    <tr>\n",
       "      <th>2</th>\n",
       "      <td>2022-06-01 00:00:00</td>\n",
       "      <td>06:32:33</td>\n",
       "      <td>79649787.0</td>\n",
       "      <td>Si</td>\n",
       "      <td>ENGAGE</td>\n",
       "      <td>Voz</td>\n",
       "      <td>79649787.0</td>\n",
       "    </tr>\n",
       "    <tr>\n",
       "      <th>3</th>\n",
       "      <td>2022-06-01 00:00:00</td>\n",
       "      <td>06:33:37</td>\n",
       "      <td>39581825.0</td>\n",
       "      <td>Si</td>\n",
       "      <td>ENGAGE</td>\n",
       "      <td>Voz</td>\n",
       "      <td>39581825.0</td>\n",
       "    </tr>\n",
       "    <tr>\n",
       "      <th>4</th>\n",
       "      <td>2022-06-01 00:00:00</td>\n",
       "      <td>06:35:36</td>\n",
       "      <td>1000131289.0</td>\n",
       "      <td>Si</td>\n",
       "      <td>ENGAGE</td>\n",
       "      <td>Voz</td>\n",
       "      <td>1000131289.0</td>\n",
       "    </tr>\n",
       "    <tr>\n",
       "      <th>...</th>\n",
       "      <td>...</td>\n",
       "      <td>...</td>\n",
       "      <td>...</td>\n",
       "      <td>...</td>\n",
       "      <td>...</td>\n",
       "      <td>...</td>\n",
       "      <td>...</td>\n",
       "    </tr>\n",
       "    <tr>\n",
       "      <th>3415094</th>\n",
       "      <td>2022-09-30 23:54:00</td>\n",
       "      <td>23:54:0</td>\n",
       "      <td>1088327137.0</td>\n",
       "      <td>Chat</td>\n",
       "      <td>CHAT</td>\n",
       "      <td>Chat</td>\n",
       "      <td>1088327137.0</td>\n",
       "    </tr>\n",
       "    <tr>\n",
       "      <th>3415095</th>\n",
       "      <td>2022-09-30 23:54:00</td>\n",
       "      <td>23:54:0</td>\n",
       "      <td>1019126041.0</td>\n",
       "      <td>Chat</td>\n",
       "      <td>CHAT</td>\n",
       "      <td>Chat</td>\n",
       "      <td>1019126041.0</td>\n",
       "    </tr>\n",
       "    <tr>\n",
       "      <th>3415096</th>\n",
       "      <td>2022-09-30 23:56:00</td>\n",
       "      <td>23:56:0</td>\n",
       "      <td>1233894122.0</td>\n",
       "      <td>Chat</td>\n",
       "      <td>CHAT</td>\n",
       "      <td>Chat</td>\n",
       "      <td>1233894122.0</td>\n",
       "    </tr>\n",
       "    <tr>\n",
       "      <th>3415097</th>\n",
       "      <td>2022-09-30 23:57:00</td>\n",
       "      <td>23:57:0</td>\n",
       "      <td>52840728.0</td>\n",
       "      <td>Chat</td>\n",
       "      <td>CHAT</td>\n",
       "      <td>Chat</td>\n",
       "      <td>52840728.0</td>\n",
       "    </tr>\n",
       "    <tr>\n",
       "      <th>3415098</th>\n",
       "      <td>2022-09-30 23:58:00</td>\n",
       "      <td>23:58:0</td>\n",
       "      <td>1070972502.0</td>\n",
       "      <td>Chat</td>\n",
       "      <td>CHAT</td>\n",
       "      <td>Chat</td>\n",
       "      <td>1070972502.0</td>\n",
       "    </tr>\n",
       "  </tbody>\n",
       "</table>\n",
       "<p>3415099 rows × 7 columns</p>\n",
       "</div>"
      ],
      "text/plain": [
       "                      Fecha      Hora        Cedula Abandonada     RUT CANAL  \\\n",
       "0       2022-06-01 00:00:00  06:27:10  1023934681.0         Si  ENGAGE   Voz   \n",
       "1       2022-06-01 00:00:00  06:28:30    86072601.0         Si  ENGAGE   Voz   \n",
       "2       2022-06-01 00:00:00  06:32:33    79649787.0         Si  ENGAGE   Voz   \n",
       "3       2022-06-01 00:00:00  06:33:37    39581825.0         Si  ENGAGE   Voz   \n",
       "4       2022-06-01 00:00:00  06:35:36  1000131289.0         Si  ENGAGE   Voz   \n",
       "...                     ...       ...           ...        ...     ...   ...   \n",
       "3415094 2022-09-30 23:54:00   23:54:0  1088327137.0       Chat    CHAT  Chat   \n",
       "3415095 2022-09-30 23:54:00   23:54:0  1019126041.0       Chat    CHAT  Chat   \n",
       "3415096 2022-09-30 23:56:00   23:56:0  1233894122.0       Chat    CHAT  Chat   \n",
       "3415097 2022-09-30 23:57:00   23:57:0    52840728.0       Chat    CHAT  Chat   \n",
       "3415098 2022-09-30 23:58:00   23:58:0  1070972502.0       Chat    CHAT  Chat   \n",
       "\n",
       "              CedulaN  \n",
       "0        1023934681.0  \n",
       "1          86072601.0  \n",
       "2          79649787.0  \n",
       "3          39581825.0  \n",
       "4        1000131289.0  \n",
       "...               ...  \n",
       "3415094  1088327137.0  \n",
       "3415095  1019126041.0  \n",
       "3415096  1233894122.0  \n",
       "3415097    52840728.0  \n",
       "3415098  1070972502.0  \n",
       "\n",
       "[3415099 rows x 7 columns]"
      ]
     },
     "execution_count": 43,
     "metadata": {},
     "output_type": "execute_result"
    }
   ],
   "source": [
    "CRUCE_MADRE_CH"
   ]
  },
  {
   "cell_type": "code",
   "execution_count": 44,
   "metadata": {},
   "outputs": [
    {
     "name": "stderr",
     "output_type": "stream",
     "text": [
      "C:\\Users\\miavila\\AppData\\Local\\Temp\\ipykernel_17012\\3134955343.py:9: FutureWarning: The frame.append method is deprecated and will be removed from pandas in a future version. Use pandas.concat instead.\n",
      "  IM = IM.append(nueva_fila, ignore_index=True)\n",
      "C:\\Users\\miavila\\AppData\\Local\\Temp\\ipykernel_17012\\3134955343.py:10: FutureWarning: The frame.append method is deprecated and will be removed from pandas in a future version. Use pandas.concat instead.\n",
      "  IM = IM.append(nueva_fila2, ignore_index=True)\n"
     ]
    }
   ],
   "source": [
    "IM=pd.DataFrame(impala,columns=['nro_identificacion','score_prioridad'])\n",
    "IM.rename(columns={'nro_identificacion':'CedulaN'},inplace=True)\n",
    "#NAN                    \n",
    "nueva_fila = {'CedulaN': -2, 'score_prioridad':-2} # NAN = CEDULA -2\n",
    "#SI TIENE CARACTER ESPECIAL COMO *, o algun caracter string \n",
    "nueva_fila2 = {'CedulaN':-1, 'score_prioridad':-1}\n",
    "\n",
    "#Añadiendo una fila al dataframe\n",
    "IM = IM.append(nueva_fila, ignore_index=True)\n",
    "IM = IM.append(nueva_fila2, ignore_index=True)"
   ]
  },
  {
   "cell_type": "code",
   "execution_count": 50,
   "metadata": {},
   "outputs": [
    {
     "data": {
      "text/html": [
       "<div>\n",
       "<style scoped>\n",
       "    .dataframe tbody tr th:only-of-type {\n",
       "        vertical-align: middle;\n",
       "    }\n",
       "\n",
       "    .dataframe tbody tr th {\n",
       "        vertical-align: top;\n",
       "    }\n",
       "\n",
       "    .dataframe thead th {\n",
       "        text-align: right;\n",
       "    }\n",
       "</style>\n",
       "<table border=\"1\" class=\"dataframe\">\n",
       "  <thead>\n",
       "    <tr style=\"text-align: right;\">\n",
       "      <th></th>\n",
       "      <th>CedulaN</th>\n",
       "      <th>score_prioridad</th>\n",
       "    </tr>\n",
       "  </thead>\n",
       "  <tbody>\n",
       "    <tr>\n",
       "      <th>19427</th>\n",
       "      <td>4170264.0</td>\n",
       "      <td>8.0</td>\n",
       "    </tr>\n",
       "    <tr>\n",
       "      <th>19428</th>\n",
       "      <td>78748361.0</td>\n",
       "      <td>12.0</td>\n",
       "    </tr>\n",
       "    <tr>\n",
       "      <th>19429</th>\n",
       "      <td>30030776.0</td>\n",
       "      <td>6.0</td>\n",
       "    </tr>\n",
       "    <tr>\n",
       "      <th>19430</th>\n",
       "      <td>-2.0</td>\n",
       "      <td>-2.0</td>\n",
       "    </tr>\n",
       "    <tr>\n",
       "      <th>19431</th>\n",
       "      <td>-1.0</td>\n",
       "      <td>-1.0</td>\n",
       "    </tr>\n",
       "  </tbody>\n",
       "</table>\n",
       "</div>"
      ],
      "text/plain": [
       "          CedulaN  score_prioridad\n",
       "19427   4170264.0              8.0\n",
       "19428  78748361.0             12.0\n",
       "19429  30030776.0              6.0\n",
       "19430        -2.0             -2.0\n",
       "19431        -1.0             -1.0"
      ]
     },
     "execution_count": 50,
     "metadata": {},
     "output_type": "execute_result"
    }
   ],
   "source": [
    "IM.tail()"
   ]
  },
  {
   "cell_type": "code",
   "execution_count": 51,
   "metadata": {},
   "outputs": [
    {
     "data": {
      "text/plain": [
       "73526"
      ]
     },
     "execution_count": 51,
     "metadata": {},
     "output_type": "execute_result"
    }
   ],
   "source": [
    "CRUCE_MADRE_CH.Cedula.isna().sum()"
   ]
  },
  {
   "cell_type": "code",
   "execution_count": 45,
   "metadata": {},
   "outputs": [],
   "source": [
    "CRUCE_MADRE_CH.CedulaN.replace(np.nan,-2,inplace=True)"
   ]
  },
  {
   "cell_type": "code",
   "execution_count": 53,
   "metadata": {},
   "outputs": [
    {
     "data": {
      "text/plain": [
       "0"
      ]
     },
     "execution_count": 53,
     "metadata": {},
     "output_type": "execute_result"
    }
   ],
   "source": [
    "CRUCE_MADRE_CH.CedulaN.isna().sum()\n"
   ]
  },
  {
   "cell_type": "markdown",
   "metadata": {},
   "source": [
    "## reemplazo de las C.C NAN EN -2"
   ]
  },
  {
   "cell_type": "code",
   "execution_count": 46,
   "metadata": {},
   "outputs": [
    {
     "data": {
      "text/html": [
       "<div>\n",
       "<style scoped>\n",
       "    .dataframe tbody tr th:only-of-type {\n",
       "        vertical-align: middle;\n",
       "    }\n",
       "\n",
       "    .dataframe tbody tr th {\n",
       "        vertical-align: top;\n",
       "    }\n",
       "\n",
       "    .dataframe thead th {\n",
       "        text-align: right;\n",
       "    }\n",
       "</style>\n",
       "<table border=\"1\" class=\"dataframe\">\n",
       "  <thead>\n",
       "    <tr style=\"text-align: right;\">\n",
       "      <th></th>\n",
       "      <th>Fecha</th>\n",
       "      <th>Hora</th>\n",
       "      <th>Cedula</th>\n",
       "      <th>Abandonada</th>\n",
       "      <th>RUT</th>\n",
       "      <th>CANAL</th>\n",
       "      <th>CedulaN</th>\n",
       "    </tr>\n",
       "  </thead>\n",
       "  <tbody>\n",
       "    <tr>\n",
       "      <th>0</th>\n",
       "      <td>2022-06-01 00:00:00</td>\n",
       "      <td>06:27:10</td>\n",
       "      <td>1023934681.0</td>\n",
       "      <td>Si</td>\n",
       "      <td>ENGAGE</td>\n",
       "      <td>Voz</td>\n",
       "      <td>1023934681.0</td>\n",
       "    </tr>\n",
       "    <tr>\n",
       "      <th>1</th>\n",
       "      <td>2022-06-01 00:00:00</td>\n",
       "      <td>06:28:30</td>\n",
       "      <td>86072601.0</td>\n",
       "      <td>Si</td>\n",
       "      <td>ENGAGE</td>\n",
       "      <td>Voz</td>\n",
       "      <td>86072601.0</td>\n",
       "    </tr>\n",
       "    <tr>\n",
       "      <th>2</th>\n",
       "      <td>2022-06-01 00:00:00</td>\n",
       "      <td>06:32:33</td>\n",
       "      <td>79649787.0</td>\n",
       "      <td>Si</td>\n",
       "      <td>ENGAGE</td>\n",
       "      <td>Voz</td>\n",
       "      <td>79649787.0</td>\n",
       "    </tr>\n",
       "    <tr>\n",
       "      <th>3</th>\n",
       "      <td>2022-06-01 00:00:00</td>\n",
       "      <td>06:33:37</td>\n",
       "      <td>39581825.0</td>\n",
       "      <td>Si</td>\n",
       "      <td>ENGAGE</td>\n",
       "      <td>Voz</td>\n",
       "      <td>39581825.0</td>\n",
       "    </tr>\n",
       "    <tr>\n",
       "      <th>4</th>\n",
       "      <td>2022-06-01 00:00:00</td>\n",
       "      <td>06:35:36</td>\n",
       "      <td>1000131289.0</td>\n",
       "      <td>Si</td>\n",
       "      <td>ENGAGE</td>\n",
       "      <td>Voz</td>\n",
       "      <td>1000131289.0</td>\n",
       "    </tr>\n",
       "    <tr>\n",
       "      <th>...</th>\n",
       "      <td>...</td>\n",
       "      <td>...</td>\n",
       "      <td>...</td>\n",
       "      <td>...</td>\n",
       "      <td>...</td>\n",
       "      <td>...</td>\n",
       "      <td>...</td>\n",
       "    </tr>\n",
       "    <tr>\n",
       "      <th>3415094</th>\n",
       "      <td>2022-09-30 23:54:00</td>\n",
       "      <td>23:54:0</td>\n",
       "      <td>1088327137.0</td>\n",
       "      <td>Chat</td>\n",
       "      <td>CHAT</td>\n",
       "      <td>Chat</td>\n",
       "      <td>1088327137.0</td>\n",
       "    </tr>\n",
       "    <tr>\n",
       "      <th>3415095</th>\n",
       "      <td>2022-09-30 23:54:00</td>\n",
       "      <td>23:54:0</td>\n",
       "      <td>1019126041.0</td>\n",
       "      <td>Chat</td>\n",
       "      <td>CHAT</td>\n",
       "      <td>Chat</td>\n",
       "      <td>1019126041.0</td>\n",
       "    </tr>\n",
       "    <tr>\n",
       "      <th>3415096</th>\n",
       "      <td>2022-09-30 23:56:00</td>\n",
       "      <td>23:56:0</td>\n",
       "      <td>1233894122.0</td>\n",
       "      <td>Chat</td>\n",
       "      <td>CHAT</td>\n",
       "      <td>Chat</td>\n",
       "      <td>1233894122.0</td>\n",
       "    </tr>\n",
       "    <tr>\n",
       "      <th>3415097</th>\n",
       "      <td>2022-09-30 23:57:00</td>\n",
       "      <td>23:57:0</td>\n",
       "      <td>52840728.0</td>\n",
       "      <td>Chat</td>\n",
       "      <td>CHAT</td>\n",
       "      <td>Chat</td>\n",
       "      <td>52840728.0</td>\n",
       "    </tr>\n",
       "    <tr>\n",
       "      <th>3415098</th>\n",
       "      <td>2022-09-30 23:58:00</td>\n",
       "      <td>23:58:0</td>\n",
       "      <td>1070972502.0</td>\n",
       "      <td>Chat</td>\n",
       "      <td>CHAT</td>\n",
       "      <td>Chat</td>\n",
       "      <td>1070972502.0</td>\n",
       "    </tr>\n",
       "  </tbody>\n",
       "</table>\n",
       "<p>3415099 rows × 7 columns</p>\n",
       "</div>"
      ],
      "text/plain": [
       "                      Fecha      Hora        Cedula Abandonada     RUT CANAL  \\\n",
       "0       2022-06-01 00:00:00  06:27:10  1023934681.0         Si  ENGAGE   Voz   \n",
       "1       2022-06-01 00:00:00  06:28:30    86072601.0         Si  ENGAGE   Voz   \n",
       "2       2022-06-01 00:00:00  06:32:33    79649787.0         Si  ENGAGE   Voz   \n",
       "3       2022-06-01 00:00:00  06:33:37    39581825.0         Si  ENGAGE   Voz   \n",
       "4       2022-06-01 00:00:00  06:35:36  1000131289.0         Si  ENGAGE   Voz   \n",
       "...                     ...       ...           ...        ...     ...   ...   \n",
       "3415094 2022-09-30 23:54:00   23:54:0  1088327137.0       Chat    CHAT  Chat   \n",
       "3415095 2022-09-30 23:54:00   23:54:0  1019126041.0       Chat    CHAT  Chat   \n",
       "3415096 2022-09-30 23:56:00   23:56:0  1233894122.0       Chat    CHAT  Chat   \n",
       "3415097 2022-09-30 23:57:00   23:57:0    52840728.0       Chat    CHAT  Chat   \n",
       "3415098 2022-09-30 23:58:00   23:58:0  1070972502.0       Chat    CHAT  Chat   \n",
       "\n",
       "              CedulaN  \n",
       "0        1023934681.0  \n",
       "1          86072601.0  \n",
       "2          79649787.0  \n",
       "3          39581825.0  \n",
       "4        1000131289.0  \n",
       "...               ...  \n",
       "3415094  1088327137.0  \n",
       "3415095  1019126041.0  \n",
       "3415096  1233894122.0  \n",
       "3415097    52840728.0  \n",
       "3415098  1070972502.0  \n",
       "\n",
       "[3415099 rows x 7 columns]"
      ]
     },
     "execution_count": 46,
     "metadata": {},
     "output_type": "execute_result"
    }
   ],
   "source": [
    "CRUCE_MADRE_CH"
   ]
  },
  {
   "cell_type": "markdown",
   "metadata": {},
   "source": [
    "### filtro para cc en textoo convertirlas en (-1)"
   ]
  },
  {
   "cell_type": "code",
   "execution_count": 491,
   "metadata": {},
   "outputs": [],
   "source": [
    "#CRUCE_MADRE_CH['CedulaN']=CRUCE_MADRE_CH['CedulaNN'].apply(extraer_tratamiento)\n",
    "#CRUCE_MADRE_CH['CedulaN']=CRUCE_MADRE_CH['CedulaN'].astype(np.int64)"
   ]
  },
  {
   "cell_type": "code",
   "execution_count": 47,
   "metadata": {},
   "outputs": [],
   "source": [
    "\n",
    "SCORE=pd.read_excel('C:/Users/miavila/Desktop/CRUCE SCORE/3. CRUCE ENGAGE CLOUND/INT/Copia de SCORE PARA CALL JUL22.xlsx')\n",
    "SCORE['NRO_IDENTIFICACION']=SCORE['NRO_IDENTIFICACION'].astype(np.int64)\n",
    "\n",
    "SCORE_P=pd.DataFrame(SCORE,columns=['NRO_IDENTIFICACION', 'SCORE_PRIORIDAD'])\n",
    "SCORE_P.rename(columns={'NRO_IDENTIFICACION':'CedulaN','SCORE_PRIORIDAD':'SCORE CLV'},inplace=True)\n"
   ]
  },
  {
   "cell_type": "code",
   "execution_count": 55,
   "metadata": {},
   "outputs": [
    {
     "data": {
      "text/html": [
       "<div>\n",
       "<style scoped>\n",
       "    .dataframe tbody tr th:only-of-type {\n",
       "        vertical-align: middle;\n",
       "    }\n",
       "\n",
       "    .dataframe tbody tr th {\n",
       "        vertical-align: top;\n",
       "    }\n",
       "\n",
       "    .dataframe thead th {\n",
       "        text-align: right;\n",
       "    }\n",
       "</style>\n",
       "<table border=\"1\" class=\"dataframe\">\n",
       "  <thead>\n",
       "    <tr style=\"text-align: right;\">\n",
       "      <th></th>\n",
       "      <th>CedulaN</th>\n",
       "      <th>SCORE CLV</th>\n",
       "    </tr>\n",
       "  </thead>\n",
       "  <tbody>\n",
       "    <tr>\n",
       "      <th>0</th>\n",
       "      <td>1088287917</td>\n",
       "      <td>10.0</td>\n",
       "    </tr>\n",
       "    <tr>\n",
       "      <th>1</th>\n",
       "      <td>51671725</td>\n",
       "      <td>10.0</td>\n",
       "    </tr>\n",
       "    <tr>\n",
       "      <th>2</th>\n",
       "      <td>79787900</td>\n",
       "      <td>10.0</td>\n",
       "    </tr>\n",
       "    <tr>\n",
       "      <th>3</th>\n",
       "      <td>1045137624</td>\n",
       "      <td>10.0</td>\n",
       "    </tr>\n",
       "    <tr>\n",
       "      <th>4</th>\n",
       "      <td>1118843787</td>\n",
       "      <td>10.0</td>\n",
       "    </tr>\n",
       "    <tr>\n",
       "      <th>...</th>\n",
       "      <td>...</td>\n",
       "      <td>...</td>\n",
       "    </tr>\n",
       "    <tr>\n",
       "      <th>523407</th>\n",
       "      <td>79207020</td>\n",
       "      <td>10.0</td>\n",
       "    </tr>\n",
       "    <tr>\n",
       "      <th>523408</th>\n",
       "      <td>20933299</td>\n",
       "      <td>11.0</td>\n",
       "    </tr>\n",
       "    <tr>\n",
       "      <th>523409</th>\n",
       "      <td>65742518</td>\n",
       "      <td>10.0</td>\n",
       "    </tr>\n",
       "    <tr>\n",
       "      <th>523410</th>\n",
       "      <td>1052388412</td>\n",
       "      <td>10.0</td>\n",
       "    </tr>\n",
       "    <tr>\n",
       "      <th>523411</th>\n",
       "      <td>8567908</td>\n",
       "      <td>10.0</td>\n",
       "    </tr>\n",
       "  </tbody>\n",
       "</table>\n",
       "<p>523412 rows × 2 columns</p>\n",
       "</div>"
      ],
      "text/plain": [
       "           CedulaN  SCORE CLV\n",
       "0       1088287917       10.0\n",
       "1         51671725       10.0\n",
       "2         79787900       10.0\n",
       "3       1045137624       10.0\n",
       "4       1118843787       10.0\n",
       "...            ...        ...\n",
       "523407    79207020       10.0\n",
       "523408    20933299       11.0\n",
       "523409    65742518       10.0\n",
       "523410  1052388412       10.0\n",
       "523411     8567908       10.0\n",
       "\n",
       "[523412 rows x 2 columns]"
      ]
     },
     "execution_count": 55,
     "metadata": {},
     "output_type": "execute_result"
    }
   ],
   "source": [
    "SCORE_P"
   ]
  },
  {
   "cell_type": "code",
   "execution_count": 48,
   "metadata": {},
   "outputs": [
    {
     "name": "stderr",
     "output_type": "stream",
     "text": [
      "C:\\Users\\miavila\\AppData\\Local\\Temp\\ipykernel_17012\\3641705642.py:7: FutureWarning: The frame.append method is deprecated and will be removed from pandas in a future version. Use pandas.concat instead.\n",
      "  SCORE_P =SCORE_P.append(nueva_fila, ignore_index=True)\n",
      "C:\\Users\\miavila\\AppData\\Local\\Temp\\ipykernel_17012\\3641705642.py:8: FutureWarning: The frame.append method is deprecated and will be removed from pandas in a future version. Use pandas.concat instead.\n",
      "  SCORE_P= SCORE_P.append(nueva_fila2, ignore_index=True)\n"
     ]
    }
   ],
   "source": [
    "\n",
    "#NAN                    \n",
    "nueva_fila = {'CedulaN': -2, 'SCORE CLV':-2} # NAN = CEDULA -2\n",
    "#SI TIENE CARACTER ESPECIAL COMO *, o algun caracter string \n",
    "nueva_fila2 = {'CedulaN':-1, 'SCORE CLV':-1}\n",
    "\n",
    "#Añadiendo una fila al dataframe\n",
    "SCORE_P =SCORE_P.append(nueva_fila, ignore_index=True)\n",
    "SCORE_P= SCORE_P.append(nueva_fila2, ignore_index=True)"
   ]
  },
  {
   "cell_type": "code",
   "execution_count": 49,
   "metadata": {},
   "outputs": [],
   "source": [
    "SCORE_P['CedulaN']=SCORE_P['CedulaN'].astype(float)"
   ]
  },
  {
   "cell_type": "code",
   "execution_count": 568,
   "metadata": {},
   "outputs": [],
   "source": [
    "#CRUCE_MADRE_CH['CedulaN']=CRUCE_MADRE_CH['CedulaN'].astype(str)\n",
    "#IM['CedulaN']=IM['CedulaN'].astype(str)\n",
    "#SCORE_P['CedulaN']=SCORE_P['CedulaN'].astype(str)"
   ]
  },
  {
   "cell_type": "code",
   "execution_count": 50,
   "metadata": {},
   "outputs": [
    {
     "data": {
      "text/html": [
       "<div>\n",
       "<style scoped>\n",
       "    .dataframe tbody tr th:only-of-type {\n",
       "        vertical-align: middle;\n",
       "    }\n",
       "\n",
       "    .dataframe tbody tr th {\n",
       "        vertical-align: top;\n",
       "    }\n",
       "\n",
       "    .dataframe thead th {\n",
       "        text-align: right;\n",
       "    }\n",
       "</style>\n",
       "<table border=\"1\" class=\"dataframe\">\n",
       "  <thead>\n",
       "    <tr style=\"text-align: right;\">\n",
       "      <th></th>\n",
       "      <th>CedulaN</th>\n",
       "      <th>SCORE CLV</th>\n",
       "    </tr>\n",
       "  </thead>\n",
       "  <tbody>\n",
       "    <tr>\n",
       "      <th>523409</th>\n",
       "      <td>6.574252e+07</td>\n",
       "      <td>10.0</td>\n",
       "    </tr>\n",
       "    <tr>\n",
       "      <th>523410</th>\n",
       "      <td>1.052388e+09</td>\n",
       "      <td>10.0</td>\n",
       "    </tr>\n",
       "    <tr>\n",
       "      <th>523411</th>\n",
       "      <td>8.567908e+06</td>\n",
       "      <td>10.0</td>\n",
       "    </tr>\n",
       "    <tr>\n",
       "      <th>523412</th>\n",
       "      <td>-2.000000e+00</td>\n",
       "      <td>-2.0</td>\n",
       "    </tr>\n",
       "    <tr>\n",
       "      <th>523413</th>\n",
       "      <td>-1.000000e+00</td>\n",
       "      <td>-1.0</td>\n",
       "    </tr>\n",
       "  </tbody>\n",
       "</table>\n",
       "</div>"
      ],
      "text/plain": [
       "             CedulaN  SCORE CLV\n",
       "523409  6.574252e+07       10.0\n",
       "523410  1.052388e+09       10.0\n",
       "523411  8.567908e+06       10.0\n",
       "523412 -2.000000e+00       -2.0\n",
       "523413 -1.000000e+00       -1.0"
      ]
     },
     "execution_count": 50,
     "metadata": {},
     "output_type": "execute_result"
    }
   ],
   "source": [
    "SCORE_P.tail(5)"
   ]
  },
  {
   "cell_type": "code",
   "execution_count": null,
   "metadata": {},
   "outputs": [],
   "source": []
  },
  {
   "cell_type": "code",
   "execution_count": 635,
   "metadata": {},
   "outputs": [
    {
     "data": {
      "text/plain": [
       "(Fecha         datetime64[ns]\n",
       " Hora                  object\n",
       " Cedula                object\n",
       " Abandonada            object\n",
       " RUT                   object\n",
       " CANAL                 object\n",
       " CedulaN               object\n",
       " dtype: object,\n",
       " CedulaN            float64\n",
       " score_prioridad    float64\n",
       " dtype: object,\n",
       " CedulaN        int64\n",
       " SCORE CLV    float64\n",
       " dtype: object)"
      ]
     },
     "execution_count": 635,
     "metadata": {},
     "output_type": "execute_result"
    }
   ],
   "source": [
    "CRUCE_MADRE_CH.dtypes,IM.dtypes,   SCORE_P.dtypes\n"
   ]
  },
  {
   "cell_type": "markdown",
   "metadata": {},
   "source": [
    "CRUCE_drop_S =CRUCE_MADRE_CH.loc[(CRUCE_MADRE_CH['CedulaN']==  )]"
   ]
  },
  {
   "cell_type": "markdown",
   "metadata": {},
   "source": [
    "CRUCE_drop_S.head(5)"
   ]
  },
  {
   "cell_type": "markdown",
   "metadata": {},
   "source": [
    "CRUCE_MADRE_CH.CedulaN.replace('S',-10,inplace=True)\n",
    "CRUCE_MADRE_CH.CedulaN.replace('CONTRATISTA',-11,inplace=True) \n",
    "CRUCE_MADRE_CH.CedulaN.replace('CUENTAS',-12,inplace=True)\n",
    "CRUCE_MADRE_CH.CedulaN.replace('AUTOS',-13,inplace=True)\n",
    "CRUCE_MADRE_CH.CedulaN.replace('INGEPLAN',-14,inplace=True)\n",
    "CRUCE_MADRE_CH.CedulaN.replace('E',-15,inplace=True)\n",
    "CRUCE_MADRE_CH.CedulaN.replace('ENTRETENIMIENTO',-16,inplace=True)\n",
    "CRUCE_MADRE_CH.CedulaN.replace('P', -17,inplace=True)\n"
   ]
  },
  {
   "cell_type": "code",
   "execution_count": 51,
   "metadata": {},
   "outputs": [
    {
     "data": {
      "text/html": [
       "<div>\n",
       "<style scoped>\n",
       "    .dataframe tbody tr th:only-of-type {\n",
       "        vertical-align: middle;\n",
       "    }\n",
       "\n",
       "    .dataframe tbody tr th {\n",
       "        vertical-align: top;\n",
       "    }\n",
       "\n",
       "    .dataframe thead th {\n",
       "        text-align: right;\n",
       "    }\n",
       "</style>\n",
       "<table border=\"1\" class=\"dataframe\">\n",
       "  <thead>\n",
       "    <tr style=\"text-align: right;\">\n",
       "      <th></th>\n",
       "      <th>Fecha</th>\n",
       "      <th>Hora</th>\n",
       "      <th>Cedula</th>\n",
       "      <th>Abandonada</th>\n",
       "      <th>RUT</th>\n",
       "      <th>CANAL</th>\n",
       "      <th>CedulaN</th>\n",
       "    </tr>\n",
       "  </thead>\n",
       "  <tbody>\n",
       "    <tr>\n",
       "      <th>0</th>\n",
       "      <td>2022-06-01 00:00:00</td>\n",
       "      <td>06:27:10</td>\n",
       "      <td>1023934681.0</td>\n",
       "      <td>Si</td>\n",
       "      <td>ENGAGE</td>\n",
       "      <td>Voz</td>\n",
       "      <td>1023934681.0</td>\n",
       "    </tr>\n",
       "    <tr>\n",
       "      <th>1</th>\n",
       "      <td>2022-06-01 00:00:00</td>\n",
       "      <td>06:28:30</td>\n",
       "      <td>86072601.0</td>\n",
       "      <td>Si</td>\n",
       "      <td>ENGAGE</td>\n",
       "      <td>Voz</td>\n",
       "      <td>86072601.0</td>\n",
       "    </tr>\n",
       "    <tr>\n",
       "      <th>2</th>\n",
       "      <td>2022-06-01 00:00:00</td>\n",
       "      <td>06:32:33</td>\n",
       "      <td>79649787.0</td>\n",
       "      <td>Si</td>\n",
       "      <td>ENGAGE</td>\n",
       "      <td>Voz</td>\n",
       "      <td>79649787.0</td>\n",
       "    </tr>\n",
       "    <tr>\n",
       "      <th>3</th>\n",
       "      <td>2022-06-01 00:00:00</td>\n",
       "      <td>06:33:37</td>\n",
       "      <td>39581825.0</td>\n",
       "      <td>Si</td>\n",
       "      <td>ENGAGE</td>\n",
       "      <td>Voz</td>\n",
       "      <td>39581825.0</td>\n",
       "    </tr>\n",
       "    <tr>\n",
       "      <th>4</th>\n",
       "      <td>2022-06-01 00:00:00</td>\n",
       "      <td>06:35:36</td>\n",
       "      <td>1000131289.0</td>\n",
       "      <td>Si</td>\n",
       "      <td>ENGAGE</td>\n",
       "      <td>Voz</td>\n",
       "      <td>1000131289.0</td>\n",
       "    </tr>\n",
       "    <tr>\n",
       "      <th>...</th>\n",
       "      <td>...</td>\n",
       "      <td>...</td>\n",
       "      <td>...</td>\n",
       "      <td>...</td>\n",
       "      <td>...</td>\n",
       "      <td>...</td>\n",
       "      <td>...</td>\n",
       "    </tr>\n",
       "    <tr>\n",
       "      <th>3415094</th>\n",
       "      <td>2022-09-30 23:54:00</td>\n",
       "      <td>23:54:0</td>\n",
       "      <td>1088327137.0</td>\n",
       "      <td>Chat</td>\n",
       "      <td>CHAT</td>\n",
       "      <td>Chat</td>\n",
       "      <td>1088327137.0</td>\n",
       "    </tr>\n",
       "    <tr>\n",
       "      <th>3415095</th>\n",
       "      <td>2022-09-30 23:54:00</td>\n",
       "      <td>23:54:0</td>\n",
       "      <td>1019126041.0</td>\n",
       "      <td>Chat</td>\n",
       "      <td>CHAT</td>\n",
       "      <td>Chat</td>\n",
       "      <td>1019126041.0</td>\n",
       "    </tr>\n",
       "    <tr>\n",
       "      <th>3415096</th>\n",
       "      <td>2022-09-30 23:56:00</td>\n",
       "      <td>23:56:0</td>\n",
       "      <td>1233894122.0</td>\n",
       "      <td>Chat</td>\n",
       "      <td>CHAT</td>\n",
       "      <td>Chat</td>\n",
       "      <td>1233894122.0</td>\n",
       "    </tr>\n",
       "    <tr>\n",
       "      <th>3415097</th>\n",
       "      <td>2022-09-30 23:57:00</td>\n",
       "      <td>23:57:0</td>\n",
       "      <td>52840728.0</td>\n",
       "      <td>Chat</td>\n",
       "      <td>CHAT</td>\n",
       "      <td>Chat</td>\n",
       "      <td>52840728.0</td>\n",
       "    </tr>\n",
       "    <tr>\n",
       "      <th>3415098</th>\n",
       "      <td>2022-09-30 23:58:00</td>\n",
       "      <td>23:58:0</td>\n",
       "      <td>1070972502.0</td>\n",
       "      <td>Chat</td>\n",
       "      <td>CHAT</td>\n",
       "      <td>Chat</td>\n",
       "      <td>1070972502.0</td>\n",
       "    </tr>\n",
       "  </tbody>\n",
       "</table>\n",
       "<p>3415099 rows × 7 columns</p>\n",
       "</div>"
      ],
      "text/plain": [
       "                      Fecha      Hora        Cedula Abandonada     RUT CANAL  \\\n",
       "0       2022-06-01 00:00:00  06:27:10  1023934681.0         Si  ENGAGE   Voz   \n",
       "1       2022-06-01 00:00:00  06:28:30    86072601.0         Si  ENGAGE   Voz   \n",
       "2       2022-06-01 00:00:00  06:32:33    79649787.0         Si  ENGAGE   Voz   \n",
       "3       2022-06-01 00:00:00  06:33:37    39581825.0         Si  ENGAGE   Voz   \n",
       "4       2022-06-01 00:00:00  06:35:36  1000131289.0         Si  ENGAGE   Voz   \n",
       "...                     ...       ...           ...        ...     ...   ...   \n",
       "3415094 2022-09-30 23:54:00   23:54:0  1088327137.0       Chat    CHAT  Chat   \n",
       "3415095 2022-09-30 23:54:00   23:54:0  1019126041.0       Chat    CHAT  Chat   \n",
       "3415096 2022-09-30 23:56:00   23:56:0  1233894122.0       Chat    CHAT  Chat   \n",
       "3415097 2022-09-30 23:57:00   23:57:0    52840728.0       Chat    CHAT  Chat   \n",
       "3415098 2022-09-30 23:58:00   23:58:0  1070972502.0       Chat    CHAT  Chat   \n",
       "\n",
       "              CedulaN  \n",
       "0        1023934681.0  \n",
       "1          86072601.0  \n",
       "2          79649787.0  \n",
       "3          39581825.0  \n",
       "4        1000131289.0  \n",
       "...               ...  \n",
       "3415094  1088327137.0  \n",
       "3415095  1019126041.0  \n",
       "3415096  1233894122.0  \n",
       "3415097    52840728.0  \n",
       "3415098  1070972502.0  \n",
       "\n",
       "[3415099 rows x 7 columns]"
      ]
     },
     "execution_count": 51,
     "metadata": {},
     "output_type": "execute_result"
    }
   ],
   "source": [
    "CRUCE_MADRE_CH"
   ]
  },
  {
   "cell_type": "code",
   "execution_count": 52,
   "metadata": {},
   "outputs": [],
   "source": [
    "import re \n",
    "def extraer_tratamiento(name):\n",
    "  m = re.search(r\"\\w+\\.\",str(name))\n",
    "  if not m:\n",
    "      return -1 # CON CARATERES *\n",
    "  return m[0][:-1]"
   ]
  },
  {
   "cell_type": "code",
   "execution_count": 53,
   "metadata": {},
   "outputs": [],
   "source": [
    "CRUCE_MADRE_CH['CedulaN']=CRUCE_MADRE_CH['CedulaN'].apply(extraer_tratamiento)"
   ]
  },
  {
   "cell_type": "markdown",
   "metadata": {},
   "source": [
    "\n",
    "key_list = ['a1095796107','71375218*','71375218*'\n",
    ",'71213472*'\n",
    ",'6458971*'\n",
    ",'528305*78'\n",
    ",'5270301*'\n",
    ",'52424436*'\n",
    ",'52414642*'\n",
    ",'52154960*'\n",
    ",'43978802*'\n",
    ",'32090899*'\n",
    ",'30080672*'\n",
    ",'29280026*'\n",
    ",'21134147*'\n",
    ",'156947*'\n",
    ",'152380213*'\n",
    ",'134147*'\n",
    ",'11955446*'\n",
    ",'1152190613*'\n",
    ",'1140852510*'\n",
    ",'1088039749*'\n",
    ",'107662459*'\n",
    ",'1061*'\n",
    ",'1040751737*'\n",
    ",'1035856275*'\n",
    ",'101*','1007373728*','10*5','*43567550','5271435*','0*84521284543']\n",
    "c = np.linspace(-100,-100,32)\n",
    "c\n",
    "value_list = c\n",
    "\n",
    "dict_from_list = dict(zip(key_list, value_list))\n",
    "print(dict_from_list)\n",
    "CRUCE_MADRE_CH.CedulaN.replace(dict_from_list,inplace=True)"
   ]
  },
  {
   "cell_type": "code",
   "execution_count": 54,
   "metadata": {},
   "outputs": [],
   "source": [
    "CRUCE_MADRE_CH['CedulaN']=CRUCE_MADRE_CH['CedulaN'].astype(np.int64)"
   ]
  },
  {
   "cell_type": "markdown",
   "metadata": {},
   "source": [
    "# cruces"
   ]
  },
  {
   "cell_type": "code",
   "execution_count": 55,
   "metadata": {},
   "outputs": [],
   "source": [
    "CRUCE_CLV=pd.merge(CRUCE_MADRE_CH,SCORE_P,on=['CedulaN'], how='left')"
   ]
  },
  {
   "cell_type": "code",
   "execution_count": 56,
   "metadata": {},
   "outputs": [
    {
     "data": {
      "text/html": [
       "<div>\n",
       "<style scoped>\n",
       "    .dataframe tbody tr th:only-of-type {\n",
       "        vertical-align: middle;\n",
       "    }\n",
       "\n",
       "    .dataframe tbody tr th {\n",
       "        vertical-align: top;\n",
       "    }\n",
       "\n",
       "    .dataframe thead th {\n",
       "        text-align: right;\n",
       "    }\n",
       "</style>\n",
       "<table border=\"1\" class=\"dataframe\">\n",
       "  <thead>\n",
       "    <tr style=\"text-align: right;\">\n",
       "      <th></th>\n",
       "      <th>Fecha</th>\n",
       "      <th>Hora</th>\n",
       "      <th>Cedula</th>\n",
       "      <th>Abandonada</th>\n",
       "      <th>RUT</th>\n",
       "      <th>CANAL</th>\n",
       "      <th>CedulaN</th>\n",
       "      <th>SCORE CLV</th>\n",
       "    </tr>\n",
       "  </thead>\n",
       "  <tbody>\n",
       "    <tr>\n",
       "      <th>0</th>\n",
       "      <td>2022-06-01 00:00:00</td>\n",
       "      <td>06:27:10</td>\n",
       "      <td>1023934681.0</td>\n",
       "      <td>Si</td>\n",
       "      <td>ENGAGE</td>\n",
       "      <td>Voz</td>\n",
       "      <td>1023934681</td>\n",
       "      <td>NaN</td>\n",
       "    </tr>\n",
       "    <tr>\n",
       "      <th>1</th>\n",
       "      <td>2022-06-01 00:00:00</td>\n",
       "      <td>06:28:30</td>\n",
       "      <td>86072601.0</td>\n",
       "      <td>Si</td>\n",
       "      <td>ENGAGE</td>\n",
       "      <td>Voz</td>\n",
       "      <td>86072601</td>\n",
       "      <td>NaN</td>\n",
       "    </tr>\n",
       "    <tr>\n",
       "      <th>2</th>\n",
       "      <td>2022-06-01 00:00:00</td>\n",
       "      <td>06:32:33</td>\n",
       "      <td>79649787.0</td>\n",
       "      <td>Si</td>\n",
       "      <td>ENGAGE</td>\n",
       "      <td>Voz</td>\n",
       "      <td>79649787</td>\n",
       "      <td>NaN</td>\n",
       "    </tr>\n",
       "    <tr>\n",
       "      <th>3</th>\n",
       "      <td>2022-06-01 00:00:00</td>\n",
       "      <td>06:33:37</td>\n",
       "      <td>39581825.0</td>\n",
       "      <td>Si</td>\n",
       "      <td>ENGAGE</td>\n",
       "      <td>Voz</td>\n",
       "      <td>39581825</td>\n",
       "      <td>NaN</td>\n",
       "    </tr>\n",
       "    <tr>\n",
       "      <th>4</th>\n",
       "      <td>2022-06-01 00:00:00</td>\n",
       "      <td>06:35:36</td>\n",
       "      <td>1000131289.0</td>\n",
       "      <td>Si</td>\n",
       "      <td>ENGAGE</td>\n",
       "      <td>Voz</td>\n",
       "      <td>1000131289</td>\n",
       "      <td>NaN</td>\n",
       "    </tr>\n",
       "    <tr>\n",
       "      <th>...</th>\n",
       "      <td>...</td>\n",
       "      <td>...</td>\n",
       "      <td>...</td>\n",
       "      <td>...</td>\n",
       "      <td>...</td>\n",
       "      <td>...</td>\n",
       "      <td>...</td>\n",
       "      <td>...</td>\n",
       "    </tr>\n",
       "    <tr>\n",
       "      <th>3415094</th>\n",
       "      <td>2022-09-30 23:54:00</td>\n",
       "      <td>23:54:0</td>\n",
       "      <td>1088327137.0</td>\n",
       "      <td>Chat</td>\n",
       "      <td>CHAT</td>\n",
       "      <td>Chat</td>\n",
       "      <td>1088327137</td>\n",
       "      <td>NaN</td>\n",
       "    </tr>\n",
       "    <tr>\n",
       "      <th>3415095</th>\n",
       "      <td>2022-09-30 23:54:00</td>\n",
       "      <td>23:54:0</td>\n",
       "      <td>1019126041.0</td>\n",
       "      <td>Chat</td>\n",
       "      <td>CHAT</td>\n",
       "      <td>Chat</td>\n",
       "      <td>1019126041</td>\n",
       "      <td>NaN</td>\n",
       "    </tr>\n",
       "    <tr>\n",
       "      <th>3415096</th>\n",
       "      <td>2022-09-30 23:56:00</td>\n",
       "      <td>23:56:0</td>\n",
       "      <td>1233894122.0</td>\n",
       "      <td>Chat</td>\n",
       "      <td>CHAT</td>\n",
       "      <td>Chat</td>\n",
       "      <td>1233894122</td>\n",
       "      <td>NaN</td>\n",
       "    </tr>\n",
       "    <tr>\n",
       "      <th>3415097</th>\n",
       "      <td>2022-09-30 23:57:00</td>\n",
       "      <td>23:57:0</td>\n",
       "      <td>52840728.0</td>\n",
       "      <td>Chat</td>\n",
       "      <td>CHAT</td>\n",
       "      <td>Chat</td>\n",
       "      <td>52840728</td>\n",
       "      <td>NaN</td>\n",
       "    </tr>\n",
       "    <tr>\n",
       "      <th>3415098</th>\n",
       "      <td>2022-09-30 23:58:00</td>\n",
       "      <td>23:58:0</td>\n",
       "      <td>1070972502.0</td>\n",
       "      <td>Chat</td>\n",
       "      <td>CHAT</td>\n",
       "      <td>Chat</td>\n",
       "      <td>1070972502</td>\n",
       "      <td>NaN</td>\n",
       "    </tr>\n",
       "  </tbody>\n",
       "</table>\n",
       "<p>3415099 rows × 8 columns</p>\n",
       "</div>"
      ],
      "text/plain": [
       "                      Fecha      Hora        Cedula Abandonada     RUT CANAL  \\\n",
       "0       2022-06-01 00:00:00  06:27:10  1023934681.0         Si  ENGAGE   Voz   \n",
       "1       2022-06-01 00:00:00  06:28:30    86072601.0         Si  ENGAGE   Voz   \n",
       "2       2022-06-01 00:00:00  06:32:33    79649787.0         Si  ENGAGE   Voz   \n",
       "3       2022-06-01 00:00:00  06:33:37    39581825.0         Si  ENGAGE   Voz   \n",
       "4       2022-06-01 00:00:00  06:35:36  1000131289.0         Si  ENGAGE   Voz   \n",
       "...                     ...       ...           ...        ...     ...   ...   \n",
       "3415094 2022-09-30 23:54:00   23:54:0  1088327137.0       Chat    CHAT  Chat   \n",
       "3415095 2022-09-30 23:54:00   23:54:0  1019126041.0       Chat    CHAT  Chat   \n",
       "3415096 2022-09-30 23:56:00   23:56:0  1233894122.0       Chat    CHAT  Chat   \n",
       "3415097 2022-09-30 23:57:00   23:57:0    52840728.0       Chat    CHAT  Chat   \n",
       "3415098 2022-09-30 23:58:00   23:58:0  1070972502.0       Chat    CHAT  Chat   \n",
       "\n",
       "            CedulaN  SCORE CLV  \n",
       "0        1023934681        NaN  \n",
       "1          86072601        NaN  \n",
       "2          79649787        NaN  \n",
       "3          39581825        NaN  \n",
       "4        1000131289        NaN  \n",
       "...             ...        ...  \n",
       "3415094  1088327137        NaN  \n",
       "3415095  1019126041        NaN  \n",
       "3415096  1233894122        NaN  \n",
       "3415097    52840728        NaN  \n",
       "3415098  1070972502        NaN  \n",
       "\n",
       "[3415099 rows x 8 columns]"
      ]
     },
     "execution_count": 56,
     "metadata": {},
     "output_type": "execute_result"
    }
   ],
   "source": [
    "CRUCE_CLV"
   ]
  },
  {
   "cell_type": "code",
   "execution_count": 57,
   "metadata": {},
   "outputs": [],
   "source": [
    "CRUCE_CLV_PEP=pd.merge(CRUCE_CLV,IM,on=['CedulaN'], how='left')"
   ]
  },
  {
   "cell_type": "code",
   "execution_count": 58,
   "metadata": {},
   "outputs": [
    {
     "data": {
      "text/plain": [
       "array([nan, 10., 11., -1., 12., 13.])"
      ]
     },
     "execution_count": 58,
     "metadata": {},
     "output_type": "execute_result"
    }
   ],
   "source": [
    "CRUCE_CLV_PEP['SCORE CLV'].unique() "
   ]
  },
  {
   "cell_type": "code",
   "execution_count": 59,
   "metadata": {},
   "outputs": [],
   "source": [
    "CRUCE_=CRUCE_CLV_PEP.loc[(CRUCE_CLV_PEP['RUT'] == 'CLOUND')]"
   ]
  },
  {
   "cell_type": "code",
   "execution_count": 60,
   "metadata": {},
   "outputs": [
    {
     "data": {
      "text/html": [
       "<div>\n",
       "<style scoped>\n",
       "    .dataframe tbody tr th:only-of-type {\n",
       "        vertical-align: middle;\n",
       "    }\n",
       "\n",
       "    .dataframe tbody tr th {\n",
       "        vertical-align: top;\n",
       "    }\n",
       "\n",
       "    .dataframe thead th {\n",
       "        text-align: right;\n",
       "    }\n",
       "</style>\n",
       "<table border=\"1\" class=\"dataframe\">\n",
       "  <thead>\n",
       "    <tr style=\"text-align: right;\">\n",
       "      <th></th>\n",
       "      <th>Fecha</th>\n",
       "      <th>Hora</th>\n",
       "      <th>Cedula</th>\n",
       "      <th>Abandonada</th>\n",
       "      <th>RUT</th>\n",
       "      <th>CANAL</th>\n",
       "      <th>CedulaN</th>\n",
       "      <th>SCORE CLV</th>\n",
       "      <th>score_prioridad</th>\n",
       "    </tr>\n",
       "  </thead>\n",
       "  <tbody>\n",
       "    <tr>\n",
       "      <th>1311641</th>\n",
       "      <td>2022-05-31 23:34:00</td>\n",
       "      <td>23:34:0</td>\n",
       "      <td>52314577.0</td>\n",
       "      <td>No</td>\n",
       "      <td>CLOUND</td>\n",
       "      <td>Voz</td>\n",
       "      <td>52314577</td>\n",
       "      <td>NaN</td>\n",
       "      <td>NaN</td>\n",
       "    </tr>\n",
       "    <tr>\n",
       "      <th>1311642</th>\n",
       "      <td>2022-05-31 23:55:00</td>\n",
       "      <td>23:55:0</td>\n",
       "      <td>53103572.0</td>\n",
       "      <td>No</td>\n",
       "      <td>CLOUND</td>\n",
       "      <td>Voz</td>\n",
       "      <td>53103572</td>\n",
       "      <td>10.0</td>\n",
       "      <td>NaN</td>\n",
       "    </tr>\n",
       "    <tr>\n",
       "      <th>1311643</th>\n",
       "      <td>2022-05-31 23:59:00</td>\n",
       "      <td>23:59:0</td>\n",
       "      <td>1073321908.0</td>\n",
       "      <td>No</td>\n",
       "      <td>CLOUND</td>\n",
       "      <td>Voz</td>\n",
       "      <td>1073321908</td>\n",
       "      <td>NaN</td>\n",
       "      <td>NaN</td>\n",
       "    </tr>\n",
       "    <tr>\n",
       "      <th>1311644</th>\n",
       "      <td>2022-05-31 23:59:00</td>\n",
       "      <td>23:59:0</td>\n",
       "      <td>40034715.0</td>\n",
       "      <td>No</td>\n",
       "      <td>CLOUND</td>\n",
       "      <td>Voz</td>\n",
       "      <td>40034715</td>\n",
       "      <td>NaN</td>\n",
       "      <td>NaN</td>\n",
       "    </tr>\n",
       "    <tr>\n",
       "      <th>1311645</th>\n",
       "      <td>2022-06-01 00:00:00</td>\n",
       "      <td>0:0:0</td>\n",
       "      <td>55248338.0</td>\n",
       "      <td>No</td>\n",
       "      <td>CLOUND</td>\n",
       "      <td>Voz</td>\n",
       "      <td>55248338</td>\n",
       "      <td>NaN</td>\n",
       "      <td>NaN</td>\n",
       "    </tr>\n",
       "    <tr>\n",
       "      <th>...</th>\n",
       "      <td>...</td>\n",
       "      <td>...</td>\n",
       "      <td>...</td>\n",
       "      <td>...</td>\n",
       "      <td>...</td>\n",
       "      <td>...</td>\n",
       "      <td>...</td>\n",
       "      <td>...</td>\n",
       "      <td>...</td>\n",
       "    </tr>\n",
       "    <tr>\n",
       "      <th>2598288</th>\n",
       "      <td>2022-09-30 23:57:00</td>\n",
       "      <td>23:57:0</td>\n",
       "      <td>29344977.0</td>\n",
       "      <td>SÍ</td>\n",
       "      <td>CLOUND</td>\n",
       "      <td>Voz</td>\n",
       "      <td>29344977</td>\n",
       "      <td>NaN</td>\n",
       "      <td>NaN</td>\n",
       "    </tr>\n",
       "    <tr>\n",
       "      <th>2598289</th>\n",
       "      <td>2022-09-30 23:59:00</td>\n",
       "      <td>23:59:0</td>\n",
       "      <td>1030686284.0</td>\n",
       "      <td>SÍ</td>\n",
       "      <td>CLOUND</td>\n",
       "      <td>Voz</td>\n",
       "      <td>1030686284</td>\n",
       "      <td>NaN</td>\n",
       "      <td>NaN</td>\n",
       "    </tr>\n",
       "    <tr>\n",
       "      <th>2598290</th>\n",
       "      <td>2022-09-30 23:59:00</td>\n",
       "      <td>23:59:0</td>\n",
       "      <td>1002152174.0</td>\n",
       "      <td>SÍ</td>\n",
       "      <td>CLOUND</td>\n",
       "      <td>Voz</td>\n",
       "      <td>1002152174</td>\n",
       "      <td>NaN</td>\n",
       "      <td>NaN</td>\n",
       "    </tr>\n",
       "    <tr>\n",
       "      <th>2598291</th>\n",
       "      <td>2022-09-30 23:59:00</td>\n",
       "      <td>23:59:0</td>\n",
       "      <td>37542233.0</td>\n",
       "      <td>SÍ</td>\n",
       "      <td>CLOUND</td>\n",
       "      <td>Voz</td>\n",
       "      <td>37542233</td>\n",
       "      <td>10.0</td>\n",
       "      <td>NaN</td>\n",
       "    </tr>\n",
       "    <tr>\n",
       "      <th>2598292</th>\n",
       "      <td>2022-09-30 23:59:00</td>\n",
       "      <td>23:59:0</td>\n",
       "      <td>1153463874.0</td>\n",
       "      <td>SÍ</td>\n",
       "      <td>CLOUND</td>\n",
       "      <td>Voz</td>\n",
       "      <td>1153463874</td>\n",
       "      <td>NaN</td>\n",
       "      <td>NaN</td>\n",
       "    </tr>\n",
       "  </tbody>\n",
       "</table>\n",
       "<p>1286652 rows × 9 columns</p>\n",
       "</div>"
      ],
      "text/plain": [
       "                      Fecha     Hora        Cedula Abandonada     RUT CANAL  \\\n",
       "1311641 2022-05-31 23:34:00  23:34:0    52314577.0         No  CLOUND   Voz   \n",
       "1311642 2022-05-31 23:55:00  23:55:0    53103572.0         No  CLOUND   Voz   \n",
       "1311643 2022-05-31 23:59:00  23:59:0  1073321908.0         No  CLOUND   Voz   \n",
       "1311644 2022-05-31 23:59:00  23:59:0    40034715.0         No  CLOUND   Voz   \n",
       "1311645 2022-06-01 00:00:00    0:0:0    55248338.0         No  CLOUND   Voz   \n",
       "...                     ...      ...           ...        ...     ...   ...   \n",
       "2598288 2022-09-30 23:57:00  23:57:0    29344977.0         SÍ  CLOUND   Voz   \n",
       "2598289 2022-09-30 23:59:00  23:59:0  1030686284.0         SÍ  CLOUND   Voz   \n",
       "2598290 2022-09-30 23:59:00  23:59:0  1002152174.0         SÍ  CLOUND   Voz   \n",
       "2598291 2022-09-30 23:59:00  23:59:0    37542233.0         SÍ  CLOUND   Voz   \n",
       "2598292 2022-09-30 23:59:00  23:59:0  1153463874.0         SÍ  CLOUND   Voz   \n",
       "\n",
       "            CedulaN  SCORE CLV  score_prioridad  \n",
       "1311641    52314577        NaN              NaN  \n",
       "1311642    53103572       10.0              NaN  \n",
       "1311643  1073321908        NaN              NaN  \n",
       "1311644    40034715        NaN              NaN  \n",
       "1311645    55248338        NaN              NaN  \n",
       "...             ...        ...              ...  \n",
       "2598288    29344977        NaN              NaN  \n",
       "2598289  1030686284        NaN              NaN  \n",
       "2598290  1002152174        NaN              NaN  \n",
       "2598291    37542233       10.0              NaN  \n",
       "2598292  1153463874        NaN              NaN  \n",
       "\n",
       "[1286652 rows x 9 columns]"
      ]
     },
     "execution_count": 60,
     "metadata": {},
     "output_type": "execute_result"
    }
   ],
   "source": [
    "CRUCE_"
   ]
  },
  {
   "cell_type": "code",
   "execution_count": 61,
   "metadata": {},
   "outputs": [],
   "source": [
    "CRUCE_CLV_PEP.Abandonada.replace(np.nan,'CHAT',inplace=True)\n"
   ]
  },
  {
   "cell_type": "code",
   "execution_count": 62,
   "metadata": {},
   "outputs": [
    {
     "data": {
      "text/plain": [
       "Fecha              datetime64[ns]\n",
       "Hora                       object\n",
       "Cedula                     object\n",
       "Abandonada                 object\n",
       "RUT                        object\n",
       "CANAL                      object\n",
       "CedulaN                     int64\n",
       "SCORE CLV                 float64\n",
       "score_prioridad           float64\n",
       "dtype: object"
      ]
     },
     "execution_count": 62,
     "metadata": {},
     "output_type": "execute_result"
    }
   ],
   "source": [
    "CRUCE_CLV_PEP.dtypes"
   ]
  },
  {
   "cell_type": "code",
   "execution_count": 63,
   "metadata": {},
   "outputs": [
    {
     "data": {
      "text/plain": [
       "array(['Si', 'No', 'SÍ', 'Chat'], dtype=object)"
      ]
     },
     "execution_count": 63,
     "metadata": {},
     "output_type": "execute_result"
    }
   ],
   "source": [
    "CRUCE_CLV_PEP.Abandonada.unique()\n",
    "\n",
    "\n",
    "# dice chat por qeu al cruzar la base de chat tien solo fecha y cc "
   ]
  },
  {
   "cell_type": "markdown",
   "metadata": {},
   "source": [
    "# -3  EN SCORE PARA CC QUE NO TIENEN SCORE"
   ]
  },
  {
   "cell_type": "code",
   "execution_count": 64,
   "metadata": {},
   "outputs": [],
   "source": [
    "\n",
    "CRUCE_CLV_PEP.rename(columns={'score_prioridad':'SCORE PEP'},inplace=True)\n",
    "\n",
    "CRUCE_CLV_PEP['SCORE CLV'].replace(np.nan,-3,inplace=True)\n",
    "CRUCE_CLV_PEP['SCORE PEP'].replace(np.nan,-3,inplace=True)\n",
    "CRUCE_CLV_PEP['Abandonada'].replace('SÍ','Si',inplace=True)\n"
   ]
  },
  {
   "cell_type": "code",
   "execution_count": 65,
   "metadata": {},
   "outputs": [
    {
     "data": {
      "text/plain": [
       "(array(['Si', 'No', 'Chat'], dtype=object),\n",
       " array([-3.,  6., 10.,  7., -1., 12.,  4.,  8., 11.,  1.,  9.,  5., 13.,\n",
       "         3.,  2.]))"
      ]
     },
     "execution_count": 65,
     "metadata": {},
     "output_type": "execute_result"
    }
   ],
   "source": [
    "CRUCE_CLV_PEP.Abandonada.unique(),  CRUCE_CLV_PEP['SCORE PEP'].unique() "
   ]
  },
  {
   "cell_type": "code",
   "execution_count": 66,
   "metadata": {},
   "outputs": [],
   "source": [
    "CRUCE_CLV_PEP.index= range(CRUCE_CLV_PEP.shape[0])"
   ]
  },
  {
   "cell_type": "code",
   "execution_count": 67,
   "metadata": {},
   "outputs": [
    {
     "data": {
      "text/html": [
       "<div>\n",
       "<style scoped>\n",
       "    .dataframe tbody tr th:only-of-type {\n",
       "        vertical-align: middle;\n",
       "    }\n",
       "\n",
       "    .dataframe tbody tr th {\n",
       "        vertical-align: top;\n",
       "    }\n",
       "\n",
       "    .dataframe thead th {\n",
       "        text-align: right;\n",
       "    }\n",
       "</style>\n",
       "<table border=\"1\" class=\"dataframe\">\n",
       "  <thead>\n",
       "    <tr style=\"text-align: right;\">\n",
       "      <th></th>\n",
       "      <th>Fecha</th>\n",
       "      <th>Hora</th>\n",
       "      <th>Cedula</th>\n",
       "      <th>Abandonada</th>\n",
       "      <th>RUT</th>\n",
       "      <th>CANAL</th>\n",
       "      <th>CedulaN</th>\n",
       "      <th>SCORE CLV</th>\n",
       "      <th>SCORE PEP</th>\n",
       "    </tr>\n",
       "  </thead>\n",
       "  <tbody>\n",
       "    <tr>\n",
       "      <th>0</th>\n",
       "      <td>2022-06-01 00:00:00</td>\n",
       "      <td>06:27:10</td>\n",
       "      <td>1023934681.0</td>\n",
       "      <td>Si</td>\n",
       "      <td>ENGAGE</td>\n",
       "      <td>Voz</td>\n",
       "      <td>1023934681</td>\n",
       "      <td>-3.0</td>\n",
       "      <td>-3.0</td>\n",
       "    </tr>\n",
       "    <tr>\n",
       "      <th>1</th>\n",
       "      <td>2022-06-01 00:00:00</td>\n",
       "      <td>06:28:30</td>\n",
       "      <td>86072601.0</td>\n",
       "      <td>Si</td>\n",
       "      <td>ENGAGE</td>\n",
       "      <td>Voz</td>\n",
       "      <td>86072601</td>\n",
       "      <td>-3.0</td>\n",
       "      <td>-3.0</td>\n",
       "    </tr>\n",
       "    <tr>\n",
       "      <th>2</th>\n",
       "      <td>2022-06-01 00:00:00</td>\n",
       "      <td>06:32:33</td>\n",
       "      <td>79649787.0</td>\n",
       "      <td>Si</td>\n",
       "      <td>ENGAGE</td>\n",
       "      <td>Voz</td>\n",
       "      <td>79649787</td>\n",
       "      <td>-3.0</td>\n",
       "      <td>-3.0</td>\n",
       "    </tr>\n",
       "    <tr>\n",
       "      <th>3</th>\n",
       "      <td>2022-06-01 00:00:00</td>\n",
       "      <td>06:33:37</td>\n",
       "      <td>39581825.0</td>\n",
       "      <td>Si</td>\n",
       "      <td>ENGAGE</td>\n",
       "      <td>Voz</td>\n",
       "      <td>39581825</td>\n",
       "      <td>-3.0</td>\n",
       "      <td>-3.0</td>\n",
       "    </tr>\n",
       "    <tr>\n",
       "      <th>4</th>\n",
       "      <td>2022-06-01 00:00:00</td>\n",
       "      <td>06:35:36</td>\n",
       "      <td>1000131289.0</td>\n",
       "      <td>Si</td>\n",
       "      <td>ENGAGE</td>\n",
       "      <td>Voz</td>\n",
       "      <td>1000131289</td>\n",
       "      <td>-3.0</td>\n",
       "      <td>-3.0</td>\n",
       "    </tr>\n",
       "    <tr>\n",
       "      <th>...</th>\n",
       "      <td>...</td>\n",
       "      <td>...</td>\n",
       "      <td>...</td>\n",
       "      <td>...</td>\n",
       "      <td>...</td>\n",
       "      <td>...</td>\n",
       "      <td>...</td>\n",
       "      <td>...</td>\n",
       "      <td>...</td>\n",
       "    </tr>\n",
       "    <tr>\n",
       "      <th>3415094</th>\n",
       "      <td>2022-09-30 23:54:00</td>\n",
       "      <td>23:54:0</td>\n",
       "      <td>1088327137.0</td>\n",
       "      <td>Chat</td>\n",
       "      <td>CHAT</td>\n",
       "      <td>Chat</td>\n",
       "      <td>1088327137</td>\n",
       "      <td>-3.0</td>\n",
       "      <td>-3.0</td>\n",
       "    </tr>\n",
       "    <tr>\n",
       "      <th>3415095</th>\n",
       "      <td>2022-09-30 23:54:00</td>\n",
       "      <td>23:54:0</td>\n",
       "      <td>1019126041.0</td>\n",
       "      <td>Chat</td>\n",
       "      <td>CHAT</td>\n",
       "      <td>Chat</td>\n",
       "      <td>1019126041</td>\n",
       "      <td>-3.0</td>\n",
       "      <td>-3.0</td>\n",
       "    </tr>\n",
       "    <tr>\n",
       "      <th>3415096</th>\n",
       "      <td>2022-09-30 23:56:00</td>\n",
       "      <td>23:56:0</td>\n",
       "      <td>1233894122.0</td>\n",
       "      <td>Chat</td>\n",
       "      <td>CHAT</td>\n",
       "      <td>Chat</td>\n",
       "      <td>1233894122</td>\n",
       "      <td>-3.0</td>\n",
       "      <td>-3.0</td>\n",
       "    </tr>\n",
       "    <tr>\n",
       "      <th>3415097</th>\n",
       "      <td>2022-09-30 23:57:00</td>\n",
       "      <td>23:57:0</td>\n",
       "      <td>52840728.0</td>\n",
       "      <td>Chat</td>\n",
       "      <td>CHAT</td>\n",
       "      <td>Chat</td>\n",
       "      <td>52840728</td>\n",
       "      <td>-3.0</td>\n",
       "      <td>-3.0</td>\n",
       "    </tr>\n",
       "    <tr>\n",
       "      <th>3415098</th>\n",
       "      <td>2022-09-30 23:58:00</td>\n",
       "      <td>23:58:0</td>\n",
       "      <td>1070972502.0</td>\n",
       "      <td>Chat</td>\n",
       "      <td>CHAT</td>\n",
       "      <td>Chat</td>\n",
       "      <td>1070972502</td>\n",
       "      <td>-3.0</td>\n",
       "      <td>-3.0</td>\n",
       "    </tr>\n",
       "  </tbody>\n",
       "</table>\n",
       "<p>3415099 rows × 9 columns</p>\n",
       "</div>"
      ],
      "text/plain": [
       "                      Fecha      Hora        Cedula Abandonada     RUT CANAL  \\\n",
       "0       2022-06-01 00:00:00  06:27:10  1023934681.0         Si  ENGAGE   Voz   \n",
       "1       2022-06-01 00:00:00  06:28:30    86072601.0         Si  ENGAGE   Voz   \n",
       "2       2022-06-01 00:00:00  06:32:33    79649787.0         Si  ENGAGE   Voz   \n",
       "3       2022-06-01 00:00:00  06:33:37    39581825.0         Si  ENGAGE   Voz   \n",
       "4       2022-06-01 00:00:00  06:35:36  1000131289.0         Si  ENGAGE   Voz   \n",
       "...                     ...       ...           ...        ...     ...   ...   \n",
       "3415094 2022-09-30 23:54:00   23:54:0  1088327137.0       Chat    CHAT  Chat   \n",
       "3415095 2022-09-30 23:54:00   23:54:0  1019126041.0       Chat    CHAT  Chat   \n",
       "3415096 2022-09-30 23:56:00   23:56:0  1233894122.0       Chat    CHAT  Chat   \n",
       "3415097 2022-09-30 23:57:00   23:57:0    52840728.0       Chat    CHAT  Chat   \n",
       "3415098 2022-09-30 23:58:00   23:58:0  1070972502.0       Chat    CHAT  Chat   \n",
       "\n",
       "            CedulaN  SCORE CLV  SCORE PEP  \n",
       "0        1023934681       -3.0       -3.0  \n",
       "1          86072601       -3.0       -3.0  \n",
       "2          79649787       -3.0       -3.0  \n",
       "3          39581825       -3.0       -3.0  \n",
       "4        1000131289       -3.0       -3.0  \n",
       "...             ...        ...        ...  \n",
       "3415094  1088327137       -3.0       -3.0  \n",
       "3415095  1019126041       -3.0       -3.0  \n",
       "3415096  1233894122       -3.0       -3.0  \n",
       "3415097    52840728       -3.0       -3.0  \n",
       "3415098  1070972502       -3.0       -3.0  \n",
       "\n",
       "[3415099 rows x 9 columns]"
      ]
     },
     "execution_count": 67,
     "metadata": {},
     "output_type": "execute_result"
    }
   ],
   "source": [
    "CRUCE_CLV_PEP"
   ]
  },
  {
   "cell_type": "code",
   "execution_count": 68,
   "metadata": {},
   "outputs": [],
   "source": [
    "# CRUCE_CLV_PEP.to_clipboard(sep=';')"
   ]
  },
  {
   "cell_type": "markdown",
   "metadata": {},
   "source": [
    "___\n",
    "# 3MILLONES"
   ]
  },
  {
   "cell_type": "code",
   "execution_count": 106,
   "metadata": {},
   "outputs": [],
   "source": [
    "CRUCE_2=CRUCE_CLV_PEP.loc[(CRUCE_CLV_PEP['SCORE CLV'] != -3.0)]"
   ]
  },
  {
   "cell_type": "code",
   "execution_count": 107,
   "metadata": {},
   "outputs": [
    {
     "data": {
      "text/html": [
       "<div>\n",
       "<style scoped>\n",
       "    .dataframe tbody tr th:only-of-type {\n",
       "        vertical-align: middle;\n",
       "    }\n",
       "\n",
       "    .dataframe tbody tr th {\n",
       "        vertical-align: top;\n",
       "    }\n",
       "\n",
       "    .dataframe thead th {\n",
       "        text-align: right;\n",
       "    }\n",
       "</style>\n",
       "<table border=\"1\" class=\"dataframe\">\n",
       "  <thead>\n",
       "    <tr style=\"text-align: right;\">\n",
       "      <th></th>\n",
       "      <th>Fecha</th>\n",
       "      <th>Hora</th>\n",
       "      <th>Cedula</th>\n",
       "      <th>Abandonada</th>\n",
       "      <th>RUT</th>\n",
       "      <th>CANAL</th>\n",
       "      <th>CedulaN</th>\n",
       "      <th>SCORE CLV</th>\n",
       "      <th>SCORE PEP</th>\n",
       "    </tr>\n",
       "  </thead>\n",
       "  <tbody>\n",
       "    <tr>\n",
       "      <th>8</th>\n",
       "      <td>2022-06-01 00:00:00</td>\n",
       "      <td>06:46:51</td>\n",
       "      <td>52373255.0</td>\n",
       "      <td>Si</td>\n",
       "      <td>ENGAGE</td>\n",
       "      <td>Voz</td>\n",
       "      <td>52373255</td>\n",
       "      <td>10.0</td>\n",
       "      <td>-3.0</td>\n",
       "    </tr>\n",
       "    <tr>\n",
       "      <th>23</th>\n",
       "      <td>2022-06-01 00:00:00</td>\n",
       "      <td>07:23:57</td>\n",
       "      <td>79146011.0</td>\n",
       "      <td>Si</td>\n",
       "      <td>ENGAGE</td>\n",
       "      <td>Voz</td>\n",
       "      <td>79146011</td>\n",
       "      <td>10.0</td>\n",
       "      <td>-3.0</td>\n",
       "    </tr>\n",
       "    <tr>\n",
       "      <th>25</th>\n",
       "      <td>2022-06-01 00:00:00</td>\n",
       "      <td>07:27:53</td>\n",
       "      <td>32105662.0</td>\n",
       "      <td>Si</td>\n",
       "      <td>ENGAGE</td>\n",
       "      <td>Voz</td>\n",
       "      <td>32105662</td>\n",
       "      <td>10.0</td>\n",
       "      <td>-3.0</td>\n",
       "    </tr>\n",
       "    <tr>\n",
       "      <th>29</th>\n",
       "      <td>2022-06-01 00:00:00</td>\n",
       "      <td>07:35:36</td>\n",
       "      <td>91510068.0</td>\n",
       "      <td>Si</td>\n",
       "      <td>ENGAGE</td>\n",
       "      <td>Voz</td>\n",
       "      <td>91510068</td>\n",
       "      <td>10.0</td>\n",
       "      <td>-3.0</td>\n",
       "    </tr>\n",
       "    <tr>\n",
       "      <th>31</th>\n",
       "      <td>2022-06-01 00:00:00</td>\n",
       "      <td>07:36:15</td>\n",
       "      <td>80426651.0</td>\n",
       "      <td>Si</td>\n",
       "      <td>ENGAGE</td>\n",
       "      <td>Voz</td>\n",
       "      <td>80426651</td>\n",
       "      <td>10.0</td>\n",
       "      <td>-3.0</td>\n",
       "    </tr>\n",
       "    <tr>\n",
       "      <th>...</th>\n",
       "      <td>...</td>\n",
       "      <td>...</td>\n",
       "      <td>...</td>\n",
       "      <td>...</td>\n",
       "      <td>...</td>\n",
       "      <td>...</td>\n",
       "      <td>...</td>\n",
       "      <td>...</td>\n",
       "      <td>...</td>\n",
       "    </tr>\n",
       "    <tr>\n",
       "      <th>3415061</th>\n",
       "      <td>2022-09-30 23:31:00</td>\n",
       "      <td>23:31:0</td>\n",
       "      <td>1064840066.0</td>\n",
       "      <td>Chat</td>\n",
       "      <td>CHAT</td>\n",
       "      <td>Chat</td>\n",
       "      <td>1064840066</td>\n",
       "      <td>10.0</td>\n",
       "      <td>-3.0</td>\n",
       "    </tr>\n",
       "    <tr>\n",
       "      <th>3415063</th>\n",
       "      <td>2022-09-30 23:32:00</td>\n",
       "      <td>23:32:0</td>\n",
       "      <td>32863005.0</td>\n",
       "      <td>Chat</td>\n",
       "      <td>CHAT</td>\n",
       "      <td>Chat</td>\n",
       "      <td>32863005</td>\n",
       "      <td>10.0</td>\n",
       "      <td>-3.0</td>\n",
       "    </tr>\n",
       "    <tr>\n",
       "      <th>3415069</th>\n",
       "      <td>2022-09-30 23:37:00</td>\n",
       "      <td>23:37:0</td>\n",
       "      <td>31992519.0</td>\n",
       "      <td>Chat</td>\n",
       "      <td>CHAT</td>\n",
       "      <td>Chat</td>\n",
       "      <td>31992519</td>\n",
       "      <td>11.0</td>\n",
       "      <td>-3.0</td>\n",
       "    </tr>\n",
       "    <tr>\n",
       "      <th>3415076</th>\n",
       "      <td>2022-09-30 23:42:00</td>\n",
       "      <td>23:42:0</td>\n",
       "      <td>1032393648.0</td>\n",
       "      <td>Chat</td>\n",
       "      <td>CHAT</td>\n",
       "      <td>Chat</td>\n",
       "      <td>1032393648</td>\n",
       "      <td>11.0</td>\n",
       "      <td>-3.0</td>\n",
       "    </tr>\n",
       "    <tr>\n",
       "      <th>3415091</th>\n",
       "      <td>2022-09-30 23:51:00</td>\n",
       "      <td>23:51:0</td>\n",
       "      <td>1030662853.0</td>\n",
       "      <td>Chat</td>\n",
       "      <td>CHAT</td>\n",
       "      <td>Chat</td>\n",
       "      <td>1030662853</td>\n",
       "      <td>10.0</td>\n",
       "      <td>-3.0</td>\n",
       "    </tr>\n",
       "  </tbody>\n",
       "</table>\n",
       "<p>1016354 rows × 9 columns</p>\n",
       "</div>"
      ],
      "text/plain": [
       "                      Fecha      Hora        Cedula Abandonada     RUT CANAL  \\\n",
       "8       2022-06-01 00:00:00  06:46:51    52373255.0         Si  ENGAGE   Voz   \n",
       "23      2022-06-01 00:00:00  07:23:57    79146011.0         Si  ENGAGE   Voz   \n",
       "25      2022-06-01 00:00:00  07:27:53    32105662.0         Si  ENGAGE   Voz   \n",
       "29      2022-06-01 00:00:00  07:35:36    91510068.0         Si  ENGAGE   Voz   \n",
       "31      2022-06-01 00:00:00  07:36:15    80426651.0         Si  ENGAGE   Voz   \n",
       "...                     ...       ...           ...        ...     ...   ...   \n",
       "3415061 2022-09-30 23:31:00   23:31:0  1064840066.0       Chat    CHAT  Chat   \n",
       "3415063 2022-09-30 23:32:00   23:32:0    32863005.0       Chat    CHAT  Chat   \n",
       "3415069 2022-09-30 23:37:00   23:37:0    31992519.0       Chat    CHAT  Chat   \n",
       "3415076 2022-09-30 23:42:00   23:42:0  1032393648.0       Chat    CHAT  Chat   \n",
       "3415091 2022-09-30 23:51:00   23:51:0  1030662853.0       Chat    CHAT  Chat   \n",
       "\n",
       "            CedulaN  SCORE CLV  SCORE PEP  \n",
       "8          52373255       10.0       -3.0  \n",
       "23         79146011       10.0       -3.0  \n",
       "25         32105662       10.0       -3.0  \n",
       "29         91510068       10.0       -3.0  \n",
       "31         80426651       10.0       -3.0  \n",
       "...             ...        ...        ...  \n",
       "3415061  1064840066       10.0       -3.0  \n",
       "3415063    32863005       10.0       -3.0  \n",
       "3415069    31992519       11.0       -3.0  \n",
       "3415076  1032393648       11.0       -3.0  \n",
       "3415091  1030662853       10.0       -3.0  \n",
       "\n",
       "[1016354 rows x 9 columns]"
      ]
     },
     "execution_count": 107,
     "metadata": {},
     "output_type": "execute_result"
    }
   ],
   "source": [
    "CRUCE_2"
   ]
  },
  {
   "cell_type": "code",
   "execution_count": 108,
   "metadata": {},
   "outputs": [],
   "source": [
    "CRUCE_3=CRUCE_2.loc[(CRUCE_2['SCORE CLV'] != -1.0)]"
   ]
  },
  {
   "cell_type": "code",
   "execution_count": 95,
   "metadata": {},
   "outputs": [],
   "source": [
    "#C3=CRUCE_2.loc[(CRUCE_2['SCORE CLV'] == -1.0)]"
   ]
  },
  {
   "cell_type": "code",
   "execution_count": 109,
   "metadata": {},
   "outputs": [
    {
     "data": {
      "text/plain": [
       "Fecha         592188\n",
       "Hora          592188\n",
       "Cedula        592188\n",
       "Abandonada    592188\n",
       "RUT           592188\n",
       "CANAL         592188\n",
       "CedulaN       592188\n",
       "SCORE CLV     592188\n",
       "SCORE PEP     592188\n",
       "dtype: int64"
      ]
     },
     "execution_count": 109,
     "metadata": {},
     "output_type": "execute_result"
    }
   ],
   "source": [
    "CRUCE_3.count()"
   ]
  },
  {
   "cell_type": "code",
   "execution_count": 100,
   "metadata": {},
   "outputs": [
    {
     "data": {
      "text/plain": [
       "Index(['Fecha', 'Hora', 'Cedula', 'Abandonada', 'RUT', 'CANAL', 'CedulaN',\n",
       "       'SCORE CLV', 'SCORE PEP'],\n",
       "      dtype='object')"
      ]
     },
     "execution_count": 100,
     "metadata": {},
     "output_type": "execute_result"
    }
   ],
   "source": [
    "CRUCE_3.columns"
   ]
  },
  {
   "cell_type": "code",
   "execution_count": 101,
   "metadata": {},
   "outputs": [],
   "source": [
    "CRUCE_3=pd.DataFrame(CRUCE_3,columns=['Fecha', 'Hora', 'Abandonada', 'RUT', 'CANAL', 'CedulaN',\n",
    "        'SCORE CLV'])"
   ]
  },
  {
   "cell_type": "code",
   "execution_count": 103,
   "metadata": {},
   "outputs": [],
   "source": [
    "CRUCE_3.to_excel(\"CRUCE ALL CLV.xlsx\")"
   ]
  },
  {
   "cell_type": "markdown",
   "metadata": {},
   "source": [
    "CRUCE2 = CRUCE.copy()\n",
    "with pd.ExcelWriter('CRUCE ENGAGE.xlsx') as writer:  \n",
    "    CRUCE2.to_excel(writer, sheet_name='CRUCE')\n",
    "    CRUCE_NAN.to_excel(writer, sheet_name='CC NAN')\n",
    "    CRUCE_STRING.to_excel(writer, sheet_name='CC MAL ESCRITAS')"
   ]
  },
  {
   "cell_type": "markdown",
   "metadata": {},
   "source": [
    "# AGRUPACIÓN"
   ]
  },
  {
   "cell_type": "code",
   "execution_count": 653,
   "metadata": {},
   "outputs": [],
   "source": [
    "CRUCE_CLV_PEP.columns\n",
    "dfa=CRUCE_CLV_PEP"
   ]
  },
  {
   "cell_type": "code",
   "execution_count": 654,
   "metadata": {},
   "outputs": [
    {
     "data": {
      "text/plain": [
       "Fecha         datetime64[ns]\n",
       "Hora                  object\n",
       "Cedula                object\n",
       "Abandonada            object\n",
       "RUT                   object\n",
       "CANAL                 object\n",
       "CedulaN                int64\n",
       "SCORE CLV            float64\n",
       "SCORE PEP            float64\n",
       "dtype: object"
      ]
     },
     "execution_count": 654,
     "metadata": {},
     "output_type": "execute_result"
    }
   ],
   "source": [
    "dfa.dtypes"
   ]
  },
  {
   "cell_type": "code",
   "execution_count": 655,
   "metadata": {},
   "outputs": [],
   "source": [
    "dfaa=dfa.assign(MesN=dfa['Fecha'].dt.month ,Dia_MesN=dfa['Fecha'].dt.date)"
   ]
  },
  {
   "cell_type": "code",
   "execution_count": 656,
   "metadata": {},
   "outputs": [
    {
     "data": {
      "text/plain": [
       "Fecha         datetime64[ns]\n",
       "Hora                  object\n",
       "Cedula                object\n",
       "Abandonada            object\n",
       "RUT                   object\n",
       "CANAL                 object\n",
       "CedulaN                int64\n",
       "SCORE CLV            float64\n",
       "SCORE PEP            float64\n",
       "MesN                   int64\n",
       "Dia_MesN              object\n",
       "dtype: object"
      ]
     },
     "execution_count": 656,
     "metadata": {},
     "output_type": "execute_result"
    }
   ],
   "source": [
    "dfaa.dtypes"
   ]
  },
  {
   "cell_type": "code",
   "execution_count": null,
   "metadata": {},
   "outputs": [],
   "source": [
    "#dfaa['Fecha'] = pd.to_datetime(dfaa.Fecha, format='%Y-%m-%d')\n",
    "#dfaa['Dia_MesN']=pd.to_datetime(dfaa.Dia_MesN,format='%Y-%d-%m')\n",
    "#dfaa['Dia_MesN'].strftime(\"%Y-%m-%d\")"
   ]
  },
  {
   "cell_type": "code",
   "execution_count": 657,
   "metadata": {},
   "outputs": [
    {
     "data": {
      "text/plain": [
       "(0, 0)"
      ]
     },
     "execution_count": 657,
     "metadata": {},
     "output_type": "execute_result"
    }
   ],
   "source": [
    "dfaa['CedulaN'].isna().sum(),dfaa['SCORE PEP'].isna().sum()"
   ]
  },
  {
   "cell_type": "code",
   "execution_count": 669,
   "metadata": {},
   "outputs": [],
   "source": [
    "#agru = dfaa.groupby([dfaa.Dia_MesN, dfaa.RUT, dfaa.Abandonada, dfaa.CANAL, dfaa['SCORE CLV'] ])['CedulaN'].count()\n",
    "#agruM= dfaa.groupby([dfaa.MesN, dfaa.RUT, dfaa.Abandonada, dfaa.CANAL, dfaa['SCORE CLV']])['CedulaN'].count()\n",
    "\n",
    "agru = dfaa.groupby([dfaa.Dia_MesN,dfaa.RUT,dfaa.Abandonada,dfaa.CANAL,dfaa['SCORE PEP']])['CedulaN'].count()\n",
    "agruM= dfaa.groupby([dfaa.MesN,dfaa.RUT,dfaa.Abandonada,dfaa.CANAL,dfaa['SCORE PEP']])['CedulaN'].count()\n",
    "\n",
    "\n",
    "AGR=dfaa.groupby([dfaa.MesN, dfaa.RUT, dfaa.CANAL, dfaa['SCORE CLV'], dfaa.Abandonada])['CedulaN'].count()\n",
    "\n"
   ]
  },
  {
   "cell_type": "code",
   "execution_count": 659,
   "metadata": {},
   "outputs": [
    {
     "data": {
      "text/plain": [
       "Dia_MesN    RUT     Abandonada  CANAL  SCORE CLV\n",
       "2022-05-31  CHAT    Chat        Chat   -3.0           12\n",
       "                                        10.0           1\n",
       "            CLOUND  No          Voz    -3.0            3\n",
       "                                        10.0           1\n",
       "2022-06-01  CHAT    Chat        Chat   -3.0         7873\n",
       "                                                    ... \n",
       "2022-09-30  ENGAGE  No          Voz     12.0           5\n",
       "                                        13.0           1\n",
       "                    Si          Voz    -3.0          532\n",
       "                                        10.0          48\n",
       "                                        11.0           2\n",
       "Name: CedulaN, Length: 2503, dtype: int64"
      ]
     },
     "execution_count": 659,
     "metadata": {},
     "output_type": "execute_result"
    }
   ],
   "source": [
    "agru"
   ]
  },
  {
   "cell_type": "code",
   "execution_count": 660,
   "metadata": {},
   "outputs": [
    {
     "data": {
      "text/plain": [
       "MesN  RUT     Abandonada  CANAL  SCORE CLV\n",
       "5     CHAT    Chat        Chat   -3.0             12\n",
       "                                  10.0             1\n",
       "      CLOUND  No          Voz    -3.0              3\n",
       "                                  10.0             1\n",
       "6     CHAT    Chat        Chat   -3.0         166135\n",
       "                                               ...  \n",
       "9     ENGAGE  Si          Voz    -3.0           9335\n",
       "                                 -1.0              1\n",
       "                                  10.0           748\n",
       "                                  11.0            20\n",
       "                                  12.0             2\n",
       "Name: CedulaN, Length: 112, dtype: int64"
      ]
     },
     "execution_count": 660,
     "metadata": {},
     "output_type": "execute_result"
    }
   ],
   "source": [
    "agruM"
   ]
  },
  {
   "cell_type": "code",
   "execution_count": 670,
   "metadata": {},
   "outputs": [],
   "source": [
    "#CLV\n",
    "#agru2 = agru.index.to_frame(name=['Dia_MesN','RUT','Abandonada','CANAL','SCORE CLV'])\n",
    "#agruMM=agruM.index.to_frame(name=['MesN','RUT','Abandonada','CANAL','SCORE CLV'])\n",
    "#PEP\n",
    "agru2 = agru.index.to_frame(name=['Dia_MesN','RUT','Abandonada','CANAL','SCORE PEP'])\n",
    "agruMM=agruM.index.to_frame(name=['MesN','RUT','Abandonada','CANAL','SCORE PEP'])\n",
    "\n",
    "\n",
    "AG=AGR.index.to_frame(name=['MesN','RUT','CANAL','SCORE CLV','Abandonada'])"
   ]
  },
  {
   "cell_type": "code",
   "execution_count": 671,
   "metadata": {},
   "outputs": [],
   "source": [
    "agru2.index = range(agru2.shape[0])\n",
    "agruMM.index= range(agruMM.shape[0])\n",
    "AG.index= range(AG.shape[0])"
   ]
  },
  {
   "cell_type": "code",
   "execution_count": 672,
   "metadata": {},
   "outputs": [],
   "source": [
    "#CLV\n",
    "#DF=pd.DataFrame(agru2,columns=['Dia_MesN','RUT','Abandonada','CANAL','SCORE CLV'])\n",
    "#DFM=pd.DataFrame(agruMM,columns=['MesN','RUT','Abandonada','CANAL','SCORE CLV'])\n",
    "#PEP\n",
    "DF=pd.DataFrame(agru2,columns=['Dia_MesN','RUT','Abandonada','CANAL','SCORE PEP'])\n",
    "DFM=pd.DataFrame(agruMM,columns=['MesN','RUT','Abandonada','CANAL','SCORE PEP'])\n",
    "AGG=pd.DataFrame(agruMM,columns=['MesN','RUT','CANAL','SCORE PEP','Abandonada'])\n"
   ]
  },
  {
   "cell_type": "code",
   "execution_count": 673,
   "metadata": {},
   "outputs": [],
   "source": [
    "recib=pd.DataFrame(agru.values,columns=['count_CC'])\n",
    "recibM=pd.DataFrame(agruM.values,columns=['count_CC'])\n"
   ]
  },
  {
   "cell_type": "code",
   "execution_count": 674,
   "metadata": {},
   "outputs": [],
   "source": [
    "CX=pd.concat([DF,recib], axis=1,)\n",
    "CXM=pd.concat([DFM,recibM],axis=1)"
   ]
  },
  {
   "cell_type": "code",
   "execution_count": 675,
   "metadata": {},
   "outputs": [
    {
     "data": {
      "text/html": [
       "<div>\n",
       "<style scoped>\n",
       "    .dataframe tbody tr th:only-of-type {\n",
       "        vertical-align: middle;\n",
       "    }\n",
       "\n",
       "    .dataframe tbody tr th {\n",
       "        vertical-align: top;\n",
       "    }\n",
       "\n",
       "    .dataframe thead th {\n",
       "        text-align: right;\n",
       "    }\n",
       "</style>\n",
       "<table border=\"1\" class=\"dataframe\">\n",
       "  <thead>\n",
       "    <tr style=\"text-align: right;\">\n",
       "      <th></th>\n",
       "      <th>MesN</th>\n",
       "      <th>RUT</th>\n",
       "      <th>Abandonada</th>\n",
       "      <th>CANAL</th>\n",
       "      <th>SCORE PEP</th>\n",
       "      <th>count_CC</th>\n",
       "    </tr>\n",
       "  </thead>\n",
       "  <tbody>\n",
       "    <tr>\n",
       "      <th>0</th>\n",
       "      <td>5</td>\n",
       "      <td>CHAT</td>\n",
       "      <td>Chat</td>\n",
       "      <td>Chat</td>\n",
       "      <td>-3.0</td>\n",
       "      <td>13</td>\n",
       "    </tr>\n",
       "    <tr>\n",
       "      <th>1</th>\n",
       "      <td>5</td>\n",
       "      <td>CLOUND</td>\n",
       "      <td>No</td>\n",
       "      <td>Voz</td>\n",
       "      <td>-3.0</td>\n",
       "      <td>4</td>\n",
       "    </tr>\n",
       "    <tr>\n",
       "      <th>2</th>\n",
       "      <td>6</td>\n",
       "      <td>CHAT</td>\n",
       "      <td>Chat</td>\n",
       "      <td>Chat</td>\n",
       "      <td>-3.0</td>\n",
       "      <td>195181</td>\n",
       "    </tr>\n",
       "    <tr>\n",
       "      <th>3</th>\n",
       "      <td>6</td>\n",
       "      <td>CHAT</td>\n",
       "      <td>Chat</td>\n",
       "      <td>Chat</td>\n",
       "      <td>-1.0</td>\n",
       "      <td>3264</td>\n",
       "    </tr>\n",
       "    <tr>\n",
       "      <th>4</th>\n",
       "      <td>6</td>\n",
       "      <td>CHAT</td>\n",
       "      <td>Chat</td>\n",
       "      <td>Chat</td>\n",
       "      <td>4.0</td>\n",
       "      <td>9</td>\n",
       "    </tr>\n",
       "    <tr>\n",
       "      <th>...</th>\n",
       "      <td>...</td>\n",
       "      <td>...</td>\n",
       "      <td>...</td>\n",
       "      <td>...</td>\n",
       "      <td>...</td>\n",
       "      <td>...</td>\n",
       "    </tr>\n",
       "    <tr>\n",
       "      <th>226</th>\n",
       "      <td>9</td>\n",
       "      <td>ENGAGE</td>\n",
       "      <td>Si</td>\n",
       "      <td>Voz</td>\n",
       "      <td>-1.0</td>\n",
       "      <td>1</td>\n",
       "    </tr>\n",
       "    <tr>\n",
       "      <th>227</th>\n",
       "      <td>9</td>\n",
       "      <td>ENGAGE</td>\n",
       "      <td>Si</td>\n",
       "      <td>Voz</td>\n",
       "      <td>8.0</td>\n",
       "      <td>1</td>\n",
       "    </tr>\n",
       "    <tr>\n",
       "      <th>228</th>\n",
       "      <td>9</td>\n",
       "      <td>ENGAGE</td>\n",
       "      <td>Si</td>\n",
       "      <td>Voz</td>\n",
       "      <td>10.0</td>\n",
       "      <td>3</td>\n",
       "    </tr>\n",
       "    <tr>\n",
       "      <th>229</th>\n",
       "      <td>9</td>\n",
       "      <td>ENGAGE</td>\n",
       "      <td>Si</td>\n",
       "      <td>Voz</td>\n",
       "      <td>11.0</td>\n",
       "      <td>1</td>\n",
       "    </tr>\n",
       "    <tr>\n",
       "      <th>230</th>\n",
       "      <td>9</td>\n",
       "      <td>ENGAGE</td>\n",
       "      <td>Si</td>\n",
       "      <td>Voz</td>\n",
       "      <td>12.0</td>\n",
       "      <td>2</td>\n",
       "    </tr>\n",
       "  </tbody>\n",
       "</table>\n",
       "<p>231 rows × 6 columns</p>\n",
       "</div>"
      ],
      "text/plain": [
       "     MesN     RUT Abandonada CANAL  SCORE PEP  count_CC\n",
       "0       5    CHAT       Chat  Chat       -3.0        13\n",
       "1       5  CLOUND         No   Voz       -3.0         4\n",
       "2       6    CHAT       Chat  Chat       -3.0    195181\n",
       "3       6    CHAT       Chat  Chat       -1.0      3264\n",
       "4       6    CHAT       Chat  Chat        4.0         9\n",
       "..    ...     ...        ...   ...        ...       ...\n",
       "226     9  ENGAGE         Si   Voz       -1.0         1\n",
       "227     9  ENGAGE         Si   Voz        8.0         1\n",
       "228     9  ENGAGE         Si   Voz       10.0         3\n",
       "229     9  ENGAGE         Si   Voz       11.0         1\n",
       "230     9  ENGAGE         Si   Voz       12.0         2\n",
       "\n",
       "[231 rows x 6 columns]"
      ]
     },
     "execution_count": 675,
     "metadata": {},
     "output_type": "execute_result"
    }
   ],
   "source": [
    "CXM"
   ]
  },
  {
   "cell_type": "code",
   "execution_count": 676,
   "metadata": {},
   "outputs": [],
   "source": [
    "#CX.to_excel('TABLE_SCORE_CLV_DIA.xlsx')\n",
    "\n",
    "CX.to_excel('TABLE_SCORE_PEP_DIA.xlsx')"
   ]
  },
  {
   "cell_type": "code",
   "execution_count": 677,
   "metadata": {},
   "outputs": [],
   "source": [
    "#CLV\n",
    "#CXM.to_excel('Table_SCORE_CLV_MES.xlsx')\n",
    "\n",
    "\n",
    "#PEP\n",
    "CXM.to_excel('Table_SCORE_PEP_MES.xlsx')"
   ]
  },
  {
   "cell_type": "markdown",
   "metadata": {},
   "source": [
    "___\n"
   ]
  },
  {
   "cell_type": "markdown",
   "metadata": {},
   "source": [
    "## RESUMEN SI NO HUBIERA QUE HACER ETL"
   ]
  },
  {
   "cell_type": "code",
   "execution_count": null,
   "metadata": {},
   "outputs": [],
   "source": [
    "CLV.rename(columns={'Cedula':'NRO_IDENTIFICACION'},inplace=True)\n",
    "SCORE_P=pd.DataFrame(SCORE,columns=['NRO_IDENTIFICACION', 'SCORE_PRIORIDAD'])\n",
    "df = pd.merge(CLV,SCORE_P,on=['NRO_IDENTIFICACION'],how='left')"
   ]
  }
 ],
 "metadata": {
  "kernelspec": {
   "display_name": "Python 3.9.12 ('base')",
   "language": "python",
   "name": "python3"
  },
  "language_info": {
   "codemirror_mode": {
    "name": "ipython",
    "version": 3
   },
   "file_extension": ".py",
   "mimetype": "text/x-python",
   "name": "python",
   "nbconvert_exporter": "python",
   "pygments_lexer": "ipython3",
   "version": "3.9.12 (main, Apr  4 2022, 05:22:27) [MSC v.1916 64 bit (AMD64)]"
  },
  "orig_nbformat": 4,
  "vscode": {
   "interpreter": {
    "hash": "ad2bdc8ecc057115af97d19610ffacc2b4e99fae6737bb82f5d7fb13d2f2c186"
   }
  }
 },
 "nbformat": 4,
 "nbformat_minor": 2
}
